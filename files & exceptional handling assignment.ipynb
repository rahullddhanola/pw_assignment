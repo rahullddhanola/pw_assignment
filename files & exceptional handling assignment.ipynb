{
 "cells": [
  {
   "cell_type": "markdown",
   "id": "001be301-94ea-4496-b0b0-cc031bf59d6e",
   "metadata": {},
   "source": [
    "# Theory Questions"
   ]
  },
  {
   "cell_type": "code",
   "execution_count": null,
   "id": "51de74fd-6ff4-4d5b-b647-a6707c354672",
   "metadata": {},
   "outputs": [],
   "source": [
    "#Q1.What is the difference between interpreted and compiled languages ?\n",
    "'''Compiled languages translate the entire code into machine code before execution, making them faster but requiring a separate \n",
    "compilation step (e.g., C, C++).\n",
    "Interpreted languages execute code line-by-line at runtime, making development quicker but usually slower in execution (e.g., Python, JavaScript).'''"
   ]
  },
  {
   "cell_type": "code",
   "execution_count": null,
   "id": "8c1e615d-efd0-485a-a94e-19e2ed1c4beb",
   "metadata": {},
   "outputs": [],
   "source": [
    "#Q2.What is exception handling in Python ?\n",
    "'''Exception handling in Python is a way to manage errors that occur during program execution without crashing the program.\n",
    "It uses keywords like try, except, else, and finally to detect exceptions, handle them gracefully, and optionally run cleanup code.'''"
   ]
  },
  {
   "cell_type": "code",
   "execution_count": null,
   "id": "2ac469d6-618b-494a-97e3-cbd578753fad",
   "metadata": {},
   "outputs": [],
   "source": [
    "#Q3.What is the purpose of the finally block in exception handling ?\n",
    "'''In Python’s exception handling, the finally block is used to specify code that should always run, no matter whether an exception occurred or not.\n",
    "It’s typically used for cleanup tasks like closing files, releasing resources, or ending database connections.'''"
   ]
  },
  {
   "cell_type": "code",
   "execution_count": null,
   "id": "7673fbfd-e0ac-4ece-82fa-09be6ab068d1",
   "metadata": {},
   "outputs": [],
   "source": [
    "#Q4.What is logging in Python ?\n",
    "'''Logging in Python is the process of recording messages (such as errors, warnings, or status updates) from a program so \n",
    "you can monitor its behavior and debug issues.\n",
    "It’s done using the built-in logging module, which lets you write logs to the console, files, or other destinations with different severity \n",
    "levels (DEBUG, INFO, WARNING, ERROR, CRITICAL).'''"
   ]
  },
  {
   "cell_type": "code",
   "execution_count": null,
   "id": "d38d11ec-110e-4b87-ba1b-bdd66065968c",
   "metadata": {},
   "outputs": [],
   "source": [
    "#Q5.What is the significance of the __del__ method in Python ?\n",
    "'''In Python, the __del__ method is a destructor — it’s called automatically when an object is about to be destroyed \n",
    "(i.e., when it’s no longer referenced and garbage collected).\n",
    "Its main purpose is to perform cleanup tasks like closing files, releasing network connections, or freeing resources before the \n",
    "object is removed from memory.'''"
   ]
  },
  {
   "cell_type": "code",
   "execution_count": null,
   "id": "cd970b32-c8a2-4c5c-8d4d-6280e01a851f",
   "metadata": {},
   "outputs": [],
   "source": [
    "#Q6.What is the difference between import and from ... import in Python?\n",
    "'''`import module` loads the entire module, and you access its items with the module name (e.g., `math.sqrt(16)`).\n",
    "`from module import name` loads specific items directly, so you can use them without the module prefix (e.g., `sqrt(16)`).'''\n"
   ]
  },
  {
   "cell_type": "code",
   "execution_count": null,
   "id": "a4a81196-c526-46a4-8b31-0efd2ffc68d2",
   "metadata": {},
   "outputs": [],
   "source": [
    "#Q7.How can you handle multiple exceptions in Python?\n",
    "'''You can handle multiple exceptions by using **separate `except` blocks** for each error type or by **grouping them in a tuple \n",
    "within a single `except` block.\n",
    "Example: `except (ValueError, ZeroDivisionError) as e:` handles both errors together.'''\n"
   ]
  },
  {
   "cell_type": "code",
   "execution_count": null,
   "id": "48c89d57-bdd8-498b-807e-6e9cf5016456",
   "metadata": {},
   "outputs": [],
   "source": [
    "#Q8.What is the purpose of the with statement when handling files in Python ?\n",
    "'''The with statement in Python ensures that a file is automatically closed after its block of code finishes, even if an error occurs.\n",
    "It simplifies resource management and avoids manually calling file.close().'''"
   ]
  },
  {
   "cell_type": "code",
   "execution_count": null,
   "id": "97f24cc0-ec02-4fb0-abad-837fcedfa499",
   "metadata": {},
   "outputs": [],
   "source": [
    "#Q9.What is the difference between multithreading and multiprocessing ?\n",
    "'''**Multithreading** uses multiple threads within the same process, sharing the same memory space — good for I/O-bound tasks but limited by Python’s\n",
    "GIL for CPU-bound work.\n",
    "**Multiprocessing** uses multiple processes, each with its own memory space — ideal for CPU-bound tasks since it bypasses the GIL but uses more memory.\n"
   ]
  },
  {
   "cell_type": "code",
   "execution_count": null,
   "id": "646283b7-38ff-4bd7-9d25-9c9667d04171",
   "metadata": {},
   "outputs": [],
   "source": [
    "#Q10.What are the advantages of using logging in a program ?\n",
    "'''\n",
    "Advantages of using logging in a program:\n",
    "\n",
    "1. **Tracks events** — records what happens during program execution for debugging and monitoring.\n",
    "2. **Persistent records** — can save logs to files for later analysis.\n",
    "3. **Adjustable detail** — supports different levels (DEBUG, INFO, WARNING, ERROR, CRITICAL).\n",
    "4. **Better than `print()`** — more flexible, configurable, and can log to multiple destinations.'''\n"
   ]
  },
  {
   "cell_type": "code",
   "execution_count": null,
   "id": "1decbb00-23fc-43b7-89d5-a0abac1e2f6e",
   "metadata": {},
   "outputs": [],
   "source": [
    "#Q11.What is memory management in Python ?\n",
    "'''Memory management in Python refers to how Python **allocates, uses, and frees memory** for objects during a program’s execution.\n",
    "It’s handled automatically by the **Python memory manager** and **garbage collector**, which uses **reference counting** and a **cyclic \n",
    "garbage collector** to reclaim unused memory.'''"
   ]
  },
  {
   "cell_type": "code",
   "execution_count": null,
   "id": "608a4d79-89e0-49d0-b5c4-e299e403903b",
   "metadata": {},
   "outputs": [],
   "source": [
    "#Q12.What are the basic steps involved in exception handling in Python ?\n",
    "'''\n",
    "The basic steps in Python exception handling are:\n",
    "\n",
    "1. **`try`** — wrap code that may raise an exception.\n",
    "2. **`except`** — handle the exception if it occurs.\n",
    "3. **`else`** *(optional)* — run code if no exception occurred.\n",
    "4. **`finally`** *(optional)* — run cleanup code regardless of exceptions.'''\n"
   ]
  },
  {
   "cell_type": "code",
   "execution_count": null,
   "id": "50f82540-ff69-4c7c-9cc6-946a638d199f",
   "metadata": {},
   "outputs": [],
   "source": [
    "#Q13.Why is memory management important in Python ?\n",
    "'''Memory management is important in Python because it ensures **efficient use of system memory**, prevents **memory leaks**, and\n",
    "maintains **program performance and stability**.\n",
    "Without proper memory handling, programs can slow down, crash, or exhaust available resources.'''\n"
   ]
  },
  {
   "cell_type": "code",
   "execution_count": null,
   "id": "0a8fae4d-374f-4424-a6df-cf7e4e22c341",
   "metadata": {},
   "outputs": [],
   "source": [
    "#Q14.What is the role of try and except in exception handling ?\n",
    "'''In Python exception handling, **`try`** contains code that might raise an exception, and **`except`** catches and handles \n",
    "the exception if it occurs, preventing the program from crashing.'''"
   ]
  },
  {
   "cell_type": "code",
   "execution_count": null,
   "id": "6f4d8a68-02ad-48a0-9ed1-d219eda82a67",
   "metadata": {},
   "outputs": [],
   "source": [
    "#Q15.How does Python's garbage collection system work ?\n",
    "'''Python’s garbage collection works mainly through **reference counting** — each object tracks how many references point to it, \n",
    "and when the count hits zero, the memory is freed.\n",
    "It also has a **cyclic garbage collector** that detects and removes objects involved in reference cycles \n",
    "(where objects reference each other, preventing count from reaching zero).'''\n"
   ]
  },
  {
   "cell_type": "code",
   "execution_count": null,
   "id": "ab602bf4-66a4-40ac-a6f2-89b8117ca78a",
   "metadata": {},
   "outputs": [],
   "source": [
    "#Q16.What is the purpose of the else block in exception handling ?\n",
    "'''In Python exception handling, the **`else`** block runs **only if no exception occurs** in the `try` block.\n",
    "It’s typically used for code that should execute when the `try` block succeeds without errors.'''\n"
   ]
  },
  {
   "cell_type": "code",
   "execution_count": null,
   "id": "1c5da771-613f-49af-9a77-59ac3b079cf4",
   "metadata": {},
   "outputs": [],
   "source": [
    "#Q17.What are the common logging levels in Python ?\n",
    "'''The common logging levels in Python are:\n",
    "\n",
    "1. **DEBUG** – Detailed diagnostic information for debugging.\n",
    "2. **INFO** – General confirmation that things are working.\n",
    "3. **WARNING** – Something unexpected happened, but the program can still run.\n",
    "4. **ERROR** – A serious problem occurred; some functionality failed.\n",
    "5. **CRITICAL** – A severe error that may cause the program to stop.'''\n"
   ]
  },
  {
   "cell_type": "code",
   "execution_count": null,
   "id": "1b8c42d4-9f76-40c2-bcfd-2e0be9d5a2d6",
   "metadata": {},
   "outputs": [],
   "source": [
    "#Q18.What is the difference between os.fork() and multiprocessing in Python ?\n",
    "'''os.fork()` creates a new child process by duplicating the current process at the operating system level — it’s low-level, \n",
    "works only on Unix-like systems, and requires manual handling of communication between processes.\n",
    "\n",
    "multiprocessing` is a high-level Python module that works cross-platform, abstracts process creation, and provides built-in tools \n",
    "for communication, synchronization, and shared data handling between processes.'''\n"
   ]
  },
  {
   "cell_type": "code",
   "execution_count": null,
   "id": "2bbe09b1-15da-40cc-ac5b-7062209ba21c",
   "metadata": {},
   "outputs": [],
   "source": [
    "#Q19.What is the importance of closing a file in Python ?\n",
    "'''Closing a file in Python is important because it **frees system resources**, ensures **data is fully written to disk\n",
    "(flushed), and prevents **file corruption** or access issues.'''\n"
   ]
  },
  {
   "cell_type": "code",
   "execution_count": null,
   "id": "bc0c7369-0f74-47a3-999f-bf59bc0e35b9",
   "metadata": {},
   "outputs": [],
   "source": [
    "#Q20.What is the difference between file.read() and file.readline() in Python ?\n",
    "'''`file.read()` reads **the entire file** (or a specified number of characters/bytes) as a single string, \n",
    "while `file.readline()` reads **only one line** from the file at a time.'''\n"
   ]
  },
  {
   "cell_type": "code",
   "execution_count": null,
   "id": "d71ec648-cfd8-4411-bbdd-6cfeb3916e18",
   "metadata": {},
   "outputs": [],
   "source": [
    "#Q21.What is the logging module in Python used for ?\n",
    "'''The **`logging`** module in Python is used to **record messages** from a program, such as debugging info, warnings, errors, \n",
    "or status updates, to the console, files, or other outputs — helping in monitoring, troubleshooting, and auditing program execution.'''\n"
   ]
  },
  {
   "cell_type": "code",
   "execution_count": null,
   "id": "8d6902f6-d05e-4b31-af5b-8ee9a054ab09",
   "metadata": {},
   "outputs": [],
   "source": [
    "#Q22.What is the os module in Python used for in file handling ?\n",
    "'''The **`os`** module in Python provides functions to interact with the operating system, enabling file and directory handling tasks \n",
    "like **creating, deleting, renaming, and navigating directories**, as well as **checking file paths and permissions**.'''\n"
   ]
  },
  {
   "cell_type": "code",
   "execution_count": null,
   "id": "998b9c0f-4017-4740-ae27-5f9ff2b33222",
   "metadata": {},
   "outputs": [],
   "source": [
    "#Q23.What are the challenges associated with memory management in Python ?\n",
    "'''\n",
    "Challenges with memory management in Python include:\n",
    "\n",
    "1. **Garbage collection overhead** – can impact performance.\n",
    "2. **Reference cycles** – objects referencing each other may delay memory release.\n",
    "3. **Memory leaks** – caused by lingering references or global variables.\n",
    "4. **High memory usage** – Python objects often use more memory than equivalent C structures.'''\n"
   ]
  },
  {
   "cell_type": "code",
   "execution_count": null,
   "id": "57aea811-f170-49be-8087-be5abdcf52cd",
   "metadata": {},
   "outputs": [],
   "source": [
    "#Q24. How do you raise an exception manually in Python ?\n",
    "'''\n",
    "You can raise an exception manually in Python using the **`raise`** statement with an exception class or instance.\n",
    "\n",
    "Example:\n",
    "\n",
    "```python\n",
    "raise ValueError(\"Invalid input!\")\n",
    "```\n",
    "This immediately stops execution and triggers the specified exception.'''\n"
   ]
  },
  {
   "cell_type": "code",
   "execution_count": null,
   "id": "c4286328-ae32-4491-a1a4-c217900e38ec",
   "metadata": {},
   "outputs": [],
   "source": [
    "#25.Why is it important to use multithreading in certain applications ?\n",
    "'''Multithreading is important in certain applications because it allows **multiple tasks to run concurrently within the \n",
    "same process**, improving responsiveness and efficiency — especially for **I/O-bound tasks** like network requests, \n",
    "file operations, or user interface updates.\n",
    "It helps keep programs responsive while waiting for slow operations to finish.'''\n"
   ]
  },
  {
   "cell_type": "markdown",
   "id": "6398d36f-def2-42b2-a762-e0daa7865b40",
   "metadata": {},
   "source": [
    "# Practical Questions"
   ]
  },
  {
   "cell_type": "code",
   "execution_count": 1,
   "id": "65f434e6-16fc-470b-a006-98e4b22d28a7",
   "metadata": {},
   "outputs": [],
   "source": [
    "#Q1.How can you open a file for writing in Python and write a string to it ?\n",
    "file = open(\"pw.txt\",\"w\")\n",
    "file.write(\"Hello pwskills\")\n",
    "file.close()"
   ]
  },
  {
   "cell_type": "code",
   "execution_count": 3,
   "id": "9ba0bd1a-6c7c-40f5-bcc8-5d37155dfa89",
   "metadata": {},
   "outputs": [
    {
     "name": "stdout",
     "output_type": "stream",
     "text": [
      "Hello pwskills\n",
      "my name is Rahul\n"
     ]
    }
   ],
   "source": [
    "#Q2.Write a Python program to read the contents of a file and print each line ?\n",
    "\n",
    "with open(\"pw.txt\", \"r\") as file:\n",
    "    for line in file:\n",
    "        print(line.strip()) \n"
   ]
  },
  {
   "cell_type": "code",
   "execution_count": 5,
   "id": "046140b1-78a2-4baa-91b0-c85e65f8bef4",
   "metadata": {},
   "outputs": [
    {
     "name": "stdout",
     "output_type": "stream",
     "text": [
      "Error: The file does not exist. Please check the file name or path.\n"
     ]
    }
   ],
   "source": [
    "#Q3.How would you handle a case where the file doesn't exist while trying to open it for reading ?\n",
    "try:\n",
    "    with open(\"pwskills.txt\", \"r\") as file:\n",
    "        for line in file:\n",
    "            print(line.strip())\n",
    "except FileNotFoundError:\n",
    "    print(\"Error: The file does not exist. Please check the file name or path.\")\n"
   ]
  },
  {
   "cell_type": "code",
   "execution_count": 7,
   "id": "c6912df8-8e55-4963-b1c2-c62b66d5a996",
   "metadata": {},
   "outputs": [
    {
     "name": "stdout",
     "output_type": "stream",
     "text": [
      "File copied successfully!\n"
     ]
    }
   ],
   "source": [
    "#Q4.Write a Python script that reads from one file and writes its content to another file ?\n",
    "\n",
    "try:\n",
    "    with open(\"pw.txt\", \"r\") as src_file:\n",
    "        with open(\"destination.txt\", \"w\") as dest_file:\n",
    "            for line in src_file:\n",
    "                dest_file.write(line)\n",
    "    print(\"File copied successfully!\")\n",
    "except FileNotFoundError:\n",
    "    print(\"Error: The source file does not exist.\")\n"
   ]
  },
  {
   "cell_type": "code",
   "execution_count": 8,
   "id": "cae623bf-e6c7-4df9-93ac-9274fd057896",
   "metadata": {},
   "outputs": [
    {
     "name": "stdout",
     "output_type": "stream",
     "text": [
      "Error: Cannot divide by zero.\n"
     ]
    }
   ],
   "source": [
    "#Q5.How would you catch and handle division by zero error in Python ?\n",
    "try:\n",
    "    numerator = 10\n",
    "    denominator = 0\n",
    "    result = numerator / denominator\n",
    "    print(\"Result:\", result)\n",
    "except ZeroDivisionError:\n",
    "    print(\"Error: Cannot divide by zero.\")\n"
   ]
  },
  {
   "cell_type": "code",
   "execution_count": 9,
   "id": "3f32cb05-c34f-4812-ae1b-759b0f915b13",
   "metadata": {},
   "outputs": [
    {
     "name": "stdout",
     "output_type": "stream",
     "text": [
      "An error occurred. Check error.log for details.\n"
     ]
    }
   ],
   "source": [
    "#Q6.Write a Python program that logs an error message to a log file when a division by zero exception occurs ?\n",
    "import logging\n",
    "\n",
    "logging.basicConfig(\n",
    "    filename=\"error.log\",   \n",
    "    level=logging.ERROR,       \n",
    "    format=\"%(asctime)s - %(levelname)s - %(message)s\"\n",
    ")\n",
    "\n",
    "try:\n",
    "    numerator = 10\n",
    "    denominator = 0\n",
    "    result = numerator / denominator\n",
    "except ZeroDivisionError as e:\n",
    "    logging.error(\"Division by zero error occurred: %s\", e)\n",
    "    print(\"An error occurred. Check error.log for details.\")\n"
   ]
  },
  {
   "cell_type": "code",
   "execution_count": 24,
   "id": "8c344572-2ed6-4b3a-80fa-4b4b27246d8d",
   "metadata": {},
   "outputs": [
    {
     "name": "stdout",
     "output_type": "stream",
     "text": [
      "2025-08-13 11:39:04,163 - INFO - Program started successfully.\n",
      "2025-08-13 11:39:04,164 - WARNING - Low disk space detected.\n",
      "2025-08-13 11:39:04,164 - ERROR - Failed to open configuration file.\n",
      "\n"
     ]
    }
   ],
   "source": [
    "#Q7.How do you log information at different levels (INFO, ERROR, WARNING) in Python using the logging module ?\n",
    "\n",
    "import logging\n",
    "import os\n",
    "\n",
    "for handler in logging.root.handlers[:]:\n",
    "    logging.root.removeHandler(handler)\n",
    "\n",
    "log_path = os.path.join(os.getcwd(), \"app.log\")\n",
    "\n",
    "logging.basicConfig(\n",
    "    filename=log_path,\n",
    "    filemode=\"w\",\n",
    "    level=logging.DEBUG,\n",
    "    format=\"%(asctime)s - %(levelname)s - %(message)s\"\n",
    ")\n",
    "\n",
    "logging.info(\"Program started successfully.\")\n",
    "logging.warning(\"Low disk space detected.\")\n",
    "logging.error(\"Failed to open configuration file.\")\n",
    "\n",
    "logging.shutdown()\n",
    "\n",
    "with open(log_path, \"r\") as file:\n",
    "    print(file.read())\n"
   ]
  },
  {
   "cell_type": "code",
   "execution_count": 27,
   "id": "3488903b-9aa5-40ae-a4ca-dd84a3894bdf",
   "metadata": {},
   "outputs": [
    {
     "name": "stdout",
     "output_type": "stream",
     "text": [
      "Error: The file 'example.txt' does not exist. Please check the file name or path.\n"
     ]
    }
   ],
   "source": [
    "#Q8.Write a program to handle a file opening error using exception handling ?\n",
    "try:\n",
    "    with open(\"team.txt\", \"r\") as file:\n",
    "        content = file.read()\n",
    "        print(\"File contents:\\n\", content)\n",
    "\n",
    "except FileNotFoundError:\n",
    "    print(\"Error: The file 'example.txt' does not exist. Please check the file name or path.\")\n",
    "\n",
    "except PermissionError:\n",
    "    print(\"Error: You do not have permission to read this file.\")\n",
    "\n",
    "except Exception as e:\n",
    "    # Catch any other exceptions\n",
    "    print(f\"An unexpected error occurred: {e}\")\n"
   ]
  },
  {
   "cell_type": "code",
   "execution_count": 28,
   "id": "e5383480-891c-4197-b364-f542087306fe",
   "metadata": {},
   "outputs": [
    {
     "name": "stdout",
     "output_type": "stream",
     "text": [
      "['Hello pwskills\\n', 'my name is Rahul']\n"
     ]
    }
   ],
   "source": [
    "#Q9.How can you read a file line by line and store its content in a list in Python ?\n",
    "with open(\"pw.txt\", \"r\") as file:\n",
    "    lines = file.readlines() \n",
    "\n",
    "print(lines) \n"
   ]
  },
  {
   "cell_type": "code",
   "execution_count": 29,
   "id": "a142907c-600c-491e-8a0c-08dfa2728542",
   "metadata": {},
   "outputs": [
    {
     "name": "stdout",
     "output_type": "stream",
     "text": [
      "Data appended successfully!\n"
     ]
    }
   ],
   "source": [
    "#Q10.How can you append data to an existing file in Python ?\n",
    "# Open file in append mode\n",
    "with open(\"pw.txt\", \"a\") as file:\n",
    "    file.write(\"\\nThis is new appended text.\")\n",
    "\n",
    "print(\"Data appended successfully!\")\n"
   ]
  },
  {
   "cell_type": "code",
   "execution_count": 30,
   "id": "b3496e9d-77a9-4788-bdd7-6dcf88c2cf4e",
   "metadata": {},
   "outputs": [
    {
     "name": "stdout",
     "output_type": "stream",
     "text": [
      "Error: The key 'David' does not exist in the dictionary.\n"
     ]
    }
   ],
   "source": [
    "#Q11.Write a Python program that uses a try-except block to handle an error when attempting to access a dictionary key that doesn't exist ?\n",
    "student_scores = {\n",
    "    \"Alice\": 85,\n",
    "    \"Bob\": 90,\n",
    "    \"Charlie\": 78\n",
    "}\n",
    "\n",
    "try:\n",
    "    # Try to access a key that may not exist\n",
    "    score = student_scores[\"David\"]\n",
    "    print(f\"David's score is {score}\")\n",
    "\n",
    "except KeyError:\n",
    "    print(\"Error: The key 'David' does not exist in the dictionary.\")\n"
   ]
  },
  {
   "cell_type": "code",
   "execution_count": 31,
   "id": "f3c1084c-fae3-449f-8f53-cceb0821db0d",
   "metadata": {},
   "outputs": [
    {
     "name": "stdin",
     "output_type": "stream",
     "text": [
      "Enter first number:  4\n",
      "Enter second number:  5\n"
     ]
    },
    {
     "name": "stdout",
     "output_type": "stream",
     "text": [
      "Error: The specified key does not exist in the dictionary.\n",
      "Execution complete.\n"
     ]
    }
   ],
   "source": [
    "#Q12.Write a program that demonstrates using multiple except blocks to handle different types of exceptions ?\n",
    "try:\n",
    "    \n",
    "    num1 = int(input(\"Enter first number: \"))\n",
    "    num2 = int(input(\"Enter second number: \"))\n",
    "\n",
    "    \n",
    "    result = num1 / num2\n",
    "\n",
    "    \n",
    "    data = {\"a\": 1, \"b\": 2}\n",
    "    print(\"Value for key 'c':\", data[\"c\"])\n",
    "\n",
    "except ValueError:\n",
    "    print(\"Error: Please enter only numeric values.\")\n",
    "\n",
    "except ZeroDivisionError:\n",
    "    print(\"Error: Division by zero is not allowed.\")\n",
    "\n",
    "except KeyError:\n",
    "    print(\"Error: The specified key does not exist in the dictionary.\")\n",
    "\n",
    "except Exception as e:\n",
    "    print(f\"An unexpected error occurred: {e}\")\n",
    "\n",
    "else:\n",
    "    print(\"Division result:\", result)\n",
    "\n",
    "finally:\n",
    "    print(\"Execution complete.\")\n"
   ]
  },
  {
   "cell_type": "code",
   "execution_count": 32,
   "id": "9852aaa8-34c3-4d44-8c89-f2279c599dc7",
   "metadata": {},
   "outputs": [
    {
     "name": "stdout",
     "output_type": "stream",
     "text": [
      "Hello pwskills\n",
      "my name is Rahul\n",
      "This is new appended text.\n"
     ]
    }
   ],
   "source": [
    "#Q13.How would you check if a file exists before attempting to read it in Python ?\n",
    "import os\n",
    "\n",
    "file_path = \"pw.txt\"\n",
    "\n",
    "if os.path.exists(file_path):\n",
    "    with open(file_path, \"r\") as file:\n",
    "        print(file.read())\n",
    "else:\n",
    "    print(f\"Error: '{file_path}' does not exist.\")\n"
   ]
  },
  {
   "cell_type": "code",
   "execution_count": 34,
   "id": "28ee6d19-7731-4fbd-a945-00f535d0b5ba",
   "metadata": {},
   "outputs": [
    {
     "name": "stderr",
     "output_type": "stream",
     "text": [
      "2025-08-13 11:48:42,208 - INFO - Program started successfully.\n",
      "2025-08-13 11:48:42,210 - ERROR - Attempted division by zero.\n",
      "2025-08-13 11:48:42,213 - INFO - Program finished.\n"
     ]
    },
    {
     "name": "stdout",
     "output_type": "stream",
     "text": [
      "\n",
      "===== Contents of app.log =====\n",
      "2025-08-13 11:39:04,163 - INFO - Program started successfully.\n",
      "2025-08-13 11:39:04,164 - WARNING - Low disk space detected.\n",
      "2025-08-13 11:39:04,164 - ERROR - Failed to open configuration file.\n",
      "2025-08-13 11:48:42,208 - INFO - Program started successfully.\n",
      "2025-08-13 11:48:42,210 - ERROR - Attempted division by zero.\n",
      "2025-08-13 11:48:42,213 - INFO - Program finished.\n",
      "\n"
     ]
    }
   ],
   "source": [
    "#Q14.Write a program that uses the logging module to log both informational and error messages ?\n",
    "import logging\n",
    "import os\n",
    "\n",
    "# Create a logger\n",
    "logger = logging.getLogger()\n",
    "logger.setLevel(logging.DEBUG)\n",
    "\n",
    "# File handler\n",
    "file_handler = logging.FileHandler(\"app.log\")\n",
    "file_handler.setLevel(logging.DEBUG)\n",
    "\n",
    "# Console handler\n",
    "console_handler = logging.StreamHandler()\n",
    "console_handler.setLevel(logging.DEBUG)\n",
    "\n",
    "# Formatter\n",
    "formatter = logging.Formatter(\"%(asctime)s - %(levelname)s - %(message)s\")\n",
    "file_handler.setFormatter(formatter)\n",
    "console_handler.setFormatter(formatter)\n",
    "\n",
    "# Add handlers to logger\n",
    "logger.addHandler(file_handler)\n",
    "logger.addHandler(console_handler)\n",
    "\n",
    "# Log messages\n",
    "logger.info(\"Program started successfully.\")\n",
    "\n",
    "try:\n",
    "    num1 = 10\n",
    "    num2 = 0\n",
    "    result = num1 / num2\n",
    "    logger.info(f\"Division result: {result}\")\n",
    "\n",
    "except ZeroDivisionError:\n",
    "    logger.error(\"Attempted division by zero.\")\n",
    "\n",
    "logger.info(\"Program finished.\")\n",
    "\n",
    "# Ensure logs are written before reading file\n",
    "logging.shutdown()\n",
    "\n",
    "# Print app.log content if it exists\n",
    "if os.path.exists(\"app.log\"):\n",
    "    print(\"\\n===== Contents of app.log =====\")\n",
    "    with open(\"app.log\", \"r\") as file:\n",
    "        print(file.read())\n",
    "else:\n",
    "    print(\"Log file not found.\")\n",
    "\n"
   ]
  },
  {
   "cell_type": "code",
   "execution_count": 36,
   "id": "c70e7203-2ce6-4485-a844-5477942990f1",
   "metadata": {},
   "outputs": [
    {
     "name": "stdout",
     "output_type": "stream",
     "text": [
      "=== File Content ===\n",
      "Hello pwskills\n",
      "my name is Rahul\n",
      "This is new appended text.\n"
     ]
    }
   ],
   "source": [
    "#Q15.Write a Python program that prints the content of a file and handles the case when the file is empty ?\n",
    "import os\n",
    "\n",
    "filename = \"pw.txt\"  # Replace with your file name\n",
    "\n",
    "try:\n",
    "    # Check if file exists\n",
    "    if not os.path.exists(filename):\n",
    "        print(f\"Error: The file '{filename}' does not exist.\")\n",
    "    else:\n",
    "        with open(filename, \"r\") as file:\n",
    "            content = file.read()\n",
    "\n",
    "            if content.strip() == \"\":\n",
    "                print(f\"The file '{filename}' is empty.\")\n",
    "            else:\n",
    "                print(\"=== File Content ===\")\n",
    "                print(content)\n",
    "\n",
    "except Exception as e:\n",
    "    print(f\"An error occurred: {e}\")\n"
   ]
  },
  {
   "cell_type": "code",
   "execution_count": 49,
   "id": "3195563c-50b7-4434-a66e-efae89b4afee",
   "metadata": {},
   "outputs": [
    {
     "name": "stdout",
     "output_type": "stream",
     "text": [
      "The memory_profiler extension is already loaded. To reload it, use:\n",
      "  %reload_ext memory_profiler\n",
      "ERROR: Could not find file C:\\Users\\Asus\\AppData\\Local\\Temp\\ipykernel_20396\\1564602796.py\n",
      "Execution Time: 1.5694 seconds\n",
      "\n"
     ]
    },
    {
     "data": {
      "text/plain": []
     },
     "metadata": {},
     "output_type": "display_data"
    }
   ],
   "source": [
    "#Q16.Demonstrate how to use memory profiling to check the memory usage of a small program ?\n",
    "# 1️⃣ Load memory profiler extension\n",
    "%load_ext memory_profiler\n",
    "\n",
    "import time\n",
    "\n",
    "# 2️⃣ Define the function we want to profile\n",
    "def create_large_list():\n",
    "    start_time = time.perf_counter()   # Start timer\n",
    "    \n",
    "    numbers = [i for i in range(1_000_000)]  # Create large list\n",
    "    \n",
    "    end_time = time.perf_counter()     # End timer\n",
    "    print(f\"Execution Time: {end_time - start_time:.4f} seconds\")\n",
    "    \n",
    "    return numbers\n",
    "\n",
    "def main():\n",
    "    data = create_large_list()\n",
    "    print(f\"List created with {len(data)} elements.\")\n",
    "\n",
    "%mprun -f create_large_list create_large_list()\n"
   ]
  },
  {
   "cell_type": "code",
   "execution_count": 50,
   "id": "f51836ba-ed5e-4b5b-85b8-70c9023c0a42",
   "metadata": {},
   "outputs": [
    {
     "name": "stdout",
     "output_type": "stream",
     "text": [
      "Numbers have been written to numbers.txt\n"
     ]
    }
   ],
   "source": [
    "#Q17.Write a Python program to create and write a list of numbers to a file, one number per line ?\n",
    "# List of numbers\n",
    "numbers = [1, 2, 3, 4, 5, 10, 20, 30]\n",
    "\n",
    "# File name\n",
    "filename = \"numbers.txt\"\n",
    "\n",
    "try:\n",
    "    with open(filename, \"w\") as file:\n",
    "        for number in numbers:\n",
    "            file.write(str(number) + \"\\n\")\n",
    "    print(f\"Numbers have been written to {filename}\")\n",
    "\n",
    "except Exception as e:\n",
    "    print(f\"An error occurred: {e}\")\n"
   ]
  },
  {
   "cell_type": "code",
   "execution_count": 1,
   "id": "1cf42986-e47f-4500-961c-2db1ce27c7ad",
   "metadata": {},
   "outputs": [
    {
     "name": "stdout",
     "output_type": "stream",
     "text": [
      "✅ Logging complete!\n",
      "rotating.log size: 262600 bytes\n",
      "rotating.log.1 size: 999790 bytes\n"
     ]
    }
   ],
   "source": [
    "#Q18.How would you implement a basic logging setup that logs to a file with rotation after 1MB ?\n",
    "import logging\n",
    "from logging.handlers import RotatingFileHandler\n",
    "import os\n",
    "\n",
    "# Configure RotatingFileHandler for 1 MB rotation\n",
    "handler = RotatingFileHandler(\n",
    "    \"rotating.log\",\n",
    "    maxBytes=1_000_000,  # 1 MB\n",
    "    backupCount=2\n",
    ")\n",
    "\n",
    "logging.basicConfig(\n",
    "    level=logging.INFO,\n",
    "    format=\"%(asctime)s - %(levelname)s - %(message)s\",\n",
    "    handlers=[handler]\n",
    ")\n",
    "\n",
    "# We'll write enough data to cause rotation *once*, then stop\n",
    "log_entry = \"X\" * 5000  # Each entry is about 5 KB\n",
    "entries_to_write = 250  # 250 * 5 KB ≈ 1.25 MB → triggers 1 rotation\n",
    "\n",
    "for i in range(entries_to_write):\n",
    "    logging.info(f\"Log entry {i}: {log_entry}\")\n",
    "\n",
    "print(\"✅ Logging complete!\")\n",
    "\n",
    "# Show created files and sizes\n",
    "for file in [\"rotating.log\", \"rotating.log.1\", \"rotating.log.2\"]:\n",
    "    if os.path.exists(file):\n",
    "        print(f\"{file} size: {os.path.getsize(file)} bytes\")\n",
    "\n"
   ]
  },
  {
   "cell_type": "code",
   "execution_count": 57,
   "id": "d049f30c-5e1d-4d1e-b166-f020e82ace8a",
   "metadata": {},
   "outputs": [
    {
     "name": "stdout",
     "output_type": "stream",
     "text": [
      "Error: List index out of range.\n"
     ]
    }
   ],
   "source": [
    "#Q19.Write a program that handles both IndexError and KeyError using a try-except block ?\n",
    "# Sample list and dictionary\n",
    "my_list = [10, 20, 30]\n",
    "my_dict = {\"a\": 1, \"b\": 2}\n",
    "\n",
    "try:\n",
    "    # Try accessing an invalid list index\n",
    "    print(my_list[5])\n",
    "\n",
    "    # Try accessing a missing dictionary key\n",
    "    print(my_dict[\"z\"])\n",
    "\n",
    "except IndexError:\n",
    "    print(\"Error: List index out of range.\")\n",
    "\n",
    "except KeyError:\n",
    "    print(\"Error: Dictionary key not found.\")\n"
   ]
  },
  {
   "cell_type": "code",
   "execution_count": 56,
   "id": "8e730a83-43cb-4cdf-9dff-09977fb21c20",
   "metadata": {},
   "outputs": [
    {
     "name": "stdout",
     "output_type": "stream",
     "text": [
      "Hello pwskills\n",
      "my name is Rahul\n",
      "This is new appended text.\n"
     ]
    }
   ],
   "source": [
    "#Q20.How would you open a file and read its contents using a context manager in Python ?\n",
    "# Open file and read contents using a context manager\n",
    "filename = \"pw.txt\"\n",
    "\n",
    "try:\n",
    "    with open(filename, \"r\") as file:\n",
    "        contents = file.read()\n",
    "        print(contents)\n",
    "except FileNotFoundError:\n",
    "    print(f\"Error: The file '{filename}' was not found.\")\n"
   ]
  },
  {
   "cell_type": "code",
   "execution_count": 54,
   "id": "ef078670-0900-4c3a-b0de-28a94dbbc9e3",
   "metadata": {},
   "outputs": [
    {
     "name": "stdout",
     "output_type": "stream",
     "text": [
      "The word 'is' appears 2 times in 'pw.txt'.\n"
     ]
    }
   ],
   "source": [
    "#Q21.Write a Python program that reads a file and prints the number of occurrences of a specific word ?\n",
    "# Program to count occurrences of a specific word in a file\n",
    "\n",
    "filename = \"pw.txt\"\n",
    "word_to_count = \"is\"\n",
    "\n",
    "try:\n",
    "    with open(filename, \"r\") as file:\n",
    "        contents = file.read()\n",
    "\n",
    "    # Convert to lowercase for case-insensitive search\n",
    "    contents_lower = contents.lower()\n",
    "    word_lower = word_to_count.lower()\n",
    "\n",
    "    # Count occurrences\n",
    "    count = contents_lower.split().count(word_lower)\n",
    "\n",
    "    print(f\"The word '{word_to_count}' appears {count} times in '{filename}'.\")\n",
    "\n",
    "except FileNotFoundError:\n",
    "    print(f\"Error: The file '{filename}' was not found.\")\n"
   ]
  },
  {
   "cell_type": "code",
   "execution_count": 60,
   "id": "a3225d57-6403-4a5b-86e2-420b75081e15",
   "metadata": {},
   "outputs": [
    {
     "name": "stdout",
     "output_type": "stream",
     "text": [
      "The file is empty.\n"
     ]
    }
   ],
   "source": [
    "#Q22.How can you check if a file is empty before attempting to read its contents ?\n",
    "import os\n",
    "\n",
    "filename = \"pw.txt\"\n",
    "\n",
    "if os.path.exists(filename):\n",
    "    if os.path.getsize(filename) == 0:\n",
    "        print(\"The file is empty.\")\n",
    "    else:\n",
    "        with open(filename, \"r\") as file:\n",
    "            print(file.read())\n",
    "else:\n",
    "    print(f\"Error: The file '{filename}' does not exist.\")\n"
   ]
  },
  {
   "cell_type": "code",
   "execution_count": 65,
   "id": "8c5d11c6-5b50-479c-b086-50ec4ec68977",
   "metadata": {},
   "outputs": [
    {
     "name": "stderr",
     "output_type": "stream",
     "text": [
      "2025-08-13 12:15:46,603 - ERROR - File not found: sample.txt - [Errno 2] No such file or directory: 'sample.txt'\n"
     ]
    },
    {
     "name": "stdout",
     "output_type": "stream",
     "text": [
      "Error: The file 'sample.txt' does not exist.\n"
     ]
    }
   ],
   "source": [
    "#Q23.Write a Python program that writes to a log file when an error occurs during file handling ?\n",
    "import logging\n",
    "\n",
    "# Configure logging\n",
    "logging.basicConfig(\n",
    "    filename=\"file_errors.log\",  # Log file name\n",
    "    level=logging.ERROR,         # Only log ERROR and above\n",
    "    format=\"%(asctime)s - %(levelname)s - %(message)s\"\n",
    ")\n",
    "\n",
    "filename = \"sample.txt\"\n",
    "\n",
    "try:\n",
    "    with open(filename, \"r\") as file:\n",
    "        content = file.read()\n",
    "        print(content)\n",
    "\n",
    "except FileNotFoundError as e:\n",
    "    logging.error(f\"File not found: {filename} - {e}\")\n",
    "    print(f\"Error: The file '{filename}' does not exist.\")\n",
    "\n",
    "except PermissionError as e:\n",
    "    logging.error(f\"Permission denied: {filename} - {e}\")\n",
    "    print(f\"Error: Permission denied for file '{filename}'.\")\n"
   ]
  },
  {
   "cell_type": "code",
   "execution_count": null,
   "id": "6b9457bd-0576-40b7-9725-2d385159ba17",
   "metadata": {},
   "outputs": [],
   "source": []
  },
  {
   "cell_type": "code",
   "execution_count": null,
   "id": "0f9bfcc8-eb09-49d2-acd8-834f0a2ca616",
   "metadata": {},
   "outputs": [],
   "source": []
  },
  {
   "cell_type": "code",
   "execution_count": null,
   "id": "ad078301-1116-455a-bb1b-7bc215a36e51",
   "metadata": {},
   "outputs": [],
   "source": []
  },
  {
   "cell_type": "code",
   "execution_count": null,
   "id": "30b2cd72-bb26-4c16-896f-b89f3d076e43",
   "metadata": {},
   "outputs": [],
   "source": []
  },
  {
   "cell_type": "code",
   "execution_count": null,
   "id": "a1b31a76-f0b3-40f6-9791-e1d36be512b3",
   "metadata": {},
   "outputs": [],
   "source": []
  },
  {
   "cell_type": "code",
   "execution_count": null,
   "id": "74877338-dda4-4d86-881a-735d54cfe9ab",
   "metadata": {},
   "outputs": [],
   "source": []
  },
  {
   "cell_type": "code",
   "execution_count": null,
   "id": "ffd2a60c-4b60-471d-85fb-ac77fb88e6ec",
   "metadata": {},
   "outputs": [],
   "source": []
  },
  {
   "cell_type": "code",
   "execution_count": null,
   "id": "bcf156ae-d248-47ca-8bb0-e3f85b5f3006",
   "metadata": {},
   "outputs": [],
   "source": []
  },
  {
   "cell_type": "code",
   "execution_count": null,
   "id": "3a7a1133-ae3a-4e13-8a7e-090a6ccae500",
   "metadata": {},
   "outputs": [],
   "source": []
  },
  {
   "cell_type": "code",
   "execution_count": null,
   "id": "69e9ae55-7f51-4f7d-96cd-ebab34216869",
   "metadata": {},
   "outputs": [],
   "source": []
  },
  {
   "cell_type": "code",
   "execution_count": null,
   "id": "f67e587b-a7f3-4ce0-9278-87947ea732d9",
   "metadata": {},
   "outputs": [],
   "source": []
  },
  {
   "cell_type": "code",
   "execution_count": null,
   "id": "88e9b4d7-989f-4d5e-98f3-fd5d5c011baf",
   "metadata": {},
   "outputs": [],
   "source": []
  },
  {
   "cell_type": "code",
   "execution_count": null,
   "id": "b60da603-418e-4cb5-8059-44c5749d7a04",
   "metadata": {},
   "outputs": [],
   "source": []
  },
  {
   "cell_type": "code",
   "execution_count": null,
   "id": "1c6fb845-d90d-4ee6-bbe7-73a5b8c7e98b",
   "metadata": {},
   "outputs": [],
   "source": []
  }
 ],
 "metadata": {
  "kernelspec": {
   "display_name": "Python 3 (ipykernel)",
   "language": "python",
   "name": "python3"
  },
  "language_info": {
   "codemirror_mode": {
    "name": "ipython",
    "version": 3
   },
   "file_extension": ".py",
   "mimetype": "text/x-python",
   "name": "python",
   "nbconvert_exporter": "python",
   "pygments_lexer": "ipython3",
   "version": "3.13.5"
  }
 },
 "nbformat": 4,
 "nbformat_minor": 5
}
