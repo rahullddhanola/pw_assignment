{
 "cells": [
  {
   "cell_type": "raw",
   "id": "ff042941-80ba-41c5-a56e-1fd090c2dc7a",
   "metadata": {},
   "source": [
    "Question 1: What is hypothesis testing in statistics?\n",
    "Answer: Hypothesis testing in statistics is a formal method of making decisions or inferences about a population based on sample data.\n",
    "\n",
    "It involves:\n",
    "\n",
    "1.Formulating two competing statements:\n",
    "\n",
    "   * Null hypothesis (H₀): Assumes no effect, no difference, or the status quo (e.g., \"the new drug has no effect\").\n",
    "\n",
    "   * Alternative hypothesis (H₁ or Ha): Represents what we want to test or prove (e.g., \"the new drug improves recovery\").\n",
    "\n",
    "2.Collecting sample data and calculating a test statistic (like z, t, or chi-square).\n",
    "\n",
    "3.Comparing the test statistic with a critical value or calculating a p-value to decide whether the evidence is strong enough to reject the null hypothesis.\n",
    "\n",
    "4.Conclusion:\n",
    "\n",
    "   * If evidence is strong → Reject H₀ (support H₁).\n",
    "\n",
    "   * If evidence is weak → Fail to reject H₀ (not enough proof for H₁).\n",
    "\n",
    "In short: Hypothesis testing helps decide whether an observed effect in sample data is due to chance or reflects a real effect in the population."
   ]
  },
  {
   "cell_type": "raw",
   "id": "e18f7c84-757b-43a2-ad0b-651ef554a384",
   "metadata": {},
   "source": [
    "Question 2: What is the null hypothesis, and how does it differ from the alternative hypothesis?\n",
    "Answer:\n",
    "The null hypothesis (H₀) is a statistical statement that assumes there is no effect, no difference, or no relationship in the population. It represents the status quo or baseline assumption.\n",
    "\n",
    "The alternative hypothesis (H₁ or Ha) is the competing claim that assumes there is an effect, a difference, or a relationship. It represents what researchers aim to test or prove.\n",
    "\n",
    "Key Differences:\n",
    "Aspect\t                        Null Hypothesis (H₀)\t                                  Alternative Hypothesis (H₁/Ha)\n",
    "Meaning                      No effect / No difference\t                                   There is an effect / difference\n",
    "Purpose\t                     Acts as the default assumption\t                               Represents the researcher’s claim\n",
    "Example\t              H₀: The new teaching method has no impact on student scores\t     H₁: The new teaching method improves student scores\n",
    "Decision\t                 Reject or fail to reject\t                                    Supported if H₀ is rejected\n",
    "\n",
    "In short: The null hypothesis assumes nothing new is happening, while the alternative hypothesis suggests that something significant is happening."
   ]
  },
  {
   "cell_type": "raw",
   "id": "189b40a4-366a-4dca-8291-0468f89a7434",
   "metadata": {},
   "source": [
    "Question 3: Explain the significance level in hypothesis testing and its role in deciding the outcome of a test.\n",
    "Answer:\n",
    "The significance level (α) is a critical concept in hypothesis testing that determines the threshold for making decisions about the null hypothesis (H₀). It defines the probability of making a Type I error, i.e., rejecting the null hypothesis when it is actually true.\n",
    "\n",
    "1. Definition\n",
    "  * The significance level (α) is a pre-determined cutoff value chosen by the researcher before conducting the test.\n",
    "  * It specifies the maximum risk the researcher is willing to take of wrongly rejecting the null hypothesis.\n",
    "Mathematically:\n",
    "               𝛼=𝑃(Rejecting H₀ | H₀ is true)\n",
    "\n",
    "2. Common Choices of α\n",
    "  * 0.05 (5%) → Most widely used. Suggests a 5% chance of making a wrong decision.\n",
    "  * 0.01 (1%) → Used in highly sensitive fields like medicine or aerospace.\n",
    "  * 0.10 (10%) → Sometimes used in exploratory research.\n",
    "\n",
    "3. Role in Hypothesis Testing\n",
    "   Compare with p-value:\n",
    "     * If p-value ≤ α → Reject H₀ (evidence supports H₁).\n",
    "     * If p-value > α → Fail to reject H₀ (insufficient evidence).\n",
    "   Set decision boundary:\n",
    "     * α acts as the dividing line between results that are considered statistically significant and those that are not.\n",
    "\n",
    "4. Example\n",
    "Suppose a researcher wants to test whether a new drug lowers blood pressure compared to an existing one.\n",
    "   * Null hypothesis (H₀): The new drug has no effect.\n",
    "   * Alternative hypothesis (H₁): The new drug lowers blood pressure.\n",
    "   * Significance level: α = 0.05.\n",
    "If the calculated p-value from the test is 0.03 (< 0.05):\n",
    "   * We reject H₀ and conclude the drug is effective at the 5% significance level.\n",
    "If the p-value was 0.08 (> 0.05):\n",
    "   * We fail to reject H₀ and conclude there is not enough evidence to prove the drug’s effectiveness.\n",
    "\n",
    "5. Relationship with Confidence Level\n",
    "   * The confidence level is the complement of the significance level.\n",
    "             Confidence Level=1−𝛼\n",
    "   * For α = 0.05, the confidence level = 0.95 or 95%.\n",
    "   * This means we are 95% confident in our decision and allow a 5% chance of error.\n",
    "\n",
    "6. Importance\n",
    "   * Controls the probability of making incorrect conclusions.\n",
    "   * Provides a clear decision-making rule.\n",
    "   * Ensures scientific results are based on evidence rather than chance.\n",
    "\n",
    "Conclusion:\n",
    "The significance level (α) plays a central role in hypothesis testing as it sets the risk tolerance for error. By comparing the p-value with α, researchers decide whether to accept or reject the null hypothesis. A well-chosen significance level balances the risks of error and ensures reliable statistical inference."
   ]
  },
  {
   "cell_type": "raw",
   "id": "a60bc111-4c8b-4681-b35b-493e201959f2",
   "metadata": {},
   "source": [
    "Question 4: What are Type I and Type II errors? Give examples of each.\n",
    "Answer:In hypothesis testing, errors may occur because decisions are based on sample data and not the entire population. The two main types of errors are Type I error and Type II error.\n",
    "\n",
    "1. Type I Error (False Positive)\n",
    "   * Occurs when we reject the null hypothesis (H₀) when it is actually true.\n",
    "   * It means we conclude that there is an effect or difference when, in reality, there is none.\n",
    "   * The probability of making a Type I error is represented by α (significance level).\n",
    "Example:\n",
    "A medical researcher is testing a new drug.\n",
    "   * H₀: The drug has no effect.\n",
    "   * H₁: The drug is effective.\n",
    "     If the researcher rejects H₀ and claims the drug works (when it actually does not),this is a Type I error.\n",
    "     The consequence: Patients may take an ineffective or harmful drug.\n",
    "\n",
    "2. Type II Error (False Negative)\n",
    "   * Occurs when we fail to reject the null hypothesis (H₀) when it is actually false.\n",
    "   * It means we conclude there is no effect or difference when, in fact, one exists.\n",
    "   * The probability of making a Type II error is denoted by β.\n",
    "   * The power of a test is defined as (1 – β), i.e., the probability of correctly rejecting a false H₀.\n",
    "Example:\n",
    "Again, testing a new drug.\n",
    "   * H₀: The drug has no effect.\n",
    "   * H₁: The drug is effective.\n",
    "     If the researcher fails to reject H₀ and concludes the drug does not work (when it actually does), this is a Type II error.\n",
    "     The consequence: A beneficial drug may be discarded, and patients miss out on a treatment."
   ]
  },
  {
   "cell_type": "raw",
   "id": "42bfff97-a059-4e12-afaf-fb53f0cb518b",
   "metadata": {},
   "source": [
    "Question 5: What is the difference between a Z-test and a T-test? Explain when to use each ?\n",
    "Answer:Both Z-test and T-test are statistical tests used in hypothesis testing to determine whether there is a significant difference between sample data and population parameters. However, they differ in their assumptions, conditions, and applications.\n",
    "\n",
    "1. Z-test\n",
    "  * Used when the population variance (σ²) is known or the sample size is large (n > 30).\n",
    "  * Based on the standard normal distribution (Z-distribution), which has a mean of 0 and standard deviation of 1.\n",
    "Example: Testing whether the average height of students in a college (large sample) differs from the national average, given population variance is known.\n",
    "\n",
    "2. T-test\n",
    "   * Used when the population variance (σ²) is unknown and the sample size is small(n<30).\n",
    "   * Based on the Student’s t-distribution, which is similar to the normal distribution but has heavier tails (to account for more variability in small samples).\n",
    "Example: Testing whether the average marks of 20 students in a class differ from the expected population mean, when population variance is unknown.\n",
    "\n",
    "3. When to Use Each Test\n",
    "# Use Z-test when:\n",
    "  * Sample size is large (n > 30).\n",
    "  * Population variance (σ²) is known.\n",
    "  * Data follows a normal distribution.\n",
    "\n",
    "#Use T-test when:\n",
    "  * Sample size is small (n ≤ 30).\n",
    "  * Population variance is unknown.\n",
    "  * Data approximately follows a normal distribution\n",
    "\n",
    "Conclusion:\n",
    "The Z-test and T-test are closely related, but their usage depends mainly on sample size and whether the population variance is known. In practice, the T-test is more commonly used because population variance is rarely known, especially in real-world research."
   ]
  },
  {
   "cell_type": "code",
   "execution_count": 1,
   "id": "d696c6fe-82c3-4a79-8b29-1acc821c3207",
   "metadata": {},
   "outputs": [
    {
     "data": {
      "image/png": "[encoded data removed]",
      "text/plain": [
       "<Figure size 640x480 with 1 Axes>"
      ]
     },
     "metadata": {},
     "output_type": "display_data"
    }
   ],
   "source": [
    "#Question 6: Write a Python program to generate a binomial distribution with n=10 and p=0.5, then plot its histogram.\n",
    "\n",
    "import numpy as np\n",
    "import matplotlib.pyplot as plt\n",
    "\n",
    "# Parameters for binomial distribution\n",
    "n = 10   # number of trials\n",
    "p = 0.5  # probability of success\n",
    "size = 1000  # number of random samples\n",
    "\n",
    "# Generate binomial distribution random numbers\n",
    "data = np.random.binomial(n, p, size)\n",
    "\n",
    "# Plot histogram\n",
    "plt.hist(data, bins=range(0, n+2), edgecolor='black', alpha=0.7)\n",
    "plt.title(\"Binomial Distribution (n=10, p=0.5)\")\n",
    "plt.xlabel(\"Number of Successes\")\n",
    "plt.ylabel(\"Frequency\")\n",
    "plt.show()\n"
   ]
  },
  {
   "cell_type": "code",
   "execution_count": 2,
   "id": "f09ea8b6-14d9-4f00-aeb1-59b49e466662",
   "metadata": {},
   "outputs": [
    {
     "name": "stdout",
     "output_type": "stream",
     "text": [
      "Sample Mean = 50.089\n",
      "Z-statistic = 0.533\n",
      "P-value = 0.5938\n",
      "Fail to reject H₀: No significant difference from 50.\n"
     ]
    }
   ],
   "source": [
    "#Question 7: Implement hypothesis testing using Z-statistics for a sample dataset in Python. Show the Python code and interpret the results.\n",
    "import numpy as np\n",
    "from scipy.stats import norm\n",
    "\n",
    "# Sample data\n",
    "sample_data = [49.1, 50.2, 51.0, 48.7, 50.5, 49.8, 50.3, 50.7, 50.2, 49.6,\n",
    "               50.1, 49.9, 50.8, 50.4, 48.9, 50.6, 50.0, 49.7, 50.2, 49.5,\n",
    "               50.1, 50.3, 50.4, 50.5, 50.0, 50.7, 49.3, 49.8, 50.2, 50.9,\n",
    "               50.3, 50.4, 50.0, 49.7, 50.5, 49.9]\n",
    "\n",
    "# Step 1: Calculate sample statistics\n",
    "sample_mean = np.mean(sample_data)\n",
    "n = len(sample_data)\n",
    "sigma = 1   # population standard deviation (assumed)\n",
    "\n",
    "# Step 2: Define null hypothesis mean\n",
    "mu_0 = 50\n",
    "\n",
    "# Step 3: Compute Z-statistic\n",
    "z_stat = (sample_mean - mu_0) / (sigma / np.sqrt(n))\n",
    "\n",
    "# Step 4: Calculate p-value (two-tailed test)\n",
    "p_value = 2 * (1 - norm.cdf(abs(z_stat)))\n",
    "\n",
    "# Step 5: Print results\n",
    "print(f\"Sample Mean = {sample_mean:.3f}\")\n",
    "print(f\"Z-statistic = {z_stat:.3f}\")\n",
    "print(f\"P-value = {p_value:.4f}\")\n",
    "\n",
    "# Step 6: Decision at significance level α = 0.05\n",
    "alpha = 0.05\n",
    "if p_value < alpha:\n",
    "    print(\"Reject H₀: Sample mean is significantly different from 50.\")\n",
    "else:\n",
    "    print(\"Fail to reject H₀: No significant difference from 50.\")\n",
    "\n",
    "\n"
   ]
  },
  {
   "cell_type": "code",
   "execution_count": 3,
   "id": "51d125f3-4f45-4b3f-9855-42f85c6c9a04",
   "metadata": {},
   "outputs": [
    {
     "name": "stdout",
     "output_type": "stream",
     "text": [
      "Sample Mean = 49.481\n",
      "95% Confidence Interval = (48.591, 50.371)\n"
     ]
    },
    {
     "data": {
      "image/png": "[encoded data removed]",
      "text/plain": [
       "<Figure size 640x480 with 1 Axes>"
      ]
     },
     "metadata": {},
     "output_type": "display_data"
    }
   ],
   "source": [
    "#Question 8: Write a Python script to simulate data from a normal distribution and calculate the 95% confidence interval for its mean. \n",
    "#Plot the data using Matplotlib\n",
    "import numpy as np\n",
    "import matplotlib.pyplot as plt\n",
    "from scipy import stats\n",
    "\n",
    "# Step 1: Simulate data from a normal distribution\n",
    "np.random.seed(42)  # for reproducibility\n",
    "mu, sigma = 50, 5   # population mean and standard deviation\n",
    "n = 100             # sample size\n",
    "data = np.random.normal(mu, sigma, n)\n",
    "\n",
    "# Step 2: Calculate sample mean and standard error\n",
    "sample_mean = np.mean(data)\n",
    "sample_std = np.std(data, ddof=1)   # sample standard deviation\n",
    "se = sample_std / np.sqrt(n)        # standard error\n",
    "\n",
    "# Step 3: Compute 95% confidence interval\n",
    "confidence = 0.95\n",
    "alpha = 1 - confidence\n",
    "z_critical = stats.norm.ppf(1 - alpha/2)  # two-tailed z-value (≈1.96)\n",
    "margin_of_error = z_critical * se\n",
    "ci_lower = sample_mean - margin_of_error\n",
    "ci_upper = sample_mean + margin_of_error\n",
    "\n",
    "# Print results\n",
    "print(f\"Sample Mean = {sample_mean:.3f}\")\n",
    "print(f\"95% Confidence Interval = ({ci_lower:.3f}, {ci_upper:.3f})\")\n",
    "\n",
    "# Step 4: Plot histogram\n",
    "plt.hist(data, bins=15, edgecolor='black', alpha=0.7)\n",
    "plt.axvline(sample_mean, color='red', linestyle='dashed', linewidth=2, label=f\"Mean = {sample_mean:.2f}\")\n",
    "plt.axvline(ci_lower, color='green', linestyle='dashed', linewidth=2, label=f\"Lower 95% CI = {ci_lower:.2f}\")\n",
    "plt.axvline(ci_upper, color='green', linestyle='dashed', linewidth=2, label=f\"Upper 95% CI = {ci_upper:.2f}\")\n",
    "\n",
    "plt.title(\"Normal Distribution Simulation with 95% CI\")\n",
    "plt.xlabel(\"Value\")\n",
    "plt.ylabel(\"Frequency\")\n",
    "plt.legend()\n",
    "plt.show()\n"
   ]
  },
  {
   "cell_type": "code",
   "execution_count": 6,
   "id": "3f41055d-cf50-4738-9a40-62c1eb5e4673",
   "metadata": {},
   "outputs": [
    {
     "data": {
      "image/png": "[encoded data removed]",
      "text/plain": [
       "<Figure size 640x480 with 1 Axes>"
      ]
     },
     "metadata": {},
     "output_type": "display_data"
    },
    {
     "name": "stdout",
     "output_type": "stream",
     "text": [
      "First 10 Z-scores: [ 0.66128777 -0.03789802  0.82752828  1.79138178 -0.14348314 -0.14346506\n",
      "  1.85324581  0.95938289 -0.40259918  0.71176947]\n"
     ]
    }
   ],
   "source": [
    "#Question 9: Write a Python function to calculate the Z-scores from a dataset and visualize the standardized data using a histogram. \n",
    "#Explain what the Z-scores represent in terms of standard deviations from the mean.\n",
    "import numpy as np\n",
    "import matplotlib.pyplot as plt\n",
    "\n",
    "# Step 1: Define function to calculate Z-scores\n",
    "def calculate_zscores(data):\n",
    "    mean = np.mean(data)\n",
    "    std = np.std(data, ddof=1)  # sample standard deviation\n",
    "    z_scores = (data - mean) / std\n",
    "    return z_scores\n",
    "\n",
    "# Step 2: Create a sample dataset\n",
    "np.random.seed(42)\n",
    "data = np.random.normal(50, 5, 100)  # 100 values from N(50, 5^2)\n",
    "\n",
    "# Step 3: Calculate Z-scores\n",
    "z_scores = calculate_zscores(data)\n",
    "\n",
    "# Step 4: Plot histogram of Z-scores\n",
    "plt.hist(z_scores, bins=15, edgecolor='black', alpha=0.7)\n",
    "plt.axvline(0, color='red', linestyle='dashed', linewidth=2, label=\"Mean = 0\")\n",
    "plt.title(\"Histogram of Standardized Data (Z-scores)\")\n",
    "plt.xlabel(\"Z-score\")\n",
    "plt.ylabel(\"Frequency\")\n",
    "plt.legend()\n",
    "plt.show()\n",
    "\n",
    "# Print first few Z-scores\n",
    "print(\"First 10 Z-scores:\", z_scores[:10])\n",
    "\n",
    "\n"
   ]
  },
  {
   "cell_type": "raw",
   "id": "f5cdc571-4789-4aba-8828-9159bded4de7",
   "metadata": {},
   "source": [
    "\"\"\"Explanation of Z-scores\n",
    "The Z-score (standard score) tells us how many standard deviations a data point is from the mean.\n",
    "Formula:\n",
    "           𝑍 = 𝑋−𝜇/𝜎\n",
    "where:\n",
    "X = data point,\n",
    "μ = mean of dataset,\n",
    "σ = standard deviation.\n",
    "\n",
    "Interpretation:\n",
    "Z=0: Data point is exactly at the mean.\n",
    "Z=+1: Data point is 1 standard deviation above the mean.\n",
    "Z=−2: Data point is 2 standard deviations below the mean.\n",
    "\n",
    "Z-scores are useful for standardizing data so it can be compared across different distributions.\"\"\""
   ]
  },
  {
   "cell_type": "code",
   "execution_count": null,
   "id": "fdb854be-84fa-4d92-9718-2a8aa0950a3c",
   "metadata": {},
   "outputs": [],
   "source": []
  },
  {
   "cell_type": "code",
   "execution_count": null,
   "id": "8488aee5-227b-4e2f-9a6f-4defa797487f",
   "metadata": {},
   "outputs": [],
   "source": []
  },
  {
   "cell_type": "code",
   "execution_count": null,
   "id": "49414116-3be0-412c-8538-b8c5deb98e1e",
   "metadata": {},
   "outputs": [],
   "source": []
  },
  {
   "cell_type": "code",
   "execution_count": null,
   "id": "1d4c5d11-9a34-4682-896b-8e67529154c5",
   "metadata": {},
   "outputs": [],
   "source": []
  },
  {
   "cell_type": "code",
   "execution_count": null,
   "id": "0c374d5c-db8a-4af3-ab44-71caf6c84d58",
   "metadata": {},
   "outputs": [],
   "source": []
  },
  {
   "cell_type": "code",
   "execution_count": null,
   "id": "253e2532-6db1-41f4-9e7c-c4ea2f86dc65",
   "metadata": {},
   "outputs": [],
   "source": []
  },
  {
   "cell_type": "code",
   "execution_count": null,
   "id": "d88473a4-d2d6-4518-a872-65e04e6b0016",
   "metadata": {},
   "outputs": [],
   "source": []
  },
  {
   "cell_type": "code",
   "execution_count": null,
   "id": "b2bdf56b-378d-4ee5-bef3-426ac3b3a505",
   "metadata": {},
   "outputs": [],
   "source": []
  },
  {
   "cell_type": "code",
   "execution_count": null,
   "id": "b63c9e68-75d9-437e-89c2-8973db128a6b",
   "metadata": {},
   "outputs": [],
   "source": []
  },
  {
   "cell_type": "code",
   "execution_count": null,
   "id": "723c4b6e-4d9c-4a71-8de5-101fa0b0eaae",
   "metadata": {},
   "outputs": [],
   "source": []
  },
  {
   "cell_type": "code",
   "execution_count": null,
   "id": "368820cd-26f3-4620-b663-116457632b8b",
   "metadata": {},
   "outputs": [],
   "source": []
  },
  {
   "cell_type": "code",
   "execution_count": null,
   "id": "96c30ed4-5210-4e1b-89dc-ae202ab348e3",
   "metadata": {},
   "outputs": [],
   "source": []
  },
  {
   "cell_type": "code",
   "execution_count": null,
   "id": "ae848769-9fc5-4b13-9751-8532f2899cd3",
   "metadata": {},
   "outputs": [],
   "source": []
  }
 ],
 "metadata": {
  "kernelspec": {
   "display_name": "Python 3 (ipykernel)",
   "language": "python",
   "name": "python3"
  },
  "language_info": {
   "codemirror_mode": {
    "name": "ipython",
    "version": 3
   },
   "file_extension": ".py",
   "mimetype": "text/x-python",
   "name": "python",
   "nbconvert_exporter": "python",
   "pygments_lexer": "ipython3",
   "version": "3.13.5"
  }
 },
 "nbformat": 4,
 "nbformat_minor": 5
}
