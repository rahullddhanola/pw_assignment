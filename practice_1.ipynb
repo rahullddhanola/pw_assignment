{
 "cells": [
  {
   "cell_type": "code",
   "execution_count": 2,
   "id": "ac2f4a3d-f062-46cb-b7d1-0c4fe614804c",
   "metadata": {},
   "outputs": [
    {
     "name": "stdout",
     "output_type": "stream",
     "text": [
      "hello\n"
     ]
    }
   ],
   "source": [
    "print(\"hello\")"
   ]
  },
  {
   "cell_type": "code",
   "execution_count": 4,
   "id": "3d4ab7df-1d8e-4664-ab95-15e5b2e8cd65",
   "metadata": {},
   "outputs": [
    {
     "name": "stdout",
     "output_type": "stream",
     "text": [
      "rahul dhanola\n"
     ]
    }
   ],
   "source": [
    "print(\"rahul dhanola\")"
   ]
  },
  {
   "cell_type": "code",
   "execution_count": null,
   "id": "aec3a077-1638-45ce-af10-3c2c0836f7cb",
   "metadata": {},
   "outputs": [],
   "source": []
  },
  {
   "cell_type": "code",
   "execution_count": null,
   "id": "a8520efa-84ae-429c-b72c-900ce99faedd",
   "metadata": {},
   "outputs": [],
   "source": []
  },
  {
   "cell_type": "code",
   "execution_count": null,
   "id": "3843f383-5731-4d5f-b4ab-bfadfe0f5d3a",
   "metadata": {},
   "outputs": [],
   "source": []
  },
  {
   "cell_type": "code",
   "execution_count": null,
   "id": "6acd861f-8525-4d86-b395-7c638b3c4b93",
   "metadata": {},
   "outputs": [],
   "source": []
  },
  {
   "cell_type": "code",
   "execution_count": null,
   "id": "bbfec43f-eb8d-4f27-97ac-284fa6068b6b",
   "metadata": {},
   "outputs": [],
   "source": []
  },
  {
   "cell_type": "code",
   "execution_count": null,
   "id": "c3ad3fcd-cf0f-48d2-a772-78ad381aeb9b",
   "metadata": {},
   "outputs": [],
   "source": []
  }
 ],
 "metadata": {
  "kernelspec": {
   "display_name": "Python 3 (ipykernel)",
   "language": "python",
   "name": "python3"
  },
  "language_info": {
   "codemirror_mode": {
    "name": "ipython",
    "version": 3
   },
   "file_extension": ".py",
   "mimetype": "text/x-python",
   "name": "python",
   "nbconvert_exporter": "python",
   "pygments_lexer": "ipython3",
   "version": "3.13.5"
  }
 },
 "nbformat": 4,
 "nbformat_minor": 5
}
