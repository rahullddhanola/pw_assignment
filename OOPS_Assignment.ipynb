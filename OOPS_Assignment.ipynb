{
 "cells": [
  {
   "cell_type": "markdown",
   "id": "1ea2ff66-f840-4a0e-b55b-837fb9f9e4dc",
   "metadata": {},
   "source": [
    "# Theory Questions"
   ]
  },
  {
   "cell_type": "code",
   "execution_count": null,
   "id": "fbe521de-0dc8-4c8e-b0cc-addd68e06f8a",
   "metadata": {},
   "outputs": [],
   "source": [
    "#Q1.What is Object-Oriented Programming (OOP)?\n",
    "'''Object-Oriented Programming (OOP) is a programming paradigm based on the concept of \"objects\", which are instances of classes.\n",
    "It focuses on organizing code by grouping related data and behavior together.'''"
   ]
  },
  {
   "cell_type": "code",
   "execution_count": null,
   "id": "d2a6a4ef-3164-4d00-9250-86c4a183a5a1",
   "metadata": {},
   "outputs": [],
   "source": [
    "#Q2.What is a class in OOP?\n",
    "'''In Object-Oriented Programming (OOP), a class is a blueprint or template for creating objects. It defines the attributes \n",
    "(also called properties or variables) and methods (functions) that the objects created from the class will have.'''"
   ]
  },
  {
   "cell_type": "code",
   "execution_count": null,
   "id": "e4f3ae7c-e06e-47fb-87d6-73cbbfede6d0",
   "metadata": {},
   "outputs": [],
   "source": [
    "#Q3.What is an object in OOP?\n",
    "'''An **object** in OOP is an instance of a class that contains real data and can perform actions using methods. It represents\n",
    "a specific entity with attributes (state) and methods (behavior) defined by its class.'''"
   ]
  },
  {
   "cell_type": "code",
   "execution_count": null,
   "id": "6503797a-416c-47f1-b7be-8d67b4b3884b",
   "metadata": {},
   "outputs": [],
   "source": [
    "#Q4.What is the difference between abstraction and encapsulation?\n",
    "'''Abstraction is the concept of hiding complex implementation details and showing only the essential features to the user.\n",
    "Encapsulation is the process of wrapping data and methods into a single unit (class) and restricting direct access to some components.'''"
   ]
  },
  {
   "cell_type": "code",
   "execution_count": null,
   "id": "879e78c2-ff36-4433-818a-aaf4ba5246f6",
   "metadata": {},
   "outputs": [],
   "source": [
    "#Q5.What are dunder methods in Python?\n",
    "'''Dunder methods (or magic methods) in Python are special methods with names like `__init__`, `__str__`, `__len__`, used to\n",
    "define how objects behave with built-in functions and operators.\n",
    "They are automatically called by Python for operations like object creation, printing, or arithmetic.'''\n"
   ]
  },
  {
   "cell_type": "code",
   "execution_count": null,
   "id": "f1dff5b9-506c-4eaf-a0cc-20181ec77e4b",
   "metadata": {},
   "outputs": [],
   "source": [
    "#Q6.Explain the concept of inheritance in OOP?\n",
    "'''Inheritance in OOP allows a class (child or subclass) to acquire properties and methods from another class (parent or superclass).\n",
    "It promotes code reusability and enables hierarchical class relationships.\n",
    "The child class can extend or override the parent class behavior.\n",
    "This makes the code more organized and easier to maintain.'''\n"
   ]
  },
  {
   "cell_type": "code",
   "execution_count": null,
   "id": "8e24ab7a-6d72-40d3-b84e-07b854f4f8c9",
   "metadata": {},
   "outputs": [],
   "source": [
    "#Q7.What is polymorphism in OOP?\n",
    "'''Polymorphism in OOP means the ability of different classes to provide a common interface while behaving differently.\n",
    "It allows the same method name to perform different actions depending on the object calling it, enabling flexibility and dynamic behavior.'''\n"
   ]
  },
  {
   "cell_type": "code",
   "execution_count": null,
   "id": "3652cee1-66da-4242-9b9d-06002f774d9f",
   "metadata": {},
   "outputs": [],
   "source": [
    "#Q8.How is encapsulation achieved in Python?\n",
    "'''Encapsulation in Python is achieved by restricting access to class variables using access modifiers.\n",
    "Private attributes (using `__`) can't be accessed directly from outside the class.\n",
    "Instead, getter and setter methods are used to access or modify them.\n",
    "This helps protect the internal state and maintain data integrity.'''\n"
   ]
  },
  {
   "cell_type": "code",
   "execution_count": null,
   "id": "348ccac4-d9dd-49d4-a39a-503b891bbe4e",
   "metadata": {},
   "outputs": [],
   "source": [
    "#Q9.What is a constructor in Python?\n",
    "'''A constructor in Python is a special method used to initialize a newly created object.\n",
    "It is defined using the __init__() method inside a class.\n",
    "This method is automatically called when an object is created and sets up its initial state.'''"
   ]
  },
  {
   "cell_type": "code",
   "execution_count": null,
   "id": "7036cbd3-c7f3-4921-8085-848daeafd78e",
   "metadata": {},
   "outputs": [],
   "source": [
    "#Q10.What are class and static methods in Python?\n",
    "'''Class methods in Python are defined using `@classmethod` and take `cls` as the first argument; they can access and modify class-level data.\n",
    "Static methods are defined using `@staticmethod` and do not take `self` or `cls`; they behave like regular functions but belong to the class's namespace.\n",
    "Class methods are useful for factory methods, while static methods are used for utility functions related to the class.'''\n"
   ]
  },
  {
   "cell_type": "code",
   "execution_count": null,
   "id": "ca741e45-3ef4-4ede-ad14-093ff0b0ba6c",
   "metadata": {},
   "outputs": [],
   "source": [
    "#Q11.What is method overloading in Python?\n",
    "'''Method overloading in Python means using the same method name with different parameters.\n",
    "Python doesn't support it directly, but it can be mimicked using **default arguments** or `*args`/`**kwargs`.\n",
    "This allows a single method to handle multiple types or numbers of arguments.\n",
    "It's a way to provide flexible and reusable code.'''\n"
   ]
  },
  {
   "cell_type": "code",
   "execution_count": null,
   "id": "e3acf826-1b57-4965-aa90-8e6106d4f2b0",
   "metadata": {},
   "outputs": [],
   "source": [
    "#Q12.What is method overriding in OOP?\n",
    "'''Method overriding** in OOP occurs when a child class provides a specific implementation of a method that is already defined in its parent class.\n",
    "The method in the child class has the same name and parameters as in the parent class.\n",
    "It allows the child class to customize or replace the behavior inherited from the parent.\n",
    "This is a key part of runtime polymorphism.'''\n"
   ]
  },
  {
   "cell_type": "code",
   "execution_count": null,
   "id": "3a713bf7-2ab5-405f-a1c8-e1e561f80c32",
   "metadata": {},
   "outputs": [],
   "source": [
    "#Q13.What is a property decorator in Python?\n",
    "'''The @property decorator in Python is used to define a method that can be accessed like an attribute, without using parentheses.\n",
    "It allows you to encapsulate instance variables and still provide controlled access to them.\n",
    "You can also define getter, setter, and deleter methods using @property, @<property>.setter, and @<property>.deleter.'''"
   ]
  },
  {
   "cell_type": "code",
   "execution_count": null,
   "id": "117bbe1f-9171-43dd-8378-e8f1c9b1283d",
   "metadata": {},
   "outputs": [],
   "source": [
    "#Q14.Why is polymorphism important in OOP?\n",
    "'''Polymorphism is important in OOP because it allows objects of different classes to be treated through a common interface,\n",
    "improving flexibility and scalability.\n",
    "It enables code reusability and extensibility, allowing new object types to be added with minimal changes to existing code.\n",
    "Polymorphism also supports dynamic method binding, making programs more modular and easier to maintain.'''\n"
   ]
  },
  {
   "cell_type": "code",
   "execution_count": null,
   "id": "6f6e1a67-dd33-4f3b-af64-e70e1a4a477c",
   "metadata": {},
   "outputs": [],
   "source": [
    "#Q15.What is an abstract class in Python?\n",
    "'''An abstract class in Python is a class that cannot be instantiated directly and is meant to be inherited by other classes.\n",
    "It can define abstract methods (using the @abstractmethod decorator) that must be implemented by its subclasses.\n",
    "Abstract classes are created using the abc module (from abc import ABC, abstractmethod) and help define a common interface for a\n",
    "group of related classes.'''\n"
   ]
  },
  {
   "cell_type": "code",
   "execution_count": null,
   "id": "2a749d51-d770-4d62-9963-e42e45eed339",
   "metadata": {},
   "outputs": [],
   "source": [
    "#Q16.What are the advantages of OOP?\n",
    "'''Advantages of Object-Oriented Programming (OOP):\n",
    "1. Modularity: Code is organized into classes, making it easier to manage and understand.\n",
    "2. Reusability: Inheritance allows reuse of existing code, reducing duplication.\n",
    "3. Encapsulation: Protects data by restricting access and exposing only necessary parts.\n",
    "4. Polymorphism: Enables flexibility by allowing the same interface to behave differently across classes.\n",
    "5. Scalability and Maintainability: Code is easier to update, extend, and debug in large applications.'''\n"
   ]
  },
  {
   "cell_type": "code",
   "execution_count": null,
   "id": "da4c5f80-4211-4588-831f-c89cc298a0f2",
   "metadata": {},
   "outputs": [],
   "source": [
    "#Q17.What is the difference between a class variable and an instance variable?\n",
    "'''Difference Between Class Variable and Instance Variable in Python:\n",
    "   | Feature         |          Class Variable                         |        Instance Variable                    |\n",
    "   | --------------- | ---------------------------------------------   | ------------------------------------------- |\n",
    "   | Definition      | Shared by all instances of a class              | Unique to each object (instance)            |\n",
    "   | Declaration     | Defined outside methods, inside the class       | Defined inside methods using `self` keyword |\n",
    "   | Accessed By     | Via class name or object                        | Only via object (`self.variable`)           |\n",
    "   | Use Case        | For data common to all objects                  | For data specific to each object            |'''\n"
   ]
  },
  {
   "cell_type": "code",
   "execution_count": null,
   "id": "2bc95668-d422-48e9-8231-dad06fc98455",
   "metadata": {},
   "outputs": [],
   "source": [
    "#Q18.What is multiple inheritance in Python?\n",
    "'''Multiple inheritance in Python is a feature where a class can inherit from more than one parent class.\n",
    "This allows the child class to access attributes and methods from all parent classes.\n",
    "Python handles method resolution using the Method Resolution Order (MRO) to avoid conflicts'''"
   ]
  },
  {
   "cell_type": "code",
   "execution_count": null,
   "id": "bc693670-1f25-459b-8e57-9a9550b6df74",
   "metadata": {},
   "outputs": [],
   "source": [
    "#Q19.Explain the purpose of ‘’__str__’ and ‘__repr__’ ‘ methods in Python?\n",
    "'''Purpose of __str__() and __repr__() in Python:\n",
    "__str__() is used to return a user-friendly string representation of an object, mainly for printing or display.\n",
    "\n",
    "__repr__() is used to return a developer-friendly string that ideally gives enough detail to recreate the object.'''"
   ]
  },
  {
   "cell_type": "code",
   "execution_count": null,
   "id": "dce009bf-b32a-41ae-b7ca-34c3d4950c61",
   "metadata": {},
   "outputs": [],
   "source": [
    "#Q20.What is the significance of the ‘super()’ function in Python?\n",
    "'''The super() function in Python is used to call a method from the parent (super) class inside a child class.\n",
    "It allows you to access and extend the behavior of inherited methods, especially useful in method overriding.\n",
    "super() helps maintain cleaner code and supports multiple inheritance by respecting Python’s Method Resolution Order (MRO).'''"
   ]
  },
  {
   "cell_type": "code",
   "execution_count": null,
   "id": "580f782d-0eee-4daa-a2ee-779d89e593fd",
   "metadata": {},
   "outputs": [],
   "source": [
    "#Q21.What is the significance of the __del__ method in Python?\n",
    "'''The __del__ method in Python is a destructor, automatically called when an object is about to be destroyed (i.e., garbage collected).\n",
    "Its purpose is to perform cleanup operations, like closing files or releasing resources.\n",
    "However, its use is limited because the timing of object destruction is not guaranteed, so it’s better to use context managers\n",
    "(with statement) when possible.'''\n"
   ]
  },
  {
   "cell_type": "code",
   "execution_count": null,
   "id": "7b937b43-318d-4ef9-ba98-57856bfb745c",
   "metadata": {},
   "outputs": [],
   "source": [
    "#Q22.What is the difference between @staticmethod and @classmethod in Python?\n",
    "'''Difference between @staticmethod and @classmethod in Python:\n",
    "| Feature         | `@staticmethod`                               | `@classmethod`                            |\n",
    "| --------------- | --------------------------------------------- | ----------------------------------------- |\n",
    "| First Argument  | No default first argument                     | Takes `cls` as the first argument         |\n",
    "| Access to Class | Cannot access class or instance directly      | Can access and modify class-level data    |\n",
    "| Use Case        | Utility/helper methods                        | Factory methods or class-level operations |\n",
    "| Binding         | Bound to the class, not instance or class     | Bound to the class, not instance          |'''\n"
   ]
  },
  {
   "cell_type": "code",
   "execution_count": null,
   "id": "afa86372-1d13-42c7-bdfe-5b068193a759",
   "metadata": {},
   "outputs": [],
   "source": [
    "#Q23.How does polymorphism work in Python with inheritance?\n",
    "'''Polymorphism with Inheritance in Python:\n",
    "Polymorphism allows objects of different classes (that share a common parent) to be used interchangeably through a common interface.\n",
    "With inheritance, child classes can override methods of the parent class, and Python will automatically call the correct version\n",
    "based on the object's type at runtime.'''"
   ]
  },
  {
   "cell_type": "code",
   "execution_count": null,
   "id": "488f93c6-6db1-40e3-a8ed-e9b7d9a313d4",
   "metadata": {},
   "outputs": [],
   "source": [
    "#Q24.What is method chaining in Python OOP?\n",
    "'''Method chaining in Python OOP is a technique where multiple methods are called sequentially on the same object in a single line, \n",
    "separated by dots (.).\n",
    "It works by having each method return the object (self) itself, allowing continued calls.'''"
   ]
  },
  {
   "cell_type": "code",
   "execution_count": null,
   "id": "d8a17ded-c536-4113-b3e6-097cb4287d26",
   "metadata": {},
   "outputs": [],
   "source": [
    "#Q25.What is the purpose of the __call__ method in Python?\n",
    "'''The `__call__` method in Python lets an object be called like a function using parentheses.\n",
    "It allows you to define custom behavior when the object is \"called\".\n",
    "This is useful in function wrappers, decorators, or stateful objects.\n",
    "To use it, define `__call__(self, ...)` inside a class.'''\n"
   ]
  },
  {
   "cell_type": "markdown",
   "id": "ac5ba1a0-6bb4-4d06-a5b3-a3f9001fc094",
   "metadata": {},
   "source": [
    "# Practical Questions"
   ]
  },
  {
   "cell_type": "code",
   "execution_count": 12,
   "id": "e7071a2a-01ea-4adc-90fa-80cd919cebc5",
   "metadata": {},
   "outputs": [
    {
     "name": "stdout",
     "output_type": "stream",
     "text": [
      "hello world\n",
      "bark\n"
     ]
    }
   ],
   "source": [
    "#Q1.Create a parent class Animal with a method speak() that prints a generic message. Create a child class Dog that overrides the speak() method to print \"Bark!\".\n",
    "\n",
    "class Animal:\n",
    "    def speak(self):\n",
    "        print(\"hello world\")\n",
    "\n",
    "class Dog(Animal):\n",
    "    def speak(self):\n",
    "        print(\"bark\")\n",
    "\n",
    "a1 = Animal()\n",
    "a1.speak()\n",
    "d1 = Dog()\n",
    "d1.speak()\n"
   ]
  },
  {
   "cell_type": "code",
   "execution_count": 29,
   "id": "06be4888-6610-4e88-980a-8f701f9c69d3",
   "metadata": {},
   "outputs": [
    {
     "name": "stdout",
     "output_type": "stream",
     "text": [
      "Radius of circle : 78.57142857142857\n",
      "Area of rectangle : 24\n"
     ]
    }
   ],
   "source": [
    "#Q2.Write a program to create an abstract class Shape with a method area(). Derive classes Circle and Rectangle from it and implement the area() method in both.\n",
    "\n",
    "from abc import ABC, abstractmethod\n",
    "class Shape(ABC):\n",
    "    @abstractmethod\n",
    "    def area(self):\n",
    "        pass\n",
    "\n",
    "class Circle(Shape):\n",
    "    def __init__(self,radius):\n",
    "        self.radius = radius\n",
    "\n",
    "    def area(self):\n",
    "        return (22/7) * self.radius ** 2\n",
    "\n",
    "class Rectangle(Shape):\n",
    "    def __init__(self,length,width):\n",
    "        self.length = length\n",
    "        self.width = width\n",
    "\n",
    "    def area(self):\n",
    "        return self.length * self.width\n",
    "\n",
    "c1 = Circle(5)\n",
    "print(\"Radius of circle :\",c1.area())\n",
    "\n",
    "r1 = Rectangle(4,6)\n",
    "print(\"Area of rectangle :\",r1.area())\n"
   ]
  },
  {
   "cell_type": "code",
   "execution_count": 2,
   "id": "b55b003f-c00b-4d86-9d7c-a9fb4946f422",
   "metadata": {},
   "outputs": [
    {
     "name": "stdout",
     "output_type": "stream",
     "text": [
      "Vehicle type : Four Wheeler\n",
      "Brand : TATA\n",
      "Battery_capacity : 75kwh\n"
     ]
    }
   ],
   "source": [
    "#Q3.Implement a multi-level inheritance scenario where a class Vehicle has an attribute type. Derive a class Car and further derive a class ElectricCar that adds a battery attribute.\n",
    "\n",
    "class Vehicle:\n",
    "    def __init__(self,type):\n",
    "        self.type = type\n",
    "\n",
    "    def display_info(self):\n",
    "        print(\"Vehicle type :\",self.type)\n",
    "\n",
    "class Car(Vehicle):\n",
    "    def __init__(self,type,brand):\n",
    "        super().__init__(type)\n",
    "        self.brand = brand\n",
    "\n",
    "    def display_info(self):\n",
    "        super().display_info()\n",
    "        print(\"Brand :\",self.brand)\n",
    "\n",
    "class ElectricCar(Car):\n",
    "    def __init__(self,type,brand,battery_capacity):\n",
    "        super().__init__(type,brand)\n",
    "        self.battery_capacity = battery_capacity\n",
    "\n",
    "    def display_info(self):\n",
    "        super().display_info()\n",
    "        print(\"Battery_capacity :\",self.battery_capacity)\n",
    "\n",
    "ecar = ElectricCar(\"Four Wheeler\",\"TATA\",\"75kwh\")\n",
    "ecar.display_info()\n",
    "\n"
   ]
  },
  {
   "cell_type": "code",
   "execution_count": 21,
   "id": "5465128c-2ed1-446c-9e69-0fb585285a3d",
   "metadata": {},
   "outputs": [
    {
     "name": "stdout",
     "output_type": "stream",
     "text": [
      "sparrow is flying in the sky\n",
      "Penguins can't fly but they swim really well.\n"
     ]
    }
   ],
   "source": [
    "#Q4.Demonstrate polymorphism by creating a base class Bird with a method fly(). Create two derived classes Sparrow and Penguin that override the fly() method.\n",
    "\n",
    "class Bird:\n",
    "    def fly(self):\n",
    "        print(\"bird is flying...\")\n",
    "\n",
    "class Sparrow(Bird):\n",
    "    def fly(self):\n",
    "        print(\"sparrow is flying in the sky\")\n",
    "\n",
    "class Penguin(Bird):\n",
    "    def fly(self):\n",
    "        print(\"Penguins can't fly but they swim really well.\")\n",
    "\n",
    "def bird_flight(bird):\n",
    "    bird.fly()\n",
    "\n",
    "sparrow = Sparrow()\n",
    "penguin = Penguin()\n",
    "\n",
    "bird_flight(sparrow)\n",
    "bird_flight(penguin)\n"
   ]
  },
  {
   "cell_type": "code",
   "execution_count": 19,
   "id": "bedefbfc-17f7-4355-b9ec-26b105b979b7",
   "metadata": {},
   "outputs": [
    {
     "name": "stdout",
     "output_type": "stream",
     "text": [
      "Deposited : 1000\n",
      "Current balance : 1000\n",
      "Withdraw : 500\n",
      "Current balance : 500\n",
      "Deposited : 20000\n",
      "Current balance : 20500\n"
     ]
    },
    {
     "ename": "AttributeError",
     "evalue": "'BankAccount' object has no attribute '__balance'",
     "output_type": "error",
     "traceback": [
      "\u001b[31m---------------------------------------------------------------------------\u001b[39m",
      "\u001b[31mAttributeError\u001b[39m                            Traceback (most recent call last)",
      "\u001b[36mCell\u001b[39m\u001b[36m \u001b[39m\u001b[32mIn[19]\u001b[39m\u001b[32m, line 26\u001b[39m\n\u001b[32m     24\u001b[39m acc1.deposit(\u001b[32m20000\u001b[39m)\n\u001b[32m     25\u001b[39m acc1.check_balance()\n\u001b[32m---> \u001b[39m\u001b[32m26\u001b[39m \u001b[43macc1\u001b[49m\u001b[43m.\u001b[49m\u001b[43m__balance\u001b[49m\n",
      "\u001b[31mAttributeError\u001b[39m: 'BankAccount' object has no attribute '__balance'"
     ]
    }
   ],
   "source": [
    "#Q5. Write a program to demonstrate encapsulation by creating a class BankAccount with private attributes balance and methods to deposit, withdraw, and check balance.\n",
    "class BankAccount:\n",
    "    def __init__(self,balance):\n",
    "        self.__balance = balance\n",
    "\n",
    "    def deposit(self,amount):\n",
    "        self.__balance += amount\n",
    "        print(\"Deposited :\",amount)\n",
    "        print(\"Current balance :\",self.__balance)\n",
    "\n",
    "    def withdraw(self,amount):\n",
    "        self.__balance -= amount\n",
    "        print(\"Withdraw :\",amount)\n",
    "        print(\"Current balance :\",self.__balance)\n",
    "        \n",
    "\n",
    "    def check_balance(self):\n",
    "        return self.__balance\n",
    "\n",
    "acc1 = BankAccount(0)\n",
    "acc1.check_balance()\n",
    "acc1.deposit(1000)\n",
    "acc1.withdraw(500)\n",
    "acc1.deposit(20000)\n",
    "acc1.check_balance()\n",
    "acc1.__balance    # private attribute"
   ]
  },
  {
   "cell_type": "code",
   "execution_count": 22,
   "id": "afaf6a03-3935-4bb8-ad6e-01658adb4c01",
   "metadata": {},
   "outputs": [
    {
     "name": "stdout",
     "output_type": "stream",
     "text": [
      "strumming the guitar\n",
      "playing the piano\n"
     ]
    }
   ],
   "source": [
    "#Q6.Demonstrate runtime polymorphism using a method play() in a base class Instrument. Derive classes Guitar and Piano that implement their own version of play().\n",
    "class Instrument:\n",
    "    def play(self):\n",
    "        print(\"playing an instrument\")\n",
    "\n",
    "class Guitar(Instrument):\n",
    "    def play(self):\n",
    "        print(\"strumming the guitar\")\n",
    "\n",
    "class Piano(Instrument):\n",
    "    def play(self):\n",
    "        print(\"playing the piano\")\n",
    "        \n",
    "## Function to demonstrate runtime polymorphism\n",
    "def perform(instrument):\n",
    "    instrument.play()\n",
    "\n",
    "guitar = Guitar()\n",
    "piano = Piano()\n",
    "\n",
    "perform(guitar)\n",
    "perform(piano)\n"
   ]
  },
  {
   "cell_type": "code",
   "execution_count": 24,
   "id": "dd5944c6-ebf0-4a95-91a2-452892fa948c",
   "metadata": {},
   "outputs": [
    {
     "name": "stdout",
     "output_type": "stream",
     "text": [
      "Addition: 15\n",
      "Subtraction: 5\n"
     ]
    }
   ],
   "source": [
    "#Q7. Create a class MathOperations with a class method add_numbers() to add two numbers and a static method subtract_numbers() to subtract two numbers\n",
    "class MathOperations:\n",
    "    \n",
    "    @classmethod\n",
    "    def add_numbers(cls, a, b):\n",
    "        return a + b\n",
    "\n",
    "    @staticmethod\n",
    "    def subtract_numbers(a, b):\n",
    "        return a - b\n",
    "\n",
    "print(\"Addition:\", MathOperations.add_numbers(10, 5))  \n",
    "print(\"Subtraction:\", MathOperations.subtract_numbers(10, 5))  \n",
    "\n",
    "\n"
   ]
  },
  {
   "cell_type": "code",
   "execution_count": 26,
   "id": "624b866c-5b88-48fb-a2a7-7f20fa52ae61",
   "metadata": {},
   "outputs": [
    {
     "name": "stdout",
     "output_type": "stream",
     "text": [
      "Total number of persons : 4\n"
     ]
    }
   ],
   "source": [
    "#Q8. Implement a class Person with a class method to count the total number of persons created.\n",
    "class Person:\n",
    "    count = 0\n",
    "    def __init__(self,name):\n",
    "        self.name = name\n",
    "        Person.count += 1\n",
    "\n",
    "    @classmethod\n",
    "    def total_persons(cls):\n",
    "        return cls.count\n",
    "\n",
    "p1 = Person(\"Rahul\")\n",
    "p2 = Person(\"Ravi\")\n",
    "p3 = Person(\"Rohan\")\n",
    "p4 = Person(\"Raj\")\n",
    "\n",
    "print(\"Total number of persons :\",Person.total_persons())\n",
    "\n"
   ]
  },
  {
   "cell_type": "code",
   "execution_count": 33,
   "id": "160e4d77-1af9-4122-8929-6ddc89ad1590",
   "metadata": {},
   "outputs": [
    {
     "name": "stdout",
     "output_type": "stream",
     "text": [
      "3/4\n",
      "5/6\n"
     ]
    }
   ],
   "source": [
    "#Q9.Write a class Fraction with attributes numerator and denominator. Override the str method to display the fraction as \"numerator/denominator\".\n",
    "class Fraction:\n",
    "    def __init__(self,numerator,denominator):\n",
    "        self.numerator = numerator\n",
    "        self.denominator = denominator\n",
    "\n",
    "    def __str__(self):\n",
    "        return f\"{self.numerator}/{self.denominator}\"\n",
    "\n",
    "f1 = Fraction(3,4)\n",
    "f2 = Fraction(5,6)\n",
    "\n",
    "print(f1)\n",
    "print(f2)"
   ]
  },
  {
   "cell_type": "code",
   "execution_count": 35,
   "id": "3c277d2a-fb0c-4e2c-8dae-1da5105dba19",
   "metadata": {},
   "outputs": [
    {
     "data": {
      "text/plain": [
       "(8, 10)"
      ]
     },
     "execution_count": 35,
     "metadata": {},
     "output_type": "execute_result"
    }
   ],
   "source": [
    "#Q10.Demonstrate operator overloading by creating a class Vector and overriding the add method to add two vectors.\n",
    "class Vector:\n",
    "    def __init__(self,x,y):\n",
    "        self.x = x\n",
    "        self.y = y\n",
    "\n",
    "    def show_num(self):\n",
    "        return self.x ,self.y\n",
    "\n",
    "    def __add__(self,other):\n",
    "        return Vector(self.x + other.x, self.y + other.y)\n",
    "\n",
    "    def __str__(self):\n",
    "        return f\"Vector({self.x},{self.y})\"\n",
    "\n",
    "v1 = Vector(3,4)\n",
    "v2 = Vector(5,6)\n",
    "v3 = v1 + v2\n",
    "v3.show_num()\n",
    "\n",
    "    \n"
   ]
  },
  {
   "cell_type": "code",
   "execution_count": 36,
   "id": "96929e3b-67d6-4b6e-8baf-106b8b6f0386",
   "metadata": {},
   "outputs": [
    {
     "name": "stdout",
     "output_type": "stream",
     "text": [
      "Hello,my name is Rahul and i am 27 years old\n"
     ]
    }
   ],
   "source": [
    "#Q11. Create a class Person with attributes name and age. Add a method greet() that prints \"Hello, my name is {name} and I am {age} years old.\"\n",
    "class Person:\n",
    "    def __init__(self,name,age):\n",
    "        self.name = name\n",
    "        self.age = age\n",
    "\n",
    "    def greet(self):\n",
    "        print(f\"Hello,my name is {self.name} and i am {self.age} years old\")\n",
    "\n",
    "g1 = Person(\"Rahul\",27)\n",
    "g1.greet()\n"
   ]
  },
  {
   "cell_type": "code",
   "execution_count": 45,
   "id": "f98e395b-fa16-4639-947d-4ecc434b2200",
   "metadata": {},
   "outputs": [
    {
     "name": "stdout",
     "output_type": "stream",
     "text": [
      "Rahul's average grade : 98.0\n",
      "Nidhi's average grade : 75.75\n"
     ]
    }
   ],
   "source": [
    "#Q12. Implement a class Student with attributes name and grades. Create a method average_grade() to compute the average of the grades\n",
    "class Student:\n",
    "    def __init__(self,name,grades):\n",
    "        self.name = name\n",
    "        self.grades = grades\n",
    "\n",
    "    def avg_grade(self):\n",
    "        if not self.grades:\n",
    "            return 0\n",
    "        return sum(self.grades)/len(self.grades)\n",
    "\n",
    "s1 = Student(\"Rahul\",[98,97,98,99])\n",
    "s2 = Student(\"Nidhi\",[76,78,75,74])\n",
    "\n",
    "print(f\"{s1.name}'s average grade : {s1.avg_grade()}\")\n",
    "print(f\"{s2.name}'s average grade : {s2.avg_grade()}\")\n",
    "\n",
    "\n"
   ]
  },
  {
   "cell_type": "code",
   "execution_count": 51,
   "id": "11e94299-eff6-4544-b2fe-c1ee45c31039",
   "metadata": {},
   "outputs": [
    {
     "data": {
      "text/plain": [
       "'Area of rectangle : 35'"
      ]
     },
     "execution_count": 51,
     "metadata": {},
     "output_type": "execute_result"
    }
   ],
   "source": [
    "#Q13. Create a class Rectangle with methods set_dimensions() to set the dimensions and area() to calculate the area.\n",
    "class Rectangle:\n",
    "    def __init__(self):\n",
    "        self.length = 0\n",
    "        self.width = 0\n",
    "        \n",
    "    def set_dimensions(self,length,width):\n",
    "        self.length = length\n",
    "        self.width = width\n",
    "\n",
    "    def area(self):\n",
    "        return f\"Area of rectangle : {self.length*self.width}\"\n",
    "\n",
    "rect = Rectangle()\n",
    "rect.set_dimensions(5,7)\n",
    "rect.area()\n",
    "\n"
   ]
  },
  {
   "cell_type": "code",
   "execution_count": 59,
   "id": "757a74cf-1e2b-4dc4-a845-290a0918f497",
   "metadata": {},
   "outputs": [
    {
     "name": "stdout",
     "output_type": "stream",
     "text": [
      "Rohan salary is : 800\n",
      "Rahul salary is : 1950\n"
     ]
    }
   ],
   "source": [
    "#Q14. Create a class Employee with a method calculate_salary() that computes the salary based on hours worked and hourly rate. Create a derived class Manager that adds a bonus to the salary\n",
    "class Employee:\n",
    "    def __init__(self,name,hours_worked,hourly_rate):\n",
    "        self.name = name\n",
    "        self.hours_worked = hours_worked\n",
    "        self.hourly_rate = hourly_rate\n",
    "\n",
    "    def calculate_salary(self):\n",
    "        return self.hours_worked * self.hourly_rate\n",
    "\n",
    "class Manager(Employee):\n",
    "    def __init__(self,name,hours_worked,hourly_rate,bonus):\n",
    "        super().__init__(name,hours_worked,hourly_rate)\n",
    "        self.bonus = bonus\n",
    "\n",
    "    def calculate_salary(self):\n",
    "        base_salary = super().calculate_salary()\n",
    "        return base_salary + self.bonus\n",
    "\n",
    "Emp = Employee(\"Rohan\",40,20)\n",
    "Mngr = Manager(\"Rahul\",30,15,1500)\n",
    "\n",
    "print(f\"{Emp.name} salary is : {Emp.calculate_salary()}\")\n",
    "print(f\"{Mngr.name} salary is : {Mngr.calculate_salary()}\")       \n",
    "\n",
    "\n"
   ]
  },
  {
   "cell_type": "code",
   "execution_count": 73,
   "id": "d8965f29-52bb-4d22-be3f-4121bac5f29c",
   "metadata": {},
   "outputs": [
    {
     "name": "stdout",
     "output_type": "stream",
     "text": [
      "Total price for Laptop :120000\n",
      "Total price for Headphones :30000\n"
     ]
    }
   ],
   "source": [
    "#Q15.Create a class Product with attributes name, price, and quantity. Implement a method total_price() that calculates the total price of the product.\n",
    "class Product:\n",
    "    def __init__(self,name,price,quantity):\n",
    "        self.name = name\n",
    "        self.price = price\n",
    "        self.quantity = quantity\n",
    "\n",
    "    def total_price(self):\n",
    "        return self.price*self.quantity\n",
    "\n",
    "p1 = Product(\"Laptop\",60000,2)\n",
    "p2 = Product(\"Headphones\",15000,2)\n",
    "print(f\"Total price for {p1.name} :{p1.total_price()}\")\n",
    "print(f\"Total price for {p2.name} :{p2.total_price()}\")\n"
   ]
  },
  {
   "cell_type": "code",
   "execution_count": 77,
   "id": "52b5f2c8-3018-49e6-a688-f592c95bd485",
   "metadata": {},
   "outputs": [
    {
     "name": "stdout",
     "output_type": "stream",
     "text": [
      "Cow says :Moo\n",
      "Sheep says :Baa\n"
     ]
    }
   ],
   "source": [
    "#Q16.Create a class Animal with an abstract method sound(). Create two derived classes Cow and Sheep that implement the sound() method.\n",
    "\n",
    "from abc import ABC, abstractmethod\n",
    "\n",
    "class Animal(ABC):\n",
    "    @abstractmethod\n",
    "    def sound(self):\n",
    "        pass\n",
    "\n",
    "class Cow(Animal):\n",
    "    def sound(self):\n",
    "        return \"Moo\"\n",
    "\n",
    "class Sheep(Animal):\n",
    "    def sound(self):\n",
    "        return \"Baa\"\n",
    "\n",
    "cow = Cow()\n",
    "sheep = Sheep()\n",
    "\n",
    "print(f\"Cow says :{cow.sound()}\")\n",
    "print(f\"Sheep says :{sheep.sound()}\")\n"
   ]
  },
  {
   "cell_type": "code",
   "execution_count": 80,
   "id": "818c2083-aed2-4653-a1a0-e98bf95d7602",
   "metadata": {},
   "outputs": [
    {
     "name": "stdout",
     "output_type": "stream",
     "text": [
      "Wanted city by Rahull DDhanola (Published :2015)\n",
      "Future by Nidhi Chauhan (Published :2017)\n"
     ]
    }
   ],
   "source": [
    "#Q17. Create a class Book with attributes title, author, and year_published. Add a method get_book_info() that returns a formatted string with the book's details.\n",
    "class Book:\n",
    "    def __init__(self,title,author,year_published):\n",
    "        self.title = title\n",
    "        self.author = author\n",
    "        self.year_published = year_published\n",
    "\n",
    "    def get_book_info(self):\n",
    "        return f\"{self.title} by {self.author} (Published :{self.year_published})\"\n",
    "\n",
    "book1 = Book(\"Wanted city\",\"Rahull DDhanola\",2015)\n",
    "book2 = Book(\"Future\",\"Nidhi Chauhan\",2017)\n",
    "\n",
    "print(book1.get_book_info())\n",
    "print(book2.get_book_info())\n"
   ]
  },
  {
   "cell_type": "code",
   "execution_count": 83,
   "id": "0422c849-33d7-41b6-a402-aac337879749",
   "metadata": {},
   "outputs": [
    {
     "name": "stdout",
     "output_type": "stream",
     "text": [
      "Address :123 H street, Price :5000000\n",
      "Address :45 M street, Price :6000000, Rooms :7\n"
     ]
    }
   ],
   "source": [
    "#Q18.Create a class House with attributes address and price. Create a derived class Mansion that adds an attribute number_of_rooms.\n",
    "class House:\n",
    "    def __init__(self,address,price):\n",
    "        self.address = address\n",
    "        self.price = price\n",
    "\n",
    "    def get_info(self):\n",
    "        return f\"Address :{self.address}, Price :{self.price}\"\n",
    "\n",
    "class Mansion(House):\n",
    "    def __init__(self,address,price,no_of_rooms):\n",
    "        super().__init__(address,price)\n",
    "        self.no_of_rooms = no_of_rooms\n",
    "\n",
    "    def get_info(self):\n",
    "        base_info = super().get_info()\n",
    "        return f\"{base_info}, Rooms :{self.no_of_rooms}\"\n",
    "\n",
    "h1 = House(\"123 H street\",5000000)\n",
    "m1 = Mansion(\"45 M street\",6000000,7)\n",
    "\n",
    "print(h1.get_info())\n",
    "print(m1.get_info())\n",
    "\n",
    "    \n"
   ]
  },
  {
   "cell_type": "code",
   "execution_count": null,
   "id": "570ff7c2-1209-4928-85b4-a7c7b863ad22",
   "metadata": {},
   "outputs": [],
   "source": []
  },
  {
   "cell_type": "code",
   "execution_count": null,
   "id": "05e1ebf3-2d56-4aff-ad0f-48c8b5510b29",
   "metadata": {},
   "outputs": [],
   "source": []
  },
  {
   "cell_type": "code",
   "execution_count": null,
   "id": "278c3d27-8464-48bc-96b0-0b4198881a59",
   "metadata": {},
   "outputs": [],
   "source": []
  },
  {
   "cell_type": "code",
   "execution_count": null,
   "id": "190ede45-dc83-4de3-ab9a-7cbadf2344a5",
   "metadata": {},
   "outputs": [],
   "source": []
  },
  {
   "cell_type": "code",
   "execution_count": null,
   "id": "570eb28b-b559-485f-9fdc-be7af48046b0",
   "metadata": {},
   "outputs": [],
   "source": []
  },
  {
   "cell_type": "code",
   "execution_count": null,
   "id": "f6ecccfb-863c-4438-82d6-e1b86aea4ea5",
   "metadata": {},
   "outputs": [],
   "source": []
  },
  {
   "cell_type": "code",
   "execution_count": null,
   "id": "ebde6d2c-2353-4b93-817d-4df658e08c93",
   "metadata": {},
   "outputs": [],
   "source": []
  },
  {
   "cell_type": "code",
   "execution_count": null,
   "id": "541ddb00-9257-466c-a999-85594e9200f9",
   "metadata": {},
   "outputs": [],
   "source": []
  },
  {
   "cell_type": "code",
   "execution_count": null,
   "id": "49804ed7-dfbc-4d4c-828d-b97827ba149e",
   "metadata": {},
   "outputs": [],
   "source": []
  },
  {
   "cell_type": "code",
   "execution_count": null,
   "id": "3eda878c-3784-4399-bbfe-6475133343ac",
   "metadata": {},
   "outputs": [],
   "source": []
  },
  {
   "cell_type": "code",
   "execution_count": null,
   "id": "7c325df4-4c6a-4c8f-b2c2-0fa4f05aa016",
   "metadata": {},
   "outputs": [],
   "source": []
  },
  {
   "cell_type": "code",
   "execution_count": null,
   "id": "5d03f304-6f21-404b-ba0d-949774307648",
   "metadata": {},
   "outputs": [],
   "source": []
  },
  {
   "cell_type": "code",
   "execution_count": null,
   "id": "0d26eaef-8b31-46ca-951d-9dc5b9810fe5",
   "metadata": {},
   "outputs": [],
   "source": []
  },
  {
   "cell_type": "code",
   "execution_count": null,
   "id": "3524ba4f-ad78-4118-a095-b4ad1f3c4532",
   "metadata": {},
   "outputs": [],
   "source": []
  },
  {
   "cell_type": "code",
   "execution_count": null,
   "id": "e944f533-6390-49dc-b7b1-9fd26eccf220",
   "metadata": {},
   "outputs": [],
   "source": []
  },
  {
   "cell_type": "code",
   "execution_count": null,
   "id": "5febfa5f-87df-4364-841a-e2350d3c8eb9",
   "metadata": {},
   "outputs": [],
   "source": []
  },
  {
   "cell_type": "code",
   "execution_count": null,
   "id": "3c02ed19-bd9c-4afb-91ca-1a6dc0a5ddd1",
   "metadata": {},
   "outputs": [],
   "source": []
  },
  {
   "cell_type": "code",
   "execution_count": null,
   "id": "733c767b-1e3b-40c8-8dd4-3bb694e3f49a",
   "metadata": {},
   "outputs": [],
   "source": []
  },
  {
   "cell_type": "code",
   "execution_count": null,
   "id": "1ff699cc-b29e-411e-bac9-ee4fa7d566fb",
   "metadata": {},
   "outputs": [],
   "source": []
  },
  {
   "cell_type": "code",
   "execution_count": null,
   "id": "6821a57b-677f-430d-9355-fcefce8f7d14",
   "metadata": {},
   "outputs": [],
   "source": []
  },
  {
   "cell_type": "code",
   "execution_count": null,
   "id": "f72d3326-bbdb-44f3-a1a8-3d48d5890808",
   "metadata": {},
   "outputs": [],
   "source": []
  },
  {
   "cell_type": "code",
   "execution_count": null,
   "id": "875b67b4-9ca4-4a77-888a-19ca06de6ef5",
   "metadata": {},
   "outputs": [],
   "source": []
  },
  {
   "cell_type": "code",
   "execution_count": null,
   "id": "8ca937e3-f9da-4401-bf45-ad339693f489",
   "metadata": {},
   "outputs": [],
   "source": []
  },
  {
   "cell_type": "code",
   "execution_count": null,
   "id": "933ad535-424d-4084-8197-bf226bba452e",
   "metadata": {},
   "outputs": [],
   "source": []
  },
  {
   "cell_type": "code",
   "execution_count": null,
   "id": "39e5f904-e305-472d-b8d6-7ae4f6d23fa8",
   "metadata": {},
   "outputs": [],
   "source": []
  },
  {
   "cell_type": "code",
   "execution_count": null,
   "id": "5132382d-d25f-4a98-873a-5d3e70022d9d",
   "metadata": {},
   "outputs": [],
   "source": []
  },
  {
   "cell_type": "code",
   "execution_count": null,
   "id": "8d3a1268-6f60-44cb-8535-1736a07040b9",
   "metadata": {},
   "outputs": [],
   "source": []
  },
  {
   "cell_type": "code",
   "execution_count": null,
   "id": "bb9d7437-807f-4cba-9f8d-04ca742eb719",
   "metadata": {},
   "outputs": [],
   "source": []
  },
  {
   "cell_type": "code",
   "execution_count": null,
   "id": "0e77f882-16a0-42c9-a8b8-3fece5aa79ce",
   "metadata": {},
   "outputs": [],
   "source": []
  },
  {
   "cell_type": "code",
   "execution_count": null,
   "id": "fd64bffe-117c-4f58-b8fc-e4ba4ff7eb69",
   "metadata": {},
   "outputs": [],
   "source": []
  },
  {
   "cell_type": "code",
   "execution_count": null,
   "id": "2f579596-12df-4d57-97dd-fb275e7a4f8b",
   "metadata": {},
   "outputs": [],
   "source": []
  }
 ],
 "metadata": {
  "kernelspec": {
   "display_name": "Python 3 (ipykernel)",
   "language": "python",
   "name": "python3"
  },
  "language_info": {
   "codemirror_mode": {
    "name": "ipython",
    "version": 3
   },
   "file_extension": ".py",
   "mimetype": "text/x-python",
   "name": "python",
   "nbconvert_exporter": "python",
   "pygments_lexer": "ipython3",
   "version": "3.13.5"
  }
 },
 "nbformat": 4,
 "nbformat_minor": 5
}
