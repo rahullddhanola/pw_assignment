{
 "cells": [
  {
   "cell_type": "markdown",
   "id": "4538fc88-c1f4-45ac-b0c1-7a0acbe74b80",
   "metadata": {},
   "source": [
    "# Theory Questions"
   ]
  },
  {
   "cell_type": "code",
   "execution_count": null,
   "id": "1b936005-dafc-42f8-a87c-d09a982f627b",
   "metadata": {},
   "outputs": [],
   "source": [
    "#Q1.What is a RESTful API?\n",
    "'''A RESTful API (Representational State Transfer API) is an application programming interface that follows the principles of REST architecture.\n",
    "It allows communication between client and server over the web using standard HTTP methods.'''"
   ]
  },
  {
   "cell_type": "code",
   "execution_count": null,
   "id": "04e28d6c-033d-4342-a981-523244dc6a69",
   "metadata": {},
   "outputs": [],
   "source": [
    "#Q2.Explain the concept of API specification?\n",
    "'''An API specification is a detailed contract that defines how an API works. It describes the available endpoints, the HTTP methods allowed, \n",
    "required inputs/parameters, and expected responses with status codes. It also covers authentication rules and error formats. \n",
    "In short, it ensures developers know exactly how to request and use the API consistently.'''\n"
   ]
  },
  {
   "cell_type": "code",
   "execution_count": null,
   "id": "487cd2e8-ec5e-40d9-aa46-f0de99b4ecab",
   "metadata": {},
   "outputs": [],
   "source": [
    "#Q3.What is Flask, and why is it popular for building APIs?\n",
    "'''Flask is a lightweight, open-source web framework for Python used to build web applications and RESTful APIs. It is based on the WSGI\n",
    "(Web Server Gateway Interface) standard and follows a minimal, modular design, meaning you only add the components you need.\n",
    "\n",
    " Why Flask is popular for APIs:\n",
    "\n",
    "Simplicity & Minimalism → easy to learn and set up, perfect for beginners.\n",
    "\n",
    "Flexibility → no strict project structure; developers choose their own tools.\n",
    "\n",
    "Extensible → supports many extensions for databases, authentication, etc.\n",
    "\n",
    "Lightweight & Fast → great for small to medium APIs and microservices.\n",
    "\n",
    "Large Community → lots of tutorials, libraries, and active support.'''"
   ]
  },
  {
   "cell_type": "code",
   "execution_count": null,
   "id": "47709e8f-108f-4079-9906-54c5d6f32e0f",
   "metadata": {},
   "outputs": [],
   "source": [
    "#Q4.What is routing in Flask ?\n",
    "'''In Flask, routing is the process of mapping a URL (path) to a specific function in your code (called a view function). When a user visits\n",
    "a URL, Flask looks at its routing table and calls the function associated with that route.'''"
   ]
  },
  {
   "cell_type": "code",
   "execution_count": null,
   "id": "3f5e9cc2-35ff-4408-8a12-a65584cdeb11",
   "metadata": {},
   "outputs": [],
   "source": [
    "#Q5.How do you create a simple Flask application ?\n",
    "'''A simple Flask application is created by first importing Flask and creating an app instance. Then, routes are defined to handle different URLs, \n",
    "and finally the app is run using the built-in development server. This allows the application to respond to web requests.'''\n"
   ]
  },
  {
   "cell_type": "code",
   "execution_count": null,
   "id": "d22c52e0-ec35-4b92-9cd9-4cd91aa2f7eb",
   "metadata": {},
   "outputs": [],
   "source": [
    "#Q6.What are HTTP methods used in RESTful APIs?\n",
    "'''In RESTful APIs, the main **HTTP methods** are:\n",
    "\n",
    "* **GET** → Retrieve data from the server (read).\n",
    "* **POST** → Send data to create a new resource.\n",
    "* **PUT** → Update/replace an existing resource.\n",
    "* **PATCH** → Partially update an existing resource.\n",
    "* **DELETE** → Remove a resource.\n",
    "\n",
    "👉 These methods map directly to **CRUD operations** (Create, Read, Update, Delete).'''\n"
   ]
  },
  {
   "cell_type": "code",
   "execution_count": null,
   "id": "a9862566-12d9-4367-bec3-36f202cdc56f",
   "metadata": {},
   "outputs": [],
   "source": [
    "#Q7.What is the purpose of the @app.route() decorator in Flask?\n",
    "'''In Flask, the @app.route() decorator is used to map a URL path to a specific function (called a view function).\n",
    "Its purpose is to tell Flask: “When a user visits this URL, run this function and return its response.” '''"
   ]
  },
  {
   "cell_type": "code",
   "execution_count": null,
   "id": "0cb3a634-183a-45f1-8935-8400a427fef4",
   "metadata": {},
   "outputs": [],
   "source": [
    "#Q8.What is the difference between GET and POST HTTP methods ?\n",
    "'''The key differences between GET and POST in HTTP are:\n",
    "\n",
    "GET:\n",
    "\n",
    "Used to retrieve data from the server.\n",
    "\n",
    "Parameters are sent in the URL query string (visible in browser).\n",
    "\n",
    "Usually idempotent (does not change server data).\n",
    "\n",
    "Can be cached and bookmarked.\n",
    "\n",
    "POST:\n",
    "\n",
    "Used to send data to the server (e.g., form submission, creating a resource).\n",
    "\n",
    "Data is sent in the request body (not visible in URL).\n",
    "\n",
    "Not idempotent (can change server state).\n",
    "\n",
    "Cannot be cached or bookmarked easily.'''"
   ]
  },
  {
   "cell_type": "code",
   "execution_count": null,
   "id": "9036d9cb-dc4b-412e-9c77-ce24fb97597f",
   "metadata": {},
   "outputs": [],
   "source": [
    "#Q9.How do you handle errors in Flask APIs?\n",
    "'''In Flask APIs, errors are handled using error handlers and by returning proper HTTP status codes with messages.\n",
    "\n",
    " Ways to handle errors:\n",
    "\n",
    "Default error handling – Flask automatically returns errors like 404 Not Found if a route doesn’t exist.\n",
    "\n",
    "Custom error handlers – Use @app.errorhandler() to define custom responses.\n",
    "\n",
    "Raise exceptions – Use abort() to trigger errors manually.\n",
    "\n",
    "Consistent JSON error responses – APIs usually return errors in JSON format for clients to parse easily.'''"
   ]
  },
  {
   "cell_type": "code",
   "execution_count": null,
   "id": "25069838-d99b-45b0-8c94-1e9f015091fd",
   "metadata": {},
   "outputs": [],
   "source": [
    "#Q10.How do you connect Flask to a SQL database ?\n",
    "'''You connect Flask to a SQL database by configuring a database URI, initializing SQLAlchemy, defining models, and then performing CRUD operations.'''"
   ]
  },
  {
   "cell_type": "code",
   "execution_count": null,
   "id": "2d589ccc-156b-49a1-90bf-b3402cebbd92",
   "metadata": {},
   "outputs": [],
   "source": [
    "#Q11.What is the role of Flask-SQLAlchemy?\n",
    "'''Flask-SQLAlchemy is a Flask extension that integrates the SQLAlchemy ORM (Object Relational Mapper) with Flask.\n",
    "\n",
    "Role of Flask-SQLAlchemy:\n",
    "\n",
    "Simplifies database connections and configuration in Flask apps.\n",
    "\n",
    "Lets you define models (tables) as Python classes instead of writing raw SQL.\n",
    "\n",
    "Provides easy methods for CRUD operations (create, read, update, delete).\n",
    "\n",
    "Manages database sessions and queries efficiently.\n",
    "\n",
    "Supports multiple databases (SQLite, MySQL, PostgreSQL, etc.).'''"
   ]
  },
  {
   "cell_type": "code",
   "execution_count": null,
   "id": "170d9cc3-7c59-43b5-a35e-014fb90085a9",
   "metadata": {},
   "outputs": [],
   "source": [
    "#Q12.What are Flask blueprints, and how are they useful?\n",
    "'''Flask Blueprints are a way to organize a Flask application into reusable and modular components. Instead of defining all routes and \n",
    "logic in a single file, you can split them into multiple blueprints for better structure.\n",
    "\n",
    "Why they are useful:\n",
    "\n",
    "Modularity: Separate features (like auth, blog, api) into different files or modules.\n",
    "\n",
    "Reusability: Blueprints can be reused across different apps.\n",
    "\n",
    "Maintainability: Makes large applications easier to manage and scale.\n",
    "\n",
    "Clean routing: Each blueprint can have its own set of routes, templates, and static files.'''"
   ]
  },
  {
   "cell_type": "code",
   "execution_count": null,
   "id": "1c8755e3-7e0d-41ff-8104-1b6036636d74",
   "metadata": {},
   "outputs": [],
   "source": [
    "#Q13.What is the purpose of Flask's request object?\n",
    "'''In Flask, the request object represents the incoming HTTP request from the client.\n",
    "\n",
    " Purpose:\n",
    "\n",
    "Access request data like form inputs, JSON payloads, query parameters, and headers.\n",
    "\n",
    "Determine the HTTP method (GET, POST, etc.) used by the client.\n",
    "\n",
    "Retrieve information like cookies, files, and the client’s IP address.'''"
   ]
  },
  {
   "cell_type": "code",
   "execution_count": null,
   "id": "6818c38e-8fb3-4fa4-a356-e65692cd1539",
   "metadata": {},
   "outputs": [],
   "source": [
    "#Q14.How do you create a RESTful API endpoint using Flask?\n",
    "''' To create a RESTful API endpoint in Flask, you define a route using the `@app.route()` decorator, specify the allowed \n",
    "HTTP methods (like GET, POST, PUT, DELETE), and write a function that processes the request and returns a response, usually in JSON format. \n",
    "This allows clients to interact with your server using standard REST principles.'''\n"
   ]
  },
  {
   "cell_type": "code",
   "execution_count": null,
   "id": "8a7a852a-c183-42e7-acd7-4bcc8ea25b58",
   "metadata": {},
   "outputs": [],
   "source": [
    "#Q15.What is the purpose of Flask's jsonify() function?\n",
    "'''In Flask, the jsonify() function is used to convert Python data structures (like dictionaries or lists) into a JSON-formatted HTTP response.\n",
    "\n",
    "Purpose:\n",
    "\n",
    "Ensures the response is valid JSON.\n",
    "\n",
    "Automatically sets the Content-Type header to application/json.\n",
    "\n",
    "Simplifies returning data from API endpoints.'''"
   ]
  },
  {
   "cell_type": "code",
   "execution_count": null,
   "id": "7f500ca8-fd33-4135-b599-01fe4e555446",
   "metadata": {},
   "outputs": [],
   "source": [
    "#Q16.Explain Flask’s url_for() function?\n",
    "'''In Flask, the url_for() function is used to dynamically generate URLs for routes or static files based on the function name rather than \n",
    "hardcoding the URL.\n",
    "\n",
    "Benefits:\n",
    "\n",
    "Avoids hardcoding URLs, making the app more maintainable.\n",
    "\n",
    "Automatically handles URL changes and query parameters.\n",
    "\n",
    "Useful for linking routes and serving static files.'''"
   ]
  },
  {
   "cell_type": "code",
   "execution_count": null,
   "id": "c1ad3b48-8af4-45ed-a0b1-e9b34eafd451",
   "metadata": {},
   "outputs": [],
   "source": [
    "#Q17.How does Flask handle static files (CSS, JavaScript, etc.)?\n",
    "'''Flask handles static files (CSS, JavaScript, images) by serving them from a `static` folder in the project. You can reference \n",
    "these files in templates using `url_for('static', filename='file_path')`. This allows Flask to generate the correct URL dynamically and serve \n",
    "the files efficiently.'''"
   ]
  },
  {
   "cell_type": "code",
   "execution_count": null,
   "id": "9abb4ea8-5c17-4a50-9700-e68969b2d0d7",
   "metadata": {},
   "outputs": [],
   "source": [
    "#Q18.What is an API specification, and how does it help in building a Flask API?\n",
    "'''An API specification is a formal document that defines how an API works, including its endpoints, HTTP methods, request/response formats, \n",
    "parameters, and status codes.\n",
    "\n",
    "How it helps in Flask API development:\n",
    "\n",
    "* Serves as a contract between frontend and backend developers.\n",
    "* Ensures consistent request/response formats.\n",
    "* Makes it easier to implement, test, and maintain the API.\n",
    "* Supports automatic documentation and tools like Swagger/OpenAPI.\n",
    "\n",
    "In short: API specifications guide the design and implementation of a Flask API, ensuring clarity, consistency, and maintainability.'''\n"
   ]
  },
  {
   "cell_type": "code",
   "execution_count": null,
   "id": "5953a7d5-67b9-41af-9cb9-de638235465f",
   "metadata": {},
   "outputs": [],
   "source": [
    "#Q19.What are HTTP status codes, and why are they important in a Flask API?\n",
    "'''HTTP status codes are standardized numeric codes returned by a server to indicate the result of a client’s request.\n",
    "\n",
    "Importance in a Flask API:\n",
    "\n",
    "* Communicate the outcome: Let the client know if the request was successful (`200 OK`), created (`201 Created`), invalid (`400 Bad Request`), \n",
    "unauthorized (`401 Unauthorized`), or failed (`500 Internal Server Error`).\n",
    "\n",
    "* Standardization:Helps clients handle responses consistently.\n",
    "\n",
    "* Debugging & monitoring: Makes it easier to identify errors or issues in API requests.'''\n"
   ]
  },
  {
   "cell_type": "code",
   "execution_count": null,
   "id": "5ecfd7d0-5d08-45ae-a642-748e86686a9f",
   "metadata": {},
   "outputs": [],
   "source": [
    "#Q20.How do you handle POST requests in Flask?\n",
    "'''POST requests in Flask are handled by creating a route that allows the POST method. The request object is used to access the data \n",
    "sent by the client, such as JSON or form data. The server processes this data and returns an appropriate response, often with a status code \n",
    "indicating success or failure.'''"
   ]
  },
  {
   "cell_type": "code",
   "execution_count": null,
   "id": "449cf5e5-6444-4a8a-ad4f-e54cfec87249",
   "metadata": {},
   "outputs": [],
   "source": [
    "#Q21.How would you secure a Flask API?\n",
    "'''To secure a Flask API, implement authentication (API keys, JWT, or OAuth) to control access and use HTTPS to encrypt data. \n",
    "Validate all incoming data to prevent attacks like SQL injection or XSS. Apply rate limiting to prevent abuse and configure CORS to \n",
    "allow only trusted domains. Also, handle errors carefully and use secure sessions and cookies.'''\n"
   ]
  },
  {
   "cell_type": "code",
   "execution_count": null,
   "id": "dc763d27-a97a-4394-b5d9-2b6956a740d3",
   "metadata": {},
   "outputs": [],
   "source": [
    "#Q22.What is the significance of the Flask-RESTful extension?\n",
    "'''The Flask-RESTful extension is a Flask add-on that simplifies building RESTful APIs by providing higher-level abstractions for routing,\n",
    "request parsing, and response formatting.\n",
    "\n",
    "Significance:\n",
    "\n",
    "Resource-based design: Lets you define API endpoints as resources (classes) rather than individual functions.\n",
    "\n",
    "Automatic request parsing: Built-in support for parsing JSON or form data.\n",
    "\n",
    "Simplified routing: Handles multiple HTTP methods (GET, POST, etc.) in a single class.\n",
    "\n",
    "Standardized responses: Makes it easier to return JSON responses with proper status codes.\n",
    "\n",
    "Error handling: Provides convenient ways to manage exceptions and return error messages.'''\n"
   ]
  },
  {
   "cell_type": "code",
   "execution_count": null,
   "id": "8a590852-22d7-43ad-9804-9eedac566505",
   "metadata": {},
   "outputs": [],
   "source": [
    "#Q23.What is the role of Flask’s session object?\n",
    "'''In Flask, the session object is used to store data across multiple requests from the same user. Unlike the request object\n",
    "(which handles one request at a time), session helps keep track of user-specific data between requests.\n",
    "\n",
    "Role of session:\n",
    "\n",
    "Stores temporary user data (e.g., login status, preferences, shopping cart).\n",
    "\n",
    "Uses cookies to identify users, with data securely signed using a secret key.\n",
    "\n",
    "Data persists only for the user’s session and is cleared when the session ends (e.g., browser closed or logout).'''"
   ]
  },
  {
   "cell_type": "markdown",
   "id": "1eea10c8-ac74-444f-9d80-ad7b2b8b5d72",
   "metadata": {},
   "source": [
    "# Practical Questions"
   ]
  },
  {
   "cell_type": "code",
   "execution_count": 9,
   "id": "b0a1a3d1-556a-4e5f-9a12-66a91154a15f",
   "metadata": {},
   "outputs": [
    {
     "name": "stdout",
     "output_type": "stream",
     "text": [
      " * Serving Flask app '__main__'\n",
      " * Debug mode: on\n"
     ]
    },
    {
     "name": "stderr",
     "output_type": "stream",
     "text": [
      "WARNING: This is a development server. Do not use it in a production deployment. Use a production WSGI server instead.\n",
      " * Running on http://127.0.0.1:5000\n",
      "Press CTRL+C to quit\n",
      "127.0.0.1 - - [26/Aug/2025 13:42:01] \"GET / HTTP/1.1\" 200 -\n",
      "127.0.0.1 - - [26/Aug/2025 13:42:45] \"GET / HTTP/1.1\" 200 -\n"
     ]
    }
   ],
   "source": [
    "#Q1.How do you create a basic Flask application?\n",
    "from flask import Flask\n",
    "\n",
    "# Create the Flask app\n",
    "app = Flask(__name__)\n",
    "\n",
    "# Define a route\n",
    "@app.route('/')\n",
    "def home():\n",
    "    return \"Hello, Flask in Jupyter!\"\n",
    "\n",
    "# use_reloader=False avoids conflicts with Jupyter\n",
    "app.run(debug=True, use_reloader=False)\n"
   ]
  },
  {
   "cell_type": "code",
   "execution_count": 4,
   "id": "018ff6f9-5bfb-424d-9160-8727802ce52c",
   "metadata": {},
   "outputs": [
    {
     "name": "stdout",
     "output_type": "stream",
     "text": [
      " * Serving Flask app '__main__'\n",
      " * Debug mode: on\n"
     ]
    },
    {
     "name": "stderr",
     "output_type": "stream",
     "text": [
      "WARNING: This is a development server. Do not use it in a production deployment. Use a production WSGI server instead.\n",
      " * Running on http://127.0.0.1:5000\n",
      "Press CTRL+C to quit\n",
      "127.0.0.1 - - [23/Aug/2025 12:36:49] \"GET / HTTP/1.1\" 200 -\n",
      "127.0.0.1 - - [23/Aug/2025 12:36:49] \"GET /static/images/logo.png HTTP/1.1\" 200 -\n"
     ]
    }
   ],
   "source": [
    "#Q2.How do you serve static files like images or CSS in Flask?\n",
    "from flask import Flask, render_template\n",
    "\n",
    "app = Flask(__name__)\n",
    "\n",
    "@app.route(\"/\")\n",
    "def home():\n",
    "    return render_template(\"index1.html\")\n",
    "\n",
    "if __name__ == \"__main__\":\n",
    "    app.run(debug=True,use_reloader=False)\n"
   ]
  },
  {
   "cell_type": "code",
   "execution_count": 12,
   "id": "fcc74f04-9de7-4af3-9430-15464a1fc32c",
   "metadata": {},
   "outputs": [
    {
     "name": "stdout",
     "output_type": "stream",
     "text": [
      " * Serving Flask app '__main__'\n",
      " * Debug mode: on\n"
     ]
    },
    {
     "name": "stderr",
     "output_type": "stream",
     "text": [
      "WARNING: This is a development server. Do not use it in a production deployment. Use a production WSGI server instead.\n",
      " * Running on http://127.0.0.1:5000\n",
      "Press CTRL+C to quit\n",
      "127.0.0.1 - - [26/Aug/2025 13:12:06] \"GET / HTTP/1.1\" 200 -\n",
      "127.0.0.1 - - [26/Aug/2025 13:13:04] \"GET /submit HTTP/1.1\" 200 -\n"
     ]
    }
   ],
   "source": [
    "#Q3.How do you define different routes with different HTTP methods in Flask?\n",
    "from flask import Flask, request\n",
    "\n",
    "app = Flask(__name__)\n",
    "\n",
    "@app.route('/')\n",
    "def home():\n",
    "    return \"Welcome Home!\"\n",
    "\n",
    "@app.route('/submit', methods=['GET', 'POST'])\n",
    "def submit():\n",
    "    if request.method == 'GET':\n",
    "        return \"Submit form using GET\"\n",
    "    elif request.method == 'POST':\n",
    "        return \"Form submitted using POST\"\n",
    "\n",
    "if __name__ == '__main__':\n",
    "    app.run(debug=True,use_reloader=False)\n",
    "\n"
   ]
  },
  {
   "cell_type": "code",
   "execution_count": 5,
   "id": "4720b667-4cbc-4578-9301-46632a11ba79",
   "metadata": {},
   "outputs": [
    {
     "name": "stdout",
     "output_type": "stream",
     "text": [
      " * Serving Flask app '__main__'\n",
      " * Debug mode: on\n"
     ]
    },
    {
     "name": "stderr",
     "output_type": "stream",
     "text": [
      "WARNING: This is a development server. Do not use it in a production deployment. Use a production WSGI server instead.\n",
      " * Running on http://127.0.0.1:5000\n",
      "Press CTRL+C to quit\n",
      "127.0.0.1 - - [23/Aug/2025 12:38:04] \"GET / HTTP/1.1\" 200 -\n"
     ]
    }
   ],
   "source": [
    "#Q4.How do you render HTML templates in Flask?\n",
    "from flask import Flask, render_template\n",
    "\n",
    "app = Flask(__name__)\n",
    "\n",
    "@app.route(\"/\")\n",
    "def home():\n",
    "    return render_template(\"index.html\")   # Renders index.html from templates folder\n",
    "\n",
    "if __name__ == \"__main__\":\n",
    "    app.run(debug=True,use_reloader=False)\n"
   ]
  },
  {
   "cell_type": "code",
   "execution_count": 6,
   "id": "b88b3b36-7c68-42a9-bc13-9ceea8a50a3a",
   "metadata": {},
   "outputs": [
    {
     "name": "stdout",
     "output_type": "stream",
     "text": [
      " * Serving Flask app '__main__'\n",
      " * Debug mode: on\n"
     ]
    },
    {
     "name": "stderr",
     "output_type": "stream",
     "text": [
      "WARNING: This is a development server. Do not use it in a production deployment. Use a production WSGI server instead.\n",
      " * Running on http://127.0.0.1:5000\n",
      "Press CTRL+C to quit\n",
      "127.0.0.1 - - [23/Aug/2025 12:42:51] \"GET / HTTP/1.1\" 200 -\n",
      "127.0.0.1 - - [23/Aug/2025 12:42:54] \"GET /about HTTP/1.1\" 200 -\n",
      "127.0.0.1 - - [23/Aug/2025 12:42:55] \"GET / HTTP/1.1\" 200 -\n"
     ]
    }
   ],
   "source": [
    "#Q5.How can you generate URLs for routes in Flask using url_for?\n",
    "from flask import Flask, url_for, render_template_string\n",
    "\n",
    "app = Flask(__name__)\n",
    "\n",
    "@app.route(\"/\")\n",
    "def home():\n",
    "    # Generate URL for the about route\n",
    "    about_url = url_for(\"about\")\n",
    "    return f'<h1>Home Page</h1><a href=\"{about_url}\">Go to About</a>'\n",
    "\n",
    "@app.route(\"/about\")\n",
    "def about():\n",
    "    # Generate URL for home route\n",
    "    home_url = url_for(\"home\")\n",
    "    return f'<h1>About Page</h1><a href=\"{home_url}\">Go Home</a>'\n",
    "\n",
    "if __name__ == \"__main__\":\n",
    "    app.run(debug=True,use_reloader=False)\n",
    "\n"
   ]
  },
  {
   "cell_type": "code",
   "execution_count": 10,
   "id": "1f1ae021-c3af-4c51-a3c4-4d1a765197cb",
   "metadata": {},
   "outputs": [
    {
     "name": "stdout",
     "output_type": "stream",
     "text": [
      " * Serving Flask app '__main__'\n",
      " * Debug mode: on\n"
     ]
    },
    {
     "name": "stderr",
     "output_type": "stream",
     "text": [
      "WARNING: This is a development server. Do not use it in a production deployment. Use a production WSGI server instead.\n",
      " * Running on http://127.0.0.1:5000\n",
      "Press CTRL+C to quit\n",
      "127.0.0.1 - - [23/Aug/2025 12:51:48] \"GET / HTTP/1.1\" 200 -\n",
      "127.0.0.1 - - [23/Aug/2025 12:51:51] \"POST / HTTP/1.1\" 200 -\n"
     ]
    }
   ],
   "source": [
    "#Q6.How do you handle forms in Flask?\n",
    "from flask import Flask, render_template, request\n",
    "\n",
    "app = Flask(__name__)\n",
    "\n",
    "@app.route(\"/\", methods=[\"GET\", \"POST\"])\n",
    "def home():\n",
    "    if request.method == \"POST\":\n",
    "        name = request.form.get(\"username\")\n",
    "        if name.lower() == \"rahul\":\n",
    "            return f\"Welcome back, {name}!\"\n",
    "        else:\n",
    "            return f\"Sorry {name}, only Rahul is allowed!\"\n",
    "    return render_template(\"form.html\")\n",
    "\n",
    "if __name__ == \"__main__\":\n",
    "    app.run(debug=True,use_reloader=False)\n",
    "\n"
   ]
  },
  {
   "cell_type": "code",
   "execution_count": 15,
   "id": "cd078fe5-b782-4e99-8917-969e2376888d",
   "metadata": {},
   "outputs": [
    {
     "name": "stdout",
     "output_type": "stream",
     "text": [
      " * Serving Flask app '__main__'\n",
      " * Debug mode: on\n"
     ]
    },
    {
     "name": "stderr",
     "output_type": "stream",
     "text": [
      "WARNING: This is a development server. Do not use it in a production deployment. Use a production WSGI server instead.\n",
      " * Running on http://127.0.0.1:5000\n",
      "Press CTRL+C to quit\n",
      "127.0.0.1 - - [23/Aug/2025 12:58:28] \"GET / HTTP/1.1\" 200 -\n",
      "127.0.0.1 - - [23/Aug/2025 12:58:33] \"POST / HTTP/1.1\" 200 -\n"
     ]
    }
   ],
   "source": [
    "#Q7.How can you validate form data in Flask?\n",
    "from flask import Flask, render_template, request\n",
    "\n",
    "app = Flask(__name__)\n",
    "\n",
    "@app.route(\"/\", methods=[\"GET\", \"POST\"])\n",
    "def home():\n",
    "    error = None\n",
    "    if request.method == \"POST\":\n",
    "        username = request.form.get(\"username\")\n",
    "        age = request.form.get(\"age\")\n",
    "\n",
    "        # Simple validations\n",
    "        if not username:\n",
    "            error = \"Username is required!\"\n",
    "        elif not age.isdigit():\n",
    "            error = \"Age must be a number!\"\n",
    "        elif int(age) < 18:\n",
    "            error = \"You must be at least 18 years old!\"\n",
    "\n",
    "        if error is None:\n",
    "            return f\"Welcome {username}, age {age}!\"\n",
    "\n",
    "    return render_template(\"form2.html\", error=error)\n",
    "\n",
    "if __name__ == \"__main__\":\n",
    "    app.run(debug=True,use_reloader=False)"
   ]
  },
  {
   "cell_type": "code",
   "execution_count": 10,
   "id": "11263ba3-3ce1-46d7-8a61-84bcc39c7a2c",
   "metadata": {},
   "outputs": [
    {
     "name": "stdout",
     "output_type": "stream",
     "text": [
      " * Serving Flask app '__main__'\n",
      " * Debug mode: on\n"
     ]
    },
    {
     "name": "stderr",
     "output_type": "stream",
     "text": [
      "WARNING: This is a development server. Do not use it in a production deployment. Use a production WSGI server instead.\n",
      " * Running on http://127.0.0.1:5000\n",
      "Press CTRL+C to quit\n",
      "127.0.0.1 - - [26/Aug/2025 13:42:52] \"GET /login HTTP/1.1\" 200 -\n",
      "127.0.0.1 - - [26/Aug/2025 13:43:04] \"GET /profile HTTP/1.1\" 200 -\n",
      "127.0.0.1 - - [26/Aug/2025 13:43:19] \"GET /logout HTTP/1.1\" 200 -\n",
      "127.0.0.1 - - [26/Aug/2025 13:43:52] \"GET / HTTP/1.1\" 200 -\n"
     ]
    }
   ],
   "source": [
    "#Q8.How do you manage sessions in Flask?\n",
    "from flask import Flask, session\n",
    "\n",
    "app = Flask(__name__)\n",
    "app.secret_key = \"your_secret_key\"  # required for session\n",
    "\n",
    "@app.route('/')\n",
    "def home():\n",
    "    return \"Welcome! Go to /login to start a session.\"\n",
    "\n",
    "@app.route('/login')\n",
    "def login():\n",
    "    session['username'] = 'Rahul'\n",
    "    return \"User logged in! (Session created)\"\n",
    "\n",
    "@app.route('/profile')\n",
    "def profile():\n",
    "    user = session.get('username')\n",
    "    if user:\n",
    "        return f\"Welcome {user}, this is your profile.\"\n",
    "    else:\n",
    "        return \"Not logged in. Please login first.\"\n",
    "\n",
    "@app.route('/logout')\n",
    "def logout():\n",
    "    session.pop('username', None)\n",
    "    return \"User logged out! (Session cleared)\"\n",
    "\n",
    "if __name__ == \"__main__\":\n",
    "    app.run(debug=True,use_reloader=False)\n"
   ]
  },
  {
   "cell_type": "code",
   "execution_count": 11,
   "id": "9bc3aebe-c10d-46a5-8359-85e9c2a979fd",
   "metadata": {},
   "outputs": [
    {
     "name": "stdout",
     "output_type": "stream",
     "text": [
      " * Serving Flask app '__main__'\n",
      " * Debug mode: on\n"
     ]
    },
    {
     "name": "stderr",
     "output_type": "stream",
     "text": [
      "WARNING: This is a development server. Do not use it in a production deployment. Use a production WSGI server instead.\n",
      " * Running on http://127.0.0.1:5000\n",
      "Press CTRL+C to quit\n",
      "127.0.0.1 - - [26/Aug/2025 13:43:59] \"GET /login HTTP/1.1\" 302 -\n",
      "127.0.0.1 - - [26/Aug/2025 13:43:59] \"GET /profile HTTP/1.1\" 200 -\n",
      "127.0.0.1 - - [26/Aug/2025 13:45:17] \"GET /logout HTTP/1.1\" 200 -\n"
     ]
    }
   ],
   "source": [
    "#Q9.How do you redirect to a different route in Flask?\n",
    "from flask import Flask, redirect, url_for, session\n",
    "\n",
    "app = Flask(__name__)\n",
    "app.secret_key = \"your_secret_key\"\n",
    "\n",
    "@app.route('/')\n",
    "def home():\n",
    "    return \"Welcome! Go to /login to log in.\"\n",
    "\n",
    "@app.route('/login')\n",
    "def login():\n",
    "    session['username'] = \"Rahul\"   # pretend login success\n",
    "    return redirect(url_for('profile'))\n",
    "\n",
    "@app.route('/profile')\n",
    "def profile():\n",
    "    if 'username' in session:   # check if logged in\n",
    "        return f\"This is {session['username']}'s profile page.\"\n",
    "    else:\n",
    "        return redirect(url_for('login'))  # force login first\n",
    "\n",
    "@app.route('/logout')\n",
    "def logout():\n",
    "    session.pop('username', None)\n",
    "    return \"Logged out!\"\n",
    "\n",
    "if __name__ == \"__main__\":\n",
    "    app.run(debug=True,use_reloader = False)\n"
   ]
  },
  {
   "cell_type": "code",
   "execution_count": 18,
   "id": "23674a60-d15b-40d6-aa38-5339e470471d",
   "metadata": {},
   "outputs": [
    {
     "name": "stdout",
     "output_type": "stream",
     "text": [
      " * Serving Flask app '__main__'\n",
      " * Debug mode: on\n"
     ]
    },
    {
     "name": "stderr",
     "output_type": "stream",
     "text": [
      "WARNING: This is a development server. Do not use it in a production deployment. Use a production WSGI server instead.\n",
      " * Running on http://127.0.0.1:5000\n",
      "Press CTRL+C to quit\n",
      "127.0.0.1 - - [26/Aug/2025 11:37:20] \"GET / HTTP/1.1\" 200 -\n",
      "127.0.0.1 - - [26/Aug/2025 11:37:27] \"GET /profile HTTP/1.1\" 404 -\n",
      "127.0.0.1 - - [26/Aug/2025 11:37:29] \"GET /abc HTTP/1.1\" 404 -\n"
     ]
    }
   ],
   "source": [
    "#Q10.How do you handle errors in Flask (e.g., 404)?\n",
    "from flask import Flask\n",
    "\n",
    "app = Flask(__name__)\n",
    "\n",
    "@app.route('/')\n",
    "def home():\n",
    "    return \"Welcome to Home Page!\"\n",
    "\n",
    "# Custom 404 error handler\n",
    "@app.errorhandler(404)\n",
    "def page_not_found(e):\n",
    "    return \"Oops! Page not found (404).\", 404\n",
    "\n",
    "# Custom 500 error handler\n",
    "@app.errorhandler(500)\n",
    "def internal_error(e):\n",
    "    return \"Sorry, something went wrong (500).\", 500\n",
    "\n",
    "if __name__ == \"__main__\":\n",
    "    app.run(debug=True,use_reloader=False)\n"
   ]
  },
  {
   "cell_type": "code",
   "execution_count": 2,
   "id": "d49d0c1e-6d13-4d2f-aa47-0f6e79e25559",
   "metadata": {},
   "outputs": [
    {
     "name": "stdout",
     "output_type": "stream",
     "text": [
      " * Serving Flask app '__main__'\n",
      " * Debug mode: on\n"
     ]
    },
    {
     "name": "stderr",
     "output_type": "stream",
     "text": [
      "WARNING: This is a development server. Do not use it in a production deployment. Use a production WSGI server instead.\n",
      " * Running on http://127.0.0.1:5000\n",
      "Press CTRL+C to quit\n",
      "127.0.0.1 - - [26/Aug/2025 13:33:28] \"GET / HTTP/1.1\" 200 -\n",
      "127.0.0.1 - - [26/Aug/2025 13:33:57] \"GET /login HTTP/1.1\" 404 -\n",
      "127.0.0.1 - - [26/Aug/2025 13:34:07] \"GET /register HTTP/1.1\" 404 -\n",
      "127.0.0.1 - - [26/Aug/2025 13:34:39] \"GET /auth/login HTTP/1.1\" 200 -\n"
     ]
    }
   ],
   "source": [
    "#Q11.How do you structure a Flask app using Blueprints?\n",
    "from flask import Flask, Blueprint\n",
    "\n",
    "# Define home blueprint\n",
    "home_bp = Blueprint('home', __name__)\n",
    "\n",
    "@home_bp.route('/')\n",
    "def home():\n",
    "    return \"Welcome to Home Page!\"\n",
    "\n",
    "# Define auth blueprint\n",
    "auth_bp = Blueprint('auth', __name__, url_prefix='/auth')\n",
    "\n",
    "@auth_bp.route('/login')\n",
    "def login():\n",
    "    return \"Login Page\"\n",
    "\n",
    "@auth_bp.route('/register')\n",
    "def register():\n",
    "    return \"Register Page\"\n",
    "\n",
    "\n",
    "# Create Flask app and register blueprints\n",
    "app = Flask(__name__)\n",
    "app.register_blueprint(home_bp)\n",
    "app.register_blueprint(auth_bp)\n",
    "\n",
    "app.run(debug=True, use_reloader=False)  # use_reloader=False is needed in notebooks\n",
    "\n"
   ]
  },
  {
   "cell_type": "code",
   "execution_count": 34,
   "id": "be41cdfe-2624-4627-9bd1-a25710993273",
   "metadata": {},
   "outputs": [
    {
     "name": "stdout",
     "output_type": "stream",
     "text": [
      " * Serving Flask app '__main__'\n",
      " * Debug mode: on\n"
     ]
    },
    {
     "name": "stderr",
     "output_type": "stream",
     "text": [
      "WARNING: This is a development server. Do not use it in a production deployment. Use a production WSGI server instead.\n",
      " * Running on http://127.0.0.1:5000\n",
      "Press CTRL+C to quit\n",
      "127.0.0.1 - - [26/Aug/2025 12:05:18] \"GET / HTTP/1.1\" 200 -\n"
     ]
    }
   ],
   "source": [
    "#Q12.How do you define a custom Jinja filter in Flask?\n",
    "from flask import Flask, render_template\n",
    "\n",
    "app = Flask(__name__)\n",
    "\n",
    "# Step 1: Define a custom filter function\n",
    "def reverse_string(s):\n",
    "    return s[::-1]\n",
    "\n",
    "# Step 2: Register the filter with Jinja\n",
    "app.jinja_env.filters['reverse'] = reverse_string\n",
    "\n",
    "@app.route('/')\n",
    "def home():\n",
    "    name = \"Rahul\"\n",
    "    return render_template(\"index2.html\", name=name)\n",
    "\n",
    "if __name__ == \"__main__\":\n",
    "    app.run(debug=True,use_reloader=False)\n"
   ]
  },
  {
   "cell_type": "code",
   "execution_count": 35,
   "id": "ca05d627-8b49-49e2-a6f7-7293e2b65e39",
   "metadata": {},
   "outputs": [
    {
     "name": "stdout",
     "output_type": "stream",
     "text": [
      " * Serving Flask app '__main__'\n",
      " * Debug mode: on\n"
     ]
    },
    {
     "name": "stderr",
     "output_type": "stream",
     "text": [
      "WARNING: This is a development server. Do not use it in a production deployment. Use a production WSGI server instead.\n",
      " * Running on http://127.0.0.1:5000\n",
      "Press CTRL+C to quit\n",
      "127.0.0.1 - - [26/Aug/2025 12:07:12] \"GET / HTTP/1.1\" 302 -\n",
      "127.0.0.1 - - [26/Aug/2025 12:07:12] \"GET /welcome?name=Rahul&age=25 HTTP/1.1\" 200 -\n"
     ]
    }
   ],
   "source": [
    "#Q13.How can you redirect with query parameters in Flask?\n",
    "from flask import Flask, redirect, url_for, request\n",
    "\n",
    "app = Flask(__name__)\n",
    "\n",
    "@app.route('/')\n",
    "def home():\n",
    "    # Redirecting to /welcome with query parameters\n",
    "    return redirect(url_for('welcome', name=\"Rahul\", age=25))\n",
    "\n",
    "@app.route('/welcome')\n",
    "def welcome():\n",
    "    # Getting query parameters from request.args\n",
    "    name = request.args.get('name')\n",
    "    age = request.args.get('age')\n",
    "    return f\"Welcome {name}, you are {age} years old.\"\n",
    "\n",
    "if __name__ == \"__main__\":\n",
    "    app.run(debug=True,use_reloader=False)\n"
   ]
  },
  {
   "cell_type": "code",
   "execution_count": 13,
   "id": "a8b5983e-84dd-4d2f-b9c9-8503309992dc",
   "metadata": {},
   "outputs": [
    {
     "name": "stdout",
     "output_type": "stream",
     "text": [
      " * Serving Flask app '__main__'\n",
      " * Debug mode: on\n"
     ]
    },
    {
     "name": "stderr",
     "output_type": "stream",
     "text": [
      "WARNING: This is a development server. Do not use it in a production deployment. Use a production WSGI server instead.\n",
      " * Running on http://127.0.0.1:5000\n",
      "Press CTRL+C to quit\n",
      "127.0.0.1 - - [26/Aug/2025 13:48:03] \"GET / HTTP/1.1\" 200 -\n",
      "127.0.0.1 - - [26/Aug/2025 13:48:12] \"GET /api/user HTTP/1.1\" 200 -\n",
      "127.0.0.1 - - [26/Aug/2025 13:48:37] \"GET / HTTP/1.1\" 200 -\n"
     ]
    }
   ],
   "source": [
    "#Q14.How do you return JSON responses in Flask?\n",
    "from flask import Flask, jsonify\n",
    "\n",
    "app = Flask(__name__)\n",
    "\n",
    "@app.route('/')\n",
    "def home():\n",
    "    return \"Welcome to the Flask App!\"\n",
    "\n",
    "\n",
    "@app.route('/api/user')\n",
    "def get_user():\n",
    "    return jsonify({\"name\": \"Rahul\", \"age\": 25, \"city\": \"Delhi\"})\n",
    "\n",
    "# run the server (important: disable reloader in Jupyter!)\n",
    "app.run(debug=True, use_reloader=False)\n",
    "\n"
   ]
  },
  {
   "cell_type": "code",
   "execution_count": 14,
   "id": "0ae96e76-3bd0-4639-b44c-446693aa2d91",
   "metadata": {},
   "outputs": [
    {
     "name": "stdout",
     "output_type": "stream",
     "text": [
      " * Serving Flask app '__main__'\n",
      " * Debug mode: on\n"
     ]
    },
    {
     "name": "stderr",
     "output_type": "stream",
     "text": [
      "WARNING: This is a development server. Do not use it in a production deployment. Use a production WSGI server instead.\n",
      " * Running on http://127.0.0.1:5000\n",
      "Press CTRL+C to quit\n",
      "127.0.0.1 - - [26/Aug/2025 13:48:46] \"GET /user/Rahul HTTP/1.1\" 200 -\n"
     ]
    }
   ],
   "source": [
    "#Q15.How do you capture URL parameters in Flask?\n",
    "from flask import Flask\n",
    "\n",
    "app = Flask(__name__)\n",
    "\n",
    "@app.route('/')\n",
    "def home():\n",
    "    return \"Welcome Home!\"\n",
    "\n",
    "@app.route('/user/<username>')\n",
    "def show_user(username):\n",
    "    return f\"Hello, {username}!\"\n",
    "\n",
    "if __name__ == '__main__':\n",
    "    app.run(debug=True,use_reloader=False)\n",
    "\n"
   ]
  },
  {
   "cell_type": "code",
   "execution_count": null,
   "id": "e0920d24-bb43-48d8-8070-53435b9b5182",
   "metadata": {},
   "outputs": [],
   "source": []
  },
  {
   "cell_type": "code",
   "execution_count": null,
   "id": "4a41b97f-51b1-42fd-8b70-cd27e28c2a89",
   "metadata": {},
   "outputs": [],
   "source": []
  },
  {
   "cell_type": "code",
   "execution_count": null,
   "id": "39533591-c82b-4c0b-b2dc-111752d5aeed",
   "metadata": {},
   "outputs": [],
   "source": []
  },
  {
   "cell_type": "code",
   "execution_count": null,
   "id": "b07ad8ca-4bae-4df1-8197-e6393121a991",
   "metadata": {},
   "outputs": [],
   "source": []
  },
  {
   "cell_type": "code",
   "execution_count": null,
   "id": "320719ed-dea9-46b2-a461-d76cd29207f1",
   "metadata": {},
   "outputs": [],
   "source": []
  },
  {
   "cell_type": "code",
   "execution_count": null,
   "id": "4b2a8eba-6310-4f18-8d74-0ece126b784b",
   "metadata": {},
   "outputs": [],
   "source": []
  },
  {
   "cell_type": "code",
   "execution_count": null,
   "id": "b8b24d30-8fb9-4882-8370-6c337baca92d",
   "metadata": {},
   "outputs": [],
   "source": []
  }
 ],
 "metadata": {
  "kernelspec": {
   "display_name": "Python 3 (ipykernel)",
   "language": "python",
   "name": "python3"
  },
  "language_info": {
   "codemirror_mode": {
    "name": "ipython",
    "version": 3
   },
   "file_extension": ".py",
   "mimetype": "text/x-python",
   "name": "python",
   "nbconvert_exporter": "python",
   "pygments_lexer": "ipython3",
   "version": "3.13.5"
  }
 },
 "nbformat": 4,
 "nbformat_minor": 5
}
