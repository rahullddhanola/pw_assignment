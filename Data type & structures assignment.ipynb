{
 "cells": [
  {
   "cell_type": "markdown",
   "id": "1b9ec1bb-9e81-4170-a6ec-ddcb5367d11b",
   "metadata": {},
   "source": [
    "# Data type and structures Questions"
   ]
  },
  {
   "cell_type": "code",
   "execution_count": null,
   "id": "563ebd38-c0f0-42c5-b61c-7038f8c11081",
   "metadata": {},
   "outputs": [],
   "source": [
    "# Q1.What are data structures, and why are they important ?\n",
    "'''Data structures in Python are ways to store and organize data efficiently. Python provides both built-in data structures and allows the creation \n",
    "   of custom ones using classes.Data structures are important because they organize data efficiently, enabling faster processing and \n",
    "   optimized memory use. They are essential for building scalable, high-performance applications.'''"
   ]
  },
  {
   "cell_type": "code",
   "execution_count": 7,
   "id": "9d871ddc-caed-48c4-b86a-11fcae1ec222",
   "metadata": {},
   "outputs": [],
   "source": [
    "# Q2.Explain the difference between mutable and immutable data types with examples ?\n",
    "'''Mutable data types can be changed after creation (e.g., list, dict), while immutable data types cannot be changed (e.g., int, str, tuple).\n",
    "Example: \n",
    "list1 = [\"rahul\", 2,\"vijay\"]; \n",
    "list1.append(3) (mutable) \n",
    "vs \n",
    "str1 = \"pwskills\" \n",
    "str1[0] = 'H' → \n",
    "Error (immutable)'''"
   ]
  },
  {
   "cell_type": "code",
   "execution_count": null,
   "id": "8ed5c9bc-8b43-476c-8ec1-3fc7ac5bb5aa",
   "metadata": {},
   "outputs": [],
   "source": [
    "# Q3.What are the main differences between lists and tuples in Python ?\n",
    "'''Lists are mutable, use square brackets [], and can be modified after creation.\n",
    "   Tuples are immutable, use parentheses (), and cannot be changed once defined. '''\n"
   ]
  },
  {
   "cell_type": "code",
   "execution_count": null,
   "id": "8c52e508-12d3-430f-a1f7-dc6b801300fb",
   "metadata": {},
   "outputs": [],
   "source": [
    "# Q4.Describe how dictionaries store data ?\n",
    "'''Dictionaries in Python store data as key-value pairs, where each key maps to a specific value.\n",
    "   They use a hashing mechanism to allow fast access, insertion, and deletion based on unique keys.'''\n"
   ]
  },
  {
   "cell_type": "code",
   "execution_count": null,
   "id": "5356897c-292a-4064-8a21-e2ed7931c475",
   "metadata": {},
   "outputs": [],
   "source": [
    "# Q5.Why might you use a set instead of a list in Python ?\n",
    "'''You might use a set instead of a list when you need to store unique items and don't care about the order.\n",
    "   Sets offer faster membership testing(in checks) and automatically remove duplicates.'''\n"
   ]
  },
  {
   "cell_type": "code",
   "execution_count": null,
   "id": "157c02a8-8166-4038-9f9b-20ac51377a00",
   "metadata": {},
   "outputs": [],
   "source": [
    "# Q6.What is a string in Python, and how is it different from a list ?\n",
    "'''A string in Python is a sequence of characters enclosed in quotes, like \"hello\".\n",
    "   A list is a collection of items (which can be of any type) enclosed in square brackets, like [1, \"a\", 3.5].\n",
    "   Unlike lists,strings are immutable, meaning you can't change their characters directly.'''\n"
   ]
  },
  {
   "cell_type": "code",
   "execution_count": null,
   "id": "9938025c-a698-490e-aeae-a5fbf500d470",
   "metadata": {},
   "outputs": [],
   "source": [
    "# Q7.How do tuples ensure data integrity in Python ?\n",
    "'''Tuples ensure data integrity by being immutable, meaning their values cannot be changed after creation.\n",
    "   This makes them ideal for storing fixed or constant data that should not be modified accidentally.'''\n"
   ]
  },
  {
   "cell_type": "code",
   "execution_count": null,
   "id": "1c1579a5-f273-4974-8bfe-79f1f2deff74",
   "metadata": {},
   "outputs": [],
   "source": [
    "# Q8.What is a hash table, and how does it relate to dictionaries in Python ?\n",
    "'''A hash table is a data structure that stores key-value pairs using a hashing function to quickly locate keys.\n",
    "   In Python, a dictionary is an implementation of a hash table, allowing fast access, insertion, and deletion using unique keys.'''\n"
   ]
  },
  {
   "cell_type": "code",
   "execution_count": null,
   "id": "26ea0dfb-3c78-40b0-af5d-c644b5734ca4",
   "metadata": {},
   "outputs": [],
   "source": [
    "# Q9.Can lists contain different data types in Python ?\n",
    "'''Yes, lists in Python can contain different data types like integers, strings, floats, or even other lists.'''"
   ]
  },
  {
   "cell_type": "code",
   "execution_count": null,
   "id": "b16950ba-b877-40b3-a931-c6486cb27e06",
   "metadata": {},
   "outputs": [],
   "source": [
    "# Q10.Explain why strings are immutable in Python ?\n",
    "'''Strings are immutable in Python** to ensure data safety, memory efficiency, and thread-safety.\n",
    "  once a string is created, it cannot be changed, which helps avoid unexpected bugs and allows Python to optimize performance.'''\n"
   ]
  },
  {
   "cell_type": "code",
   "execution_count": null,
   "id": "273958fe-f576-4749-aafc-41abd5ed168b",
   "metadata": {},
   "outputs": [],
   "source": [
    "# Q11.What advantages do dictionaries offer over lists for certain tasks ?\n",
    "'''Dictionaries offer faster lookups and better organization for data with unique keys, unlike lists which use only index positions.\n",
    "   They are ideal when you need to map values to specific identifiers, like storing student names with their scores.'''\n"
   ]
  },
  {
   "cell_type": "code",
   "execution_count": null,
   "id": "810985df-01c6-42b3-b8b4-fce0d51224c6",
   "metadata": {},
   "outputs": [],
   "source": [
    "# Q12.Describe a scenario where using a tuple would be preferable over a list ?\n",
    "'''Use a tuple instead of a list when you want to store constant data that should not be changed, like your birth date.\n",
    "   Example: birthdate = (11, 5, 1999) — this keeps the date safe from accidental edits.'''"
   ]
  },
  {
   "cell_type": "code",
   "execution_count": null,
   "id": "50d800bb-e498-4fdf-8f02-df72b7c39e7e",
   "metadata": {},
   "outputs": [],
   "source": [
    "# Q13. How do sets handle duplicate values in Python ?\n",
    "'''Sets in Python automatically remove duplicate values, so each item in a set is unique.\n",
    "   If you add duplicates, the set keeps only one copy of each value.\n",
    "Example: set([1, 2, 2, 3])` becomes {1, 2, 3}.'''\n"
   ]
  },
  {
   "cell_type": "code",
   "execution_count": null,
   "id": "b8be7d2e-e895-400a-9a3a-b34e711c972c",
   "metadata": {},
   "outputs": [],
   "source": [
    "# Q14.How does the “in” keyword work differently for lists and dictionaries ?\n",
    "'''In lists, the \"in\" keyword checks if a value exists in the list.\n",
    "   In dictionaries, \"in\" checks if a key exists, not a value.'''"
   ]
  },
  {
   "cell_type": "code",
   "execution_count": null,
   "id": "c491edc4-f4cb-4b14-8c50-f9841cb09d98",
   "metadata": {},
   "outputs": [],
   "source": [
    "# Q15.Can you modify the elements of a tuple? Explain why or why not ?\n",
    "'''No, you cannot modify the elements of a tuple because tuples are immutable in Python.\n",
    "   Once created, their values are fixed to ensure data integrity and safety from accidental changes.'''\n"
   ]
  },
  {
   "cell_type": "code",
   "execution_count": null,
   "id": "75e2e4f0-f89e-419d-a14b-d72ce1a3fa49",
   "metadata": {},
   "outputs": [],
   "source": [
    "# Q16.What is a nested dictionary, and give an example of its use case ?\n",
    "'''A nested dictionary is a dictionary where one or more values are themselves dictionaries.\n",
    "   Its useful for representing structured data, like storing employee info by ID.\n",
    "   employee = {\n",
    "    101: {\"name\": \"Rahul\", \"age\": 30},\n",
    "    102: {\"name\": \"Sivam\", \"age\": 32}\n",
    "}'''\n"
   ]
  },
  {
   "cell_type": "code",
   "execution_count": null,
   "id": "6a205f40-1353-4502-bfb8-d6c2ca40088f",
   "metadata": {},
   "outputs": [],
   "source": [
    "# Q17.Describe the time complexity of accessing elements in a dictionary ?\n",
    "'''Accessing elements in a dictionary has an average time complexity of O(1) (constant time).\n",
    "   This is because dictionaries use a hash table internally, allowing quick key lookups.'''\n",
    " "
   ]
  },
  {
   "cell_type": "code",
   "execution_count": null,
   "id": "0cb6315b-af58-4980-a4b8-a0fe2b91880a",
   "metadata": {},
   "outputs": [],
   "source": [
    "# Q18.In what situations are lists preferred over dictionaries ?\n",
    "'''Lists are preferred over dictionaries when you need to store ordered data where position matters (like a sequence of items).\n",
    "   The data doesn’t require labels or keys just simple values, like [10, 20, 30].'''"
   ]
  },
  {
   "cell_type": "code",
   "execution_count": null,
   "id": "6b2e58b5-9d5e-417f-8081-5b6e5ac0a5d7",
   "metadata": {},
   "outputs": [],
   "source": [
    "# Q19.Why are dictionaries considered unordered, and how does that affect data retrieval ?\n",
    "'''Dictionaries are considered unordered because data is accessed by keys, not by position or index.\n",
    "   Since dictionaries use keys for access, you must know the exact key to retrieve a value — not its position.\n",
    "   you can’t use indexing like dict[0], but you get fast lookups with dict['key'].'''"
   ]
  },
  {
   "cell_type": "code",
   "execution_count": null,
   "id": "93662f6f-1cb0-4e3e-89fc-dd01511981e4",
   "metadata": {},
   "outputs": [],
   "source": [
    "# Q20.Explain the difference between a list and a dictionary in terms of data retrieval ?\n",
    "'''Lists retrieve data by index position (ex. my_list[0]), while dictionaries retrieve data by key (ex. my_dict[\"name\"]).\n",
    "   lists are best for ordered sequences and dictionaries are best for key-based lookups.'''"
   ]
  },
  {
   "cell_type": "markdown",
   "id": "dbf6a4a7-37b7-4b12-9549-b60f7a455af1",
   "metadata": {},
   "source": [
    "# Practical Questions"
   ]
  },
  {
   "cell_type": "code",
   "execution_count": 11,
   "id": "7a7397a3-848c-4cee-9ee9-b25fe06c7ed9",
   "metadata": {},
   "outputs": [
    {
     "name": "stdout",
     "output_type": "stream",
     "text": [
      "My name is Rahull DDhanola\n"
     ]
    }
   ],
   "source": [
    "# Q1.Write a code to create a string with your name and print it ?\n",
    "name = \"Rahull DDhanola\"\n",
    "print(f\"My name is {name}\")"
   ]
  },
  {
   "cell_type": "code",
   "execution_count": 13,
   "id": "78369c8b-48d9-4301-95d8-bac1e74faf15",
   "metadata": {},
   "outputs": [
    {
     "data": {
      "text/plain": [
       "11"
      ]
     },
     "execution_count": 13,
     "metadata": {},
     "output_type": "execute_result"
    }
   ],
   "source": [
    "# Q2.Write a code to find the length of the string \"Hello World\" ?\n",
    "str = \"Hello World\"\n",
    "len(str)"
   ]
  },
  {
   "cell_type": "code",
   "execution_count": 16,
   "id": "abb73e93-0e92-4ebf-97c9-e923c31de9b3",
   "metadata": {},
   "outputs": [
    {
     "name": "stdout",
     "output_type": "stream",
     "text": [
      "Python Programming\n",
      "Pyt\n"
     ]
    }
   ],
   "source": [
    "# Q3. Write a code to slice the first 3 characters from the string \"Python Programming\" ?\n",
    "str = \"Python Programming\"\n",
    "print(str)\n",
    "print(str[:3])"
   ]
  },
  {
   "cell_type": "code",
   "execution_count": 18,
   "id": "b0cbbf39-64cd-4822-b6f1-b3e10df1a10d",
   "metadata": {},
   "outputs": [
    {
     "data": {
      "text/plain": [
       "'HELLO'"
      ]
     },
     "execution_count": 18,
     "metadata": {},
     "output_type": "execute_result"
    }
   ],
   "source": [
    "# Q4.Write a code to convert the string \"hello\" to uppercase ?\n",
    "str = \"hello\"\n",
    "str.upper()"
   ]
  },
  {
   "cell_type": "code",
   "execution_count": 25,
   "id": "52d410bb-cbc7-47ae-9e68-8c3f575344ea",
   "metadata": {},
   "outputs": [
    {
     "data": {
      "text/plain": [
       "'I like orange'"
      ]
     },
     "execution_count": 25,
     "metadata": {},
     "output_type": "execute_result"
    }
   ],
   "source": [
    "# Q5.Write a code to replace the word \"apple\" with \"orange\" in the string \"I like apple\" ?\n",
    "fruits = \"I like apple\"\n",
    "fruits.replace(\"apple\",\"orange\")"
   ]
  },
  {
   "cell_type": "code",
   "execution_count": 27,
   "id": "9bdcbb6a-0905-4a29-a3ca-70056e14dc0e",
   "metadata": {},
   "outputs": [
    {
     "name": "stdout",
     "output_type": "stream",
     "text": [
      "[1, 2, 3, 4, 5]\n"
     ]
    }
   ],
   "source": [
    "# Q6.Write a code to create a list with numbers 1 to 5 and print it ?\n",
    "list = [1,2,3,4,5]\n",
    "print(list)"
   ]
  },
  {
   "cell_type": "code",
   "execution_count": 28,
   "id": "068ec3c4-9169-4bfe-957e-4db4d64114a5",
   "metadata": {},
   "outputs": [
    {
     "data": {
      "text/plain": [
       "[1, 2, 3, 4, 10]"
      ]
     },
     "execution_count": 28,
     "metadata": {},
     "output_type": "execute_result"
    }
   ],
   "source": [
    "# Q7.Write a code to append the number 10 to the list [1, 2, 3, 4] ?\n",
    "list = [1,2,3,4]\n",
    "list.append(10)\n",
    "list"
   ]
  },
  {
   "cell_type": "code",
   "execution_count": 29,
   "id": "6763b9ea-5999-485e-b205-b8781ab3b10e",
   "metadata": {},
   "outputs": [
    {
     "data": {
      "text/plain": [
       "[1, 2, 4, 5]"
      ]
     },
     "execution_count": 29,
     "metadata": {},
     "output_type": "execute_result"
    }
   ],
   "source": [
    "# Q8.Write a code to remove the number 3 from the list [1, 2, 3, 4, 5] ?\n",
    "list = [1,2,3,4,5]\n",
    "list.remove(3)\n",
    "list"
   ]
  },
  {
   "cell_type": "code",
   "execution_count": 30,
   "id": "9ad3b12d-a9a9-46fd-b391-fc192a2a963f",
   "metadata": {},
   "outputs": [
    {
     "data": {
      "text/plain": [
       "'b'"
      ]
     },
     "execution_count": 30,
     "metadata": {},
     "output_type": "execute_result"
    }
   ],
   "source": [
    "# Q9.Write a code to access the second element in the list ['a', 'b', 'c', 'd'] ?\n",
    "list = ['a','b','c','d']\n",
    "list[1]"
   ]
  },
  {
   "cell_type": "code",
   "execution_count": 33,
   "id": "2c61f9da-d1ff-40e2-9685-41ed5dee3369",
   "metadata": {},
   "outputs": [
    {
     "data": {
      "text/plain": [
       "[50, 40, 30, 20, 10]"
      ]
     },
     "execution_count": 33,
     "metadata": {},
     "output_type": "execute_result"
    }
   ],
   "source": [
    "# Q10.Write a code to reverse the list [10, 20, 30, 40, 50] ?\n",
    "list = [10,20,30,40,50]\n",
    "list.reverse()\n",
    "list\n"
   ]
  },
  {
   "cell_type": "code",
   "execution_count": 38,
   "id": "54b062ae-bb61-40a8-9785-13863eca95e1",
   "metadata": {},
   "outputs": [
    {
     "name": "stdout",
     "output_type": "stream",
     "text": [
      "(100, 200, 300)\n"
     ]
    },
    {
     "data": {
      "text/plain": [
       "tuple"
      ]
     },
     "execution_count": 38,
     "metadata": {},
     "output_type": "execute_result"
    }
   ],
   "source": [
    "# Q11.Write a code to create a tuple with the elements 100, 200, 300 and print it ?\n",
    "tup = (100,200,300)\n",
    "print(tup)\n",
    "type(tup)"
   ]
  },
  {
   "cell_type": "code",
   "execution_count": 39,
   "id": "9b613df8-db21-406b-a7e0-8911517936c8",
   "metadata": {},
   "outputs": [
    {
     "data": {
      "text/plain": [
       "'blue'"
      ]
     },
     "execution_count": 39,
     "metadata": {},
     "output_type": "execute_result"
    }
   ],
   "source": [
    "# Q12.Write a code to access the second-to-last element of the tuple ('red', 'green', 'blue', 'yellow') ?\n",
    "colors = ('red','green','blue','yellow')\n",
    "colors[-2]"
   ]
  },
  {
   "cell_type": "code",
   "execution_count": 59,
   "id": "44c7a1a9-01db-4db4-b08f-ee347c6d6e25",
   "metadata": {},
   "outputs": [
    {
     "name": "stdout",
     "output_type": "stream",
     "text": [
      " Minimum number:5\n"
     ]
    }
   ],
   "source": [
    "# Q13.Write a code to find the minimum number in the tuple (10, 20, 5, 15) ?\n",
    "num = (10,20,5,15)\n",
    "min_num = min(num)\n",
    "print(f\" Minimum number:{min_num}\")"
   ]
  },
  {
   "cell_type": "code",
   "execution_count": 66,
   "id": "2aee4d37-71f6-4895-8a79-380a790cbf6c",
   "metadata": {},
   "outputs": [
    {
     "data": {
      "text/plain": [
       "1"
      ]
     },
     "execution_count": 66,
     "metadata": {},
     "output_type": "execute_result"
    }
   ],
   "source": [
    "# Q14.Write a code to find the index of the element \"cat\" in the tuple ('dog', 'cat', 'rabbit')?\n",
    "animals = ('dog','cat','rabbit')\n",
    "animals.index('cat')"
   ]
  },
  {
   "cell_type": "code",
   "execution_count": 5,
   "id": "778be267-a0bf-4d32-bd41-1ec18e4bb69f",
   "metadata": {},
   "outputs": [
    {
     "name": "stdout",
     "output_type": "stream",
     "text": [
      "kiwi is in the tuple\n"
     ]
    }
   ],
   "source": [
    "# Q15.Write a code to create a tuple containing three different fruits and check if \"kiwi\" is in it ?\n",
    "fruits = (\"mango\",\"apple\",\"kiwi\")\n",
    "if \"kiwi\" in fruits:\n",
    "    print(\"kiwi is in the tuple\")\n",
    "else:\n",
    "    print(\"kiwi is not in the tuple\")"
   ]
  },
  {
   "cell_type": "code",
   "execution_count": 6,
   "id": "efd69ece-2d46-4bb8-9adf-264283d0124b",
   "metadata": {},
   "outputs": [
    {
     "data": {
      "text/plain": [
       "{'a', 'b', 'c'}"
      ]
     },
     "execution_count": 6,
     "metadata": {},
     "output_type": "execute_result"
    }
   ],
   "source": [
    "# Q16.Write a code to create a set with the elements 'a', 'b', 'c' and print it ?\n",
    "set = {\"a\",\"b\",\"c\"}\n",
    "set"
   ]
  },
  {
   "cell_type": "code",
   "execution_count": 9,
   "id": "02d7747c-95d4-4fb8-8f2a-099f21b50653",
   "metadata": {},
   "outputs": [
    {
     "data": {
      "text/plain": [
       "set()"
      ]
     },
     "execution_count": 9,
     "metadata": {},
     "output_type": "execute_result"
    }
   ],
   "source": [
    "# Q17.Write a code to clear all elements from the set {1, 2, 3, 4, 5} ?\n",
    "set = {1,2,3,4,5}\n",
    "set.clear()\n",
    "set\n"
   ]
  },
  {
   "cell_type": "code",
   "execution_count": 11,
   "id": "440845b1-2862-4f86-9921-538b75781b56",
   "metadata": {},
   "outputs": [
    {
     "data": {
      "text/plain": [
       "{1, 2, 3}"
      ]
     },
     "execution_count": 11,
     "metadata": {},
     "output_type": "execute_result"
    }
   ],
   "source": [
    "# Q18.Write a code to remove the element 4 from the set {1, 2, 3, 4} ?\n",
    "set = {1,2,3,4}\n",
    "set.remove(4)\n",
    "set"
   ]
  },
  {
   "cell_type": "code",
   "execution_count": 14,
   "id": "b12cd2c3-56b3-4b8f-a7e8-9189dbe83b8e",
   "metadata": {},
   "outputs": [
    {
     "data": {
      "text/plain": [
       "{1, 2, 3, 4, 5}"
      ]
     },
     "execution_count": 14,
     "metadata": {},
     "output_type": "execute_result"
    }
   ],
   "source": [
    "# Q19.Write a code to find the union of two sets {1, 2, 3} and {3, 4, 5} ?\n",
    "set1 = {1,2,3}\n",
    "set2 = {3,4,5}\n",
    "union_set = set1.union(set2)\n",
    "union_set"
   ]
  },
  {
   "cell_type": "code",
   "execution_count": 16,
   "id": "b281ad65-236a-47e4-8119-332357781f7d",
   "metadata": {},
   "outputs": [
    {
     "data": {
      "text/plain": [
       "{2, 3}"
      ]
     },
     "execution_count": 16,
     "metadata": {},
     "output_type": "execute_result"
    }
   ],
   "source": [
    "# Q20.Write a code to find the intersection of two sets {1, 2, 3} and {2, 3, 4} ?\n",
    "set1 = {1,2,3}\n",
    "set2 = {2,3,4}\n",
    "inter_set = set1.intersection(set2)\n",
    "inter_set"
   ]
  },
  {
   "cell_type": "code",
   "execution_count": 18,
   "id": "f3757605-7421-47da-90e1-a418a42e1d51",
   "metadata": {},
   "outputs": [
    {
     "name": "stdout",
     "output_type": "stream",
     "text": [
      "{'name': 'rahul dhanola', 'age': 27, 'city': 'dehradun'}\n"
     ]
    }
   ],
   "source": [
    "# Q21.Write a code to create a dictionary with the keys \"name\", \"age\", and \"city\", and print it ?\n",
    "dict = {\"name\":\"rahul dhanola\",\n",
    "        \"age\":27,\n",
    "        \"city\":\"dehradun\"}\n",
    "print(dict)"
   ]
  },
  {
   "cell_type": "code",
   "execution_count": 27,
   "id": "72fad375-55ec-4f13-816e-e892ac11dcc8",
   "metadata": {},
   "outputs": [
    {
     "name": "stdout",
     "output_type": "stream",
     "text": [
      "{'name': 'John', 'age': 25, 'country': 'USA'}\n"
     ]
    }
   ],
   "source": [
    "# Q22.Write a code to add a new key-value pair \"country\": \"USA\" to the dictionary {'name': 'John', 'age': 25} ?\n",
    "dict = {\"name\":\"John\",\n",
    "        \"age\":25}\n",
    "dict1 = {\"country\":\"USA\"}\n",
    "dict.update(dict1)\n",
    "print(dict)\n"
   ]
  },
  {
   "cell_type": "code",
   "execution_count": 45,
   "id": "3938d750-4bde-46b4-9c4c-93e9ffd67f27",
   "metadata": {},
   "outputs": [
    {
     "data": {
      "text/plain": [
       "'Alice'"
      ]
     },
     "execution_count": 45,
     "metadata": {},
     "output_type": "execute_result"
    }
   ],
   "source": [
    "# Q23.Write a code to access the value associated with the key \"name\" in the dictionary {'name': 'Alice', 'age': 30} ?\n",
    "dict = {\"name\":\"Alice\",\n",
    "       \"age\":30}\n",
    "dict.get(\"name\")\n",
    "\n"
   ]
  },
  {
   "cell_type": "code",
   "execution_count": 52,
   "id": "1adf237b-f785-47d4-9de7-9aa248976d1e",
   "metadata": {},
   "outputs": [
    {
     "name": "stdout",
     "output_type": "stream",
     "text": [
      "{'name': 'Bob', 'city': 'New York'}\n"
     ]
    }
   ],
   "source": [
    "# Q24.Write a code to remove the key \"age\" from the dictionary {'name': 'Bob', 'age': 22, 'city': 'New York'} ?\n",
    "dict = {\n",
    "    \"name\":\"Bob\",\n",
    "    \"age\":22,\n",
    "    \"city\":\"New York\"\n",
    "}\n",
    "del dict[\"age\"]\n",
    "print(dict)"
   ]
  },
  {
   "cell_type": "code",
   "execution_count": 56,
   "id": "6546442f-5eeb-4553-82bf-476a9a2d64a5",
   "metadata": {},
   "outputs": [
    {
     "name": "stdout",
     "output_type": "stream",
     "text": [
      "city exist\n"
     ]
    }
   ],
   "source": [
    "# Q25.Write a code to check if the key \"city\" exists in the dictionary {'name': 'Alice', 'city': 'Paris'}?\n",
    "dict = {\"name\":\"Alice\",\"city\":\"Paris\"}\n",
    "if \"city\" in dict:\n",
    "    print(\"city exist\")\n",
    "else:\n",
    "    print(\"city does not exist\")"
   ]
  },
  {
   "cell_type": "code",
   "execution_count": 67,
   "id": "f5ecb372-f145-41c8-ad88-64b95ce5293f",
   "metadata": {},
   "outputs": [
    {
     "name": "stdout",
     "output_type": "stream",
     "text": [
      "['Rahul', 27, 'dehradun']\n",
      "<class 'list'>\n",
      "\n",
      "\n",
      "('Rahul', 27, 'dehradun')\n",
      "<class 'tuple'>\n",
      "\n",
      "\n",
      "{'name': 'rahul', 'age': 27, 'city': 'dehradun'}\n",
      "<class 'dict'>\n"
     ]
    }
   ],
   "source": [
    "# Q26. Write a code to create a list, a tuple, and a dictionary, and print them all ?\n",
    "list = [\"Rahul\",27,\"dehradun\"]\n",
    "\n",
    "tuple = (\"Rahul\",27,\"dehradun\")\n",
    "\n",
    "dict = {\"name\":\"rahul\",\"age\":27,\"city\":\"dehradun\"}\n",
    "\n",
    "print(list)\n",
    "print(type(list))\n",
    "print(\"\\n\")\n",
    "print(tuple)\n",
    "print(type(tuple))\n",
    "print(\"\\n\")\n",
    "print(dict)\n",
    "print(type(dict))"
   ]
  },
  {
   "cell_type": "code",
   "execution_count": 77,
   "id": "63a76609-1bdc-4f4a-a291-70e992ecd468",
   "metadata": {},
   "outputs": [
    {
     "name": "stdout",
     "output_type": "stream",
     "text": [
      "[1, 13, 44, 45, 99]\n"
     ]
    }
   ],
   "source": [
    "# Q27.Write a code to create a list of 5 random numbers between 1 and 100, sort it in ascending order, and print the result.(replaced)\n",
    "import random\n",
    "random_num = [random.randint(1,100) for i in range(5)]\n",
    "\n",
    "random_num.sort()\n",
    "print(random_num)\n"
   ]
  },
  {
   "cell_type": "code",
   "execution_count": 80,
   "id": "ca7bf5f5-bc36-43b1-a056-4d49cc8aad9f",
   "metadata": {},
   "outputs": [
    {
     "name": "stdout",
     "output_type": "stream",
     "text": [
      "Element at third index : naveen\n"
     ]
    }
   ],
   "source": [
    "# Q28.Write a code to create a list with strings and print the element at the third index ?\n",
    "list = [\"ajay\",\"rahul\",\"vijay\",\"naveen\"]\n",
    "print(\"Element at third index :\",list[3])"
   ]
  },
  {
   "cell_type": "code",
   "execution_count": 8,
   "id": "6d8b582d-f3bf-452e-901c-4b6d4630107e",
   "metadata": {},
   "outputs": [
    {
     "data": {
      "text/plain": [
       "{'name': 'rahul', 'age': 27, 'city': 'dehradun'}"
      ]
     },
     "execution_count": 8,
     "metadata": {},
     "output_type": "execute_result"
    }
   ],
   "source": [
    "# Q29.Write a code to combine two dictionaries into one and print the result ?\n",
    "dict1 = {\"name\":\"rahul\",\"age\":27}\n",
    "dict2 = {\"city\":\"dehradun\"}\n",
    "dict1.update(dict2)\n",
    "combined_dict = dict1\n",
    "combined_dict"
   ]
  },
  {
   "cell_type": "code",
   "execution_count": 7,
   "id": "733a7c3c-2f88-4008-b713-64951bbab08f",
   "metadata": {},
   "outputs": [
    {
     "name": "stdout",
     "output_type": "stream",
     "text": [
      "['rahul', 'ajay', 2, 'vijay', 'ajay']\n",
      "{'rahul', 'ajay', 2, 'vijay'}\n"
     ]
    }
   ],
   "source": [
    "# Q30.Write a code to convert a list of strings into a set ?\n",
    "# Define a list of strings\n",
    "list = [\"rahul\",\"ajay\",2,\"vijay\",\"ajay\"]\n",
    "print(list)\n",
    "print(set(list))\n"
   ]
  },
  {
   "cell_type": "code",
   "execution_count": null,
   "id": "d055ad40-b4e9-40c3-9a66-23f89c8a8885",
   "metadata": {},
   "outputs": [],
   "source": []
  },
  {
   "cell_type": "code",
   "execution_count": null,
   "id": "ab6cf7a1-b3ea-48e0-b3c6-2991fb6bbaea",
   "metadata": {},
   "outputs": [],
   "source": []
  }
 ],
 "metadata": {
  "kernelspec": {
   "display_name": "Python 3 (ipykernel)",
   "language": "python",
   "name": "python3"
  },
  "language_info": {
   "codemirror_mode": {
    "name": "ipython",
    "version": 3
   },
   "file_extension": ".py",
   "mimetype": "text/x-python",
   "name": "python",
   "nbconvert_exporter": "python",
   "pygments_lexer": "ipython3",
   "version": "3.13.5"
  }
 },
 "nbformat": 4,
 "nbformat_minor": 5
}
