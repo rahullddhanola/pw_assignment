{
 "cells": [
  {
   "cell_type": "markdown",
   "id": "f457512c-8dea-4f10-a059-683641ba3c40",
   "metadata": {},
   "source": [
    "# Python basics question"
   ]
  },
  {
   "cell_type": "code",
   "execution_count": null,
   "id": "73122c03-abf7-497f-b859-4c5d9ec19ef4",
   "metadata": {},
   "outputs": [],
   "source": [
    "# Q1.What is Python, and why is it popular ?\n",
    "'''Python is considered as one of the most versatile programming language as it can be used to develop almost any kind of application\n",
    "   including desktop application, web application, image processing and many more. it is popular because it is easy to learn and help \n",
    "   programmer to build effective applications for users and businesses.''' \n"
   ]
  },
  {
   "cell_type": "code",
   "execution_count": null,
   "id": "674bcfb3-9d6b-44b5-9d07-f13b398e6ab1",
   "metadata": {},
   "outputs": [],
   "source": [
    "# Q2.What is an interpreter in Python ?\n",
    "''' Interpreter translate and execute the code line by line during runtime.'''"
   ]
  },
  {
   "cell_type": "code",
   "execution_count": null,
   "id": "9d78f739-049f-4c31-8345-b136cb665e3b",
   "metadata": {},
   "outputs": [],
   "source": [
    "# Q3.What are pre-defined keywords in Python ?\n",
    "''' Pre-defined Keywords are reserved words in Python that have special meanings and cannot be used as variable names, function names,\n",
    "     or any other identifiers.'''"
   ]
  },
  {
   "cell_type": "code",
   "execution_count": null,
   "id": "47cf9e32-1a76-4352-b296-bf03f9975952",
   "metadata": {},
   "outputs": [],
   "source": [
    "# Q4.Can keywords be used as variable names ?\n",
    "'''  No keywords cannot be used as variable names because using them as variable names would lead to syntax errors and the compiler\n",
    "     or interpreter would interpret them as language keywords rather than variable names.''' "
   ]
  },
  {
   "cell_type": "code",
   "execution_count": null,
   "id": "d22d1f8b-081e-4036-a341-9299605574db",
   "metadata": {},
   "outputs": [],
   "source": [
    "# Q5.What is mutability in Python ?\n",
    "''' objects whose state or value can be changed after they are created are called as mutable object.'''"
   ]
  },
  {
   "cell_type": "code",
   "execution_count": null,
   "id": "bd4665a6-6822-4e6f-b47d-68c7d6cbc871",
   "metadata": {},
   "outputs": [],
   "source": [
    "# Q6.Why are lists mutable, but tuples are immutable ?\n",
    "''' Lists are mutable because they can be modified after creation but tuples cannot be modified after creation therefore \n",
    "    tuples are immutable.'''"
   ]
  },
  {
   "cell_type": "code",
   "execution_count": null,
   "id": "45271aeb-a77d-49fe-b76b-59dbb1562505",
   "metadata": {},
   "outputs": [],
   "source": [
    "# Q7.What is the difference between “==” and “is” operators in Python \n",
    "''' The \"==\" operator compares the values of two objects. It checks if the content or data held by the objects are the same whereas\n",
    "     The \"is\" operator helps us check whether different variables point towards a similar object in the memory.'''"
   ]
  },
  {
   "cell_type": "code",
   "execution_count": null,
   "id": "3d14d69a-22e9-4a2a-beac-6e7e4ed96ff6",
   "metadata": {},
   "outputs": [],
   "source": [
    "# Q8.What are logical operators in Python ?\n",
    "'''Logical Operators are used on conditional statements in Python as they evaluate the conditions True or False between operands.'''"
   ]
  },
  {
   "cell_type": "code",
   "execution_count": null,
   "id": "9bcd703b-b017-4741-b9e0-34c4c95caf4d",
   "metadata": {},
   "outputs": [],
   "source": [
    "# Q9.What is type casting in Python ?\n",
    "''' Type casting is the process of changing one data type to another in Python. Python provides built-in functions for type casting,\n",
    "    such as int(), float(), str(), list(), tuple(), dict(), etc. '''"
   ]
  },
  {
   "cell_type": "code",
   "execution_count": null,
   "id": "4b44048b-7bea-4f8c-8f06-6a002ae2ef92",
   "metadata": {},
   "outputs": [],
   "source": [
    "# Q10.What is the difference between implicit and explicit type casting ?\n",
    "''' Implicit type casting is done automatically by the compiler when different data types are mixed in an expression whereas \n",
    "    explicit type casting requires a manual instruction from the programmer.'''"
   ]
  },
  {
   "cell_type": "code",
   "execution_count": null,
   "id": "a1bb6fd8-40c9-48b0-9c75-efc2c83723b2",
   "metadata": {},
   "outputs": [],
   "source": [
    "# Q11.What is the purpose of conditional statements in Python ?\n",
    "''' Conditional statements in Python are used to execute certain blocks of code based on specific conditions. \n",
    "    These statements help control the flow of a program.'''"
   ]
  },
  {
   "cell_type": "code",
   "execution_count": null,
   "id": "ea7f0986-c973-47a5-be53-1d60fa5a8d12",
   "metadata": {},
   "outputs": [],
   "source": [
    "# Q12.How does the elif statement work ?\n",
    "''' Elif statement is used when the first if statement isn't true, but you want to check for another condition.'''"
   ]
  },
  {
   "cell_type": "code",
   "execution_count": null,
   "id": "d7db3b8c-28aa-4051-aca8-b188a9e8c371",
   "metadata": {},
   "outputs": [],
   "source": [
    "# Q13.What is the difference between for and while loops ?\n",
    "''' “for” loops are used for iterating over a sequence of elements, while “while” loops are used for executing code until\n",
    "     a specified condition becomes False.'''"
   ]
  },
  {
   "cell_type": "code",
   "execution_count": null,
   "id": "48503db3-1658-4d18-879a-90c86d53ba39",
   "metadata": {},
   "outputs": [],
   "source": [
    "# Q14.Describe a scenario where a while loop is more suitable than a for loop.?\n",
    "''' it is useful for input validation when we dont know how many tries the user will need.'''"
   ]
  },
  {
   "cell_type": "markdown",
   "id": "47065e33-3861-4ce9-b7ae-2f130d1acf27",
   "metadata": {},
   "source": [
    "# Practical Questions"
   ]
  },
  {
   "cell_type": "code",
   "execution_count": 1,
   "id": "a4bb165e-7f0a-451f-8469-3e756e3d138a",
   "metadata": {},
   "outputs": [
    {
     "name": "stdout",
     "output_type": "stream",
     "text": [
      "Hello, World!\n"
     ]
    }
   ],
   "source": [
    "# Q1.Write a Python program to print \"Hello, World!\" ?\n",
    "print(\"Hello, World!\")"
   ]
  },
  {
   "cell_type": "code",
   "execution_count": 2,
   "id": "885976fa-4bb9-4099-ad4e-84da766619d8",
   "metadata": {},
   "outputs": [
    {
     "name": "stdout",
     "output_type": "stream",
     "text": [
      "My name is Rahul Dhanola\n",
      "I am 27 years old\n"
     ]
    }
   ],
   "source": [
    "# Q2.Write a Python program that displays your name and age ?\n",
    "name = \"Rahul Dhanola\"\n",
    "age = 27\n",
    "print(f\"My name is {name}\")\n",
    "print(f\"I am {age} years old\")"
   ]
  },
  {
   "cell_type": "code",
   "execution_count": 13,
   "id": "3c1f2b61-2d7f-4ce6-9d81-c8b0328c73cb",
   "metadata": {},
   "outputs": [
    {
     "name": "stdout",
     "output_type": "stream",
     "text": [
      "['False', 'None', 'True', 'and', 'as', 'assert', 'async', 'await', 'break', 'class', 'continue', 'def', 'del', 'elif', 'else', 'except', 'finally', 'for', 'from', 'global', 'if', 'import', 'in', 'is', 'lambda', 'nonlocal', 'not', 'or', 'pass', 'raise', 'return', 'try', 'while', 'with', 'yield']\n"
     ]
    }
   ],
   "source": [
    "# Q3.Write code to print all the pre-defined keywords in Python using the keyword librar\n",
    "import keyword\n",
    "print(keyword.kwlist)"
   ]
  },
  {
   "cell_type": "code",
   "execution_count": 10,
   "id": "f403b013-7681-4e46-95c2-6c8908b5506c",
   "metadata": {},
   "outputs": [
    {
     "name": "stdin",
     "output_type": "stream",
     "text": [
      "Enter a word : elif\n"
     ]
    },
    {
     "name": "stdout",
     "output_type": "stream",
     "text": [
      "elif is python keyword\n"
     ]
    }
   ],
   "source": [
    "# Q4.Write a program that checks if a given word is a Python keyword.?\n",
    "import keyword\n",
    "\n",
    "word = input(\"Enter a word :\")\n",
    "if keyword.iskeyword(word):\n",
    "    print(f\"{word} is python keyword\")\n",
    "else:\n",
    "    print(f\"{word} is not a python keyword\")"
   ]
  },
  {
   "cell_type": "code",
   "execution_count": 30,
   "id": "ad6bc28b-a806-4758-b2e8-86e8f1c325d3",
   "metadata": {},
   "outputs": [
    {
     "name": "stdout",
     "output_type": "stream",
     "text": [
      "['Rahul', 'Ajay', 'Vijay', 'Aman', 23, 32, 50]\n",
      "Vijay\n",
      "['Rahul', 'Ajay', 'Rohit', 'Aman', 23, 32, 50]\n",
      "<class 'list'>\n",
      "\n",
      "****************************\n",
      "('Ram', 'shyam', 'Vinay', 'saurabh', 25, 26, 27)\n",
      "<class 'tuple'>\n",
      "shyam\n"
     ]
    },
    {
     "ename": "TypeError",
     "evalue": "'tuple' object does not support item assignment",
     "output_type": "error",
     "traceback": [
      "\u001b[31m---------------------------------------------------------------------------\u001b[39m",
      "\u001b[31mTypeError\u001b[39m                                 Traceback (most recent call last)",
      "\u001b[36mCell\u001b[39m\u001b[36m \u001b[39m\u001b[32mIn[30]\u001b[39m\u001b[32m, line 15\u001b[39m\n\u001b[32m     13\u001b[39m \u001b[38;5;28mprint\u001b[39m(\u001b[38;5;28mtype\u001b[39m(\u001b[38;5;28mtuple\u001b[39m))\n\u001b[32m     14\u001b[39m \u001b[38;5;28mprint\u001b[39m(\u001b[38;5;28mtuple\u001b[39m[\u001b[32m1\u001b[39m])\n\u001b[32m---> \u001b[39m\u001b[32m15\u001b[39m \u001b[38;5;28;43mtuple\u001b[39;49m\u001b[43m[\u001b[49m\u001b[32;43m1\u001b[39;49m\u001b[43m]\u001b[49m = \u001b[33m\"\u001b[39m\u001b[33mrohit\u001b[39m\u001b[33m\"\u001b[39m  \u001b[38;5;66;03m# >>> when we try to modify the element its showing error because tuple is immutable(i.e cannot be modified after creation.)\u001b[39;00m\n\u001b[32m     16\u001b[39m \u001b[38;5;28mprint\u001b[39m(\u001b[38;5;28mtuple\u001b[39m)\n",
      "\u001b[31mTypeError\u001b[39m: 'tuple' object does not support item assignment"
     ]
    }
   ],
   "source": [
    "# Q5.Create a list and tuple in Python, and demonstrate how attempting to change an element works differently for each.\n",
    "list = [\"Rahul\",\"Ajay\",\"Vijay\",\"Aman\",23,32,50]\n",
    "print(list)\n",
    "print(list[2])\n",
    "list[2] = \"Rohit\" #>>> changing element\n",
    "print(list) #>>>> it is modified because it is mutable.\n",
    "print(type(list))\n",
    "\n",
    "print(\"\\n****************************\")\n",
    "\n",
    "tuple = (\"Ram\",\"shyam\",\"Vinay\",\"saurabh\",25,26,27)\n",
    "print(tuple)\n",
    "print(type(tuple))\n",
    "print(tuple[1])\n",
    "tuple[1] = \"rohit\"  #>>>> changing element\n",
    "print(tuple)  # >>> when we try to modify the element its showing error because tuple is immutable(i.e cannot be modified after creation.)"
   ]
  },
  {
   "cell_type": "code",
   "execution_count": 4,
   "id": "3780b37f-9927-4db2-98c8-9559c7a7f232",
   "metadata": {},
   "outputs": [
    {
     "name": "stdout",
     "output_type": "stream",
     "text": [
      "Before:\n",
      "x = 10\n",
      "y = [1, 2, 3]\n",
      "\n",
      "After:\n",
      "x = 10\n",
      "y = [1, 2, 3, 10]\n"
     ]
    }
   ],
   "source": [
    "# Q6. Write a function to demonstrate the behavior of mutable and immutable arguments?\n",
    "def test(a, b):\n",
    "    a = a + 5       # Immutable (int) - does not affect original\n",
    "    b.append(10)    # Mutable (list) - affects original\n",
    "\n",
    "# Immutable\n",
    "x = 10\n",
    "\n",
    "# Mutable\n",
    "y = [1, 2, 3]\n",
    "\n",
    "print(\"Before:\")\n",
    "print(\"x =\", x)\n",
    "print(\"y =\", y)\n",
    "\n",
    "test(x, y)\n",
    "\n",
    "print(\"\\nAfter:\")\n",
    "print(\"x =\", x)  # Still 10\n",
    "print(\"y =\", y)  # Now [1, 2, 3, 10]\n"
   ]
  },
  {
   "cell_type": "code",
   "execution_count": 34,
   "id": "9c03da74-f1d1-4715-96cb-56702b2fa4d0",
   "metadata": {},
   "outputs": [
    {
     "name": "stdin",
     "output_type": "stream",
     "text": [
      "Enter 1st Number : 5\n",
      "Enter 2nd number : 2\n"
     ]
    },
    {
     "name": "stdout",
     "output_type": "stream",
     "text": [
      "Additon : 7\n",
      "Subtraction : 3\n",
      "Multiplication : 10\n",
      "Division : 2.5\n",
      "Modulus : 1\n",
      "Exponentiation : 25\n"
     ]
    }
   ],
   "source": [
    "# Q7. Write a program that performs basic arithmetic operations on two user-input numbers?\n",
    "num1 = int(input(\"Enter 1st Number :\"))\n",
    "num2 = int(input(\"Enter 2nd number :\"))\n",
    "print(\"Additon :\",num1 + num2)\n",
    "print(\"Subtraction :\",num1 - num2)\n",
    "print(\"Multiplication :\",num1 * num2)\n",
    "print(\"Division :\",num1 / num2)\n",
    "print(\"Modulus :\",num1 % num2)\n",
    "print(\"Exponentiation :\",num1 ** num2)"
   ]
  },
  {
   "cell_type": "code",
   "execution_count": 52,
   "id": "58e4965b-986e-4894-966c-9eb3ea5a74ef",
   "metadata": {},
   "outputs": [
    {
     "name": "stdout",
     "output_type": "stream",
     "text": [
      "********not operator*********\n",
      "False\n",
      "True\n",
      "\n",
      "*******and operator********\n",
      "False\n",
      "True\n",
      "False\n",
      "\n",
      "*******or operator*********\n",
      "True\n",
      "True\n",
      "False\n"
     ]
    }
   ],
   "source": [
    "# Q8.Write a program to demonstrate the use of logical operators?\n",
    "num1 = 5\n",
    "num2 = 6\n",
    "print(\"********not operator*********\")\n",
    "print(not(num2 > num1)) #------'not' operator gives opposite result\n",
    "print(not(num1 > num2))\n",
    "\n",
    "print(\"\\n*******and operator********\")\n",
    "val1 = 5\n",
    "val2 = 6\n",
    "val3 = 7\n",
    "val4 = 8\n",
    "print(val1 > val2 and val4 > val3) # it returns false if both the condition is not true\n",
    "print(val2 > val1 and val4 > val3) #---it returns True when both the condition is true\n",
    "print(val1 > val2 and val3 > val4) #--it returns false when both the condition is false\n",
    "\n",
    "print(\"\\n*******or operator*********\")\n",
    "print(val1 > val2 or val4 > val3) # it returns true if one of the conditon is true\n",
    "print(val2 > val2 or val4 > val3) # it returns true when both condition is true\n",
    "print(val1 > val2 or val3 > val4) # it returns false when both the condition is false"
   ]
  },
  {
   "cell_type": "code",
   "execution_count": 62,
   "id": "6765beb7-64f1-463a-875a-370189af8463",
   "metadata": {},
   "outputs": [
    {
     "name": "stdin",
     "output_type": "stream",
     "text": [
      "Enter age 27\n",
      "Enter marks 98\n",
      "Enter city dehradun\n"
     ]
    },
    {
     "name": "stdout",
     "output_type": "stream",
     "text": [
      "i am 27 years old\n",
      "i got 98.0 marks\n",
      "i live in True\n",
      "<class 'int'>\n",
      "<class 'float'>\n",
      "<class 'bool'>\n"
     ]
    }
   ],
   "source": [
    "# Q9.Write a Python program to convert user input from string to integer, float, and boolean types?\n",
    "age = int(input(\"Enter age\"))\n",
    "marks = float(input(\"Enter marks\"))\n",
    "city = bool(input(\"Enter city\"))\n",
    "print(f\"i am {age} years old\")\n",
    "print(f\"i got {marks} marks\")\n",
    "print(f\"i live in {city}\")\n",
    "\n",
    "print(type(age))\n",
    "print(type(marks))\n",
    "print(type(city))\n"
   ]
  },
  {
   "cell_type": "code",
   "execution_count": 3,
   "id": "e8ee3af9-5403-44ee-9445-5a03fd6cd507",
   "metadata": {},
   "outputs": [
    {
     "name": "stdout",
     "output_type": "stream",
     "text": [
      "Original string list: ['1', '2', '3', '4', '5']\n",
      "After casting to integers: [1, 2, 3, 4, 5]\n",
      "After casting to floats: [1.0, 2.0, 3.0, 4.0, 5.0]\n",
      "After casting to booleans: [True, True, True, True, True]\n"
     ]
    }
   ],
   "source": [
    "# Q10.Write code to demonstrate type casting with list elements ?\n",
    "string_list = [\"1\", \"2\", \"3\", \"4\", \"5\"]\n",
    "\n",
    "int_list = [int(item) for item in string_list] #------type cast to int\n",
    "\n",
    "float_list = [float(item) for item in string_list] # Type cast to floats\n",
    "\n",
    "bool_list = [bool(item) for item in string_list]# Type cast to boolean \n",
    "\n",
    "print(\"Original string list:\", string_list)\n",
    "print(\"After casting to integers:\", int_list)\n",
    "print(\"After casting to floats:\", float_list)\n",
    "print(\"After casting to booleans:\", bool_list)\n"
   ]
  },
  {
   "cell_type": "code",
   "execution_count": 76,
   "id": "30431991-d11d-450f-a24c-b17296497856",
   "metadata": {},
   "outputs": [
    {
     "name": "stdin",
     "output_type": "stream",
     "text": [
      "Enter number : -8\n"
     ]
    },
    {
     "name": "stdout",
     "output_type": "stream",
     "text": [
      "-8 is negative\n"
     ]
    }
   ],
   "source": [
    "# Q11.Write a program that checks if a number is positive, negative, or zero.\n",
    "number = int(input(\"Enter number :\"))\n",
    "if number < 0:\n",
    "    print(f\"{number} is negative\")\n",
    "elif number == 0:\n",
    "    print(f\"{number} is zero\")\n",
    "elif number > 0:\n",
    "    print(f\"{number} is positive\")\n",
    "else:\n",
    "    print(f\"Invalid number\")"
   ]
  },
  {
   "cell_type": "code",
   "execution_count": 78,
   "id": "76c9bac6-921b-423d-a595-6cc23f8396f4",
   "metadata": {},
   "outputs": [
    {
     "name": "stdout",
     "output_type": "stream",
     "text": [
      "1\n",
      "2\n",
      "3\n",
      "4\n",
      "5\n",
      "6\n",
      "7\n",
      "8\n",
      "9\n",
      "10\n"
     ]
    }
   ],
   "source": [
    "# Q12.Write a for loop to print numbers from 1 to 10 ?\n",
    "for i in range(1,11):\n",
    "    print(i)"
   ]
  },
  {
   "cell_type": "code",
   "execution_count": 90,
   "id": "4b94ef45-709b-4ac7-8d49-74c305996cf5",
   "metadata": {},
   "outputs": [
    {
     "name": "stdout",
     "output_type": "stream",
     "text": [
      "sum of all even numbers between 1 to 50 : 650\n"
     ]
    }
   ],
   "source": [
    "# Q13.Write a Python program to find the sum of all even numbers between 1 and 50 ?\n",
    "sum = 0\n",
    "for num in range(1,51):\n",
    "    if  num % 2==0:\n",
    "        sum += num\n",
    "print(\"sum of all even numbers between 1 to 50 :\",sum)\n",
    "              "
   ]
  },
  {
   "cell_type": "code",
   "execution_count": 2,
   "id": "8528d6e8-1c05-4bd7-87a8-15e033e474b5",
   "metadata": {},
   "outputs": [
    {
     "name": "stdin",
     "output_type": "stream",
     "text": [
      "Enter a string:  rahul\n"
     ]
    },
    {
     "name": "stdout",
     "output_type": "stream",
     "text": [
      "Reversed string: luhar\n"
     ]
    }
   ],
   "source": [
    "# Q14.Write a program to reverse a string using a while loop ?\n",
    "text = input(\"Enter a string: \")\n",
    "\n",
    "reversed_text = \"\"\n",
    "index = len(text) - 1\n",
    "\n",
    "while index >= 0:\n",
    "    reversed_text += text[index]\n",
    "    index -= 1\n",
    "print(\"Reversed string:\", reversed_text)\n"
   ]
  },
  {
   "cell_type": "code",
   "execution_count": 93,
   "id": "0e36fa72-242e-4551-8335-e256c6637f5d",
   "metadata": {},
   "outputs": [
    {
     "name": "stdin",
     "output_type": "stream",
     "text": [
      "Enter number 5\n"
     ]
    },
    {
     "name": "stdout",
     "output_type": "stream",
     "text": [
      "Factorial : 120\n"
     ]
    }
   ],
   "source": [
    "# Q15.Write a Python program to calculate the factorial of a number provided by the user using a while loop ?\n",
    "num = int(input(\"Enter number\"))\n",
    "fact = 1\n",
    "i = 1\n",
    "while i <= num:\n",
    "    fact *= i\n",
    "    i += 1\n",
    "print(\"Factorial :\",fact)"
   ]
  },
  {
   "cell_type": "code",
   "execution_count": null,
   "id": "0f0e4ce1-b0a0-4fb5-a06a-cbaa244fb5f9",
   "metadata": {},
   "outputs": [],
   "source": []
  },
  {
   "cell_type": "code",
   "execution_count": null,
   "id": "b049b7c8-5e14-4367-af73-32e25cd492ba",
   "metadata": {},
   "outputs": [],
   "source": []
  },
  {
   "cell_type": "code",
   "execution_count": null,
   "id": "f61f0a8c-fd1c-4584-a22b-a75dc5de1959",
   "metadata": {},
   "outputs": [],
   "source": []
  },
  {
   "cell_type": "code",
   "execution_count": null,
   "id": "de92f634-e9da-446e-84a3-5190a92ebceb",
   "metadata": {},
   "outputs": [],
   "source": []
  },
  {
   "cell_type": "code",
   "execution_count": null,
   "id": "2283650d-fce1-4000-9bbc-0358c871dd55",
   "metadata": {},
   "outputs": [],
   "source": []
  },
  {
   "cell_type": "code",
   "execution_count": null,
   "id": "e1ba8e5d-d14e-4be2-b113-095aaa0f0348",
   "metadata": {},
   "outputs": [],
   "source": []
  },
  {
   "cell_type": "code",
   "execution_count": null,
   "id": "e85f8297-84b2-4ea0-b6be-003e98675cdb",
   "metadata": {},
   "outputs": [],
   "source": []
  },
  {
   "cell_type": "code",
   "execution_count": null,
   "id": "552e53eb-e92b-4942-81da-aaeab5fcf90a",
   "metadata": {},
   "outputs": [],
   "source": []
  }
 ],
 "metadata": {
  "kernelspec": {
   "display_name": "Python 3 (ipykernel)",
   "language": "python",
   "name": "python3"
  },
  "language_info": {
   "codemirror_mode": {
    "name": "ipython",
    "version": 3
   },
   "file_extension": ".py",
   "mimetype": "text/x-python",
   "name": "python",
   "nbconvert_exporter": "python",
   "pygments_lexer": "ipython3",
   "version": "3.13.5"
  }
 },
 "nbformat": 4,
 "nbformat_minor": 5
}
